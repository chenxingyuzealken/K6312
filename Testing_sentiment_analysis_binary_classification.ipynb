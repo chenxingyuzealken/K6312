{
  "nbformat": 4,
  "nbformat_minor": 0,
  "metadata": {
    "colab": {
      "name": "Testing_sentiment_analysis_binary_classification.ipynb",
      "provenance": [],
      "toc_visible": true,
      "include_colab_link": true
    },
    "kernelspec": {
      "display_name": "Python 3",
      "name": "python3"
    },
    "widgets": {
      "application/vnd.jupyter.widget-state+json": {
        "6a753001b25b437ca47d5e265e999d59": {
          "model_module": "@jupyter-widgets/controls",
          "model_name": "HBoxModel",
          "state": {
            "_view_name": "HBoxView",
            "_dom_classes": [],
            "_model_name": "HBoxModel",
            "_view_module": "@jupyter-widgets/controls",
            "_model_module_version": "1.5.0",
            "_view_count": null,
            "_view_module_version": "1.5.0",
            "box_style": "",
            "layout": "IPY_MODEL_801655574ae94be0b39e1f5f7d85169f",
            "_model_module": "@jupyter-widgets/controls",
            "children": [
              "IPY_MODEL_c83b38506a02416ebd78626488c9b931",
              "IPY_MODEL_62406ee3fc5246b183a4bc29f77c3786"
            ]
          }
        },
        "801655574ae94be0b39e1f5f7d85169f": {
          "model_module": "@jupyter-widgets/base",
          "model_name": "LayoutModel",
          "state": {
            "_view_name": "LayoutView",
            "grid_template_rows": null,
            "right": null,
            "justify_content": null,
            "_view_module": "@jupyter-widgets/base",
            "overflow": null,
            "_model_module_version": "1.2.0",
            "_view_count": null,
            "flex_flow": null,
            "width": null,
            "min_width": null,
            "border": null,
            "align_items": null,
            "bottom": null,
            "_model_module": "@jupyter-widgets/base",
            "top": null,
            "grid_column": null,
            "overflow_y": null,
            "overflow_x": null,
            "grid_auto_flow": null,
            "grid_area": null,
            "grid_template_columns": null,
            "flex": null,
            "_model_name": "LayoutModel",
            "justify_items": null,
            "grid_row": null,
            "max_height": null,
            "align_content": null,
            "visibility": null,
            "align_self": null,
            "height": null,
            "min_height": null,
            "padding": null,
            "grid_auto_rows": null,
            "grid_gap": null,
            "max_width": null,
            "order": null,
            "_view_module_version": "1.2.0",
            "grid_template_areas": null,
            "object_position": null,
            "object_fit": null,
            "grid_auto_columns": null,
            "margin": null,
            "display": null,
            "left": null
          }
        },
        "c83b38506a02416ebd78626488c9b931": {
          "model_module": "@jupyter-widgets/controls",
          "model_name": "FloatProgressModel",
          "state": {
            "_view_name": "ProgressView",
            "style": "IPY_MODEL_44aaaf2b3b2049bdac0767d536d1b417",
            "_dom_classes": [],
            "description": "100%",
            "_model_name": "FloatProgressModel",
            "bar_style": "success",
            "max": 46619,
            "_view_module": "@jupyter-widgets/controls",
            "_model_module_version": "1.5.0",
            "value": 46619,
            "_view_count": null,
            "_view_module_version": "1.5.0",
            "orientation": "horizontal",
            "min": 0,
            "description_tooltip": null,
            "_model_module": "@jupyter-widgets/controls",
            "layout": "IPY_MODEL_bb4badf5dedb4f488bc827f7097732d0"
          }
        },
        "62406ee3fc5246b183a4bc29f77c3786": {
          "model_module": "@jupyter-widgets/controls",
          "model_name": "HTMLModel",
          "state": {
            "_view_name": "HTMLView",
            "style": "IPY_MODEL_756f71e8f87c4092be13cd4a757983b5",
            "_dom_classes": [],
            "description": "",
            "_model_name": "HTMLModel",
            "placeholder": "​",
            "_view_module": "@jupyter-widgets/controls",
            "_model_module_version": "1.5.0",
            "value": " 46619/46619 [00:46&lt;00:00, 999.88it/s]",
            "_view_count": null,
            "_view_module_version": "1.5.0",
            "description_tooltip": null,
            "_model_module": "@jupyter-widgets/controls",
            "layout": "IPY_MODEL_b2a10a64ef754825b1b609d01b4df029"
          }
        },
        "44aaaf2b3b2049bdac0767d536d1b417": {
          "model_module": "@jupyter-widgets/controls",
          "model_name": "ProgressStyleModel",
          "state": {
            "_view_name": "StyleView",
            "_model_name": "ProgressStyleModel",
            "description_width": "initial",
            "_view_module": "@jupyter-widgets/base",
            "_model_module_version": "1.5.0",
            "_view_count": null,
            "_view_module_version": "1.2.0",
            "bar_color": null,
            "_model_module": "@jupyter-widgets/controls"
          }
        },
        "bb4badf5dedb4f488bc827f7097732d0": {
          "model_module": "@jupyter-widgets/base",
          "model_name": "LayoutModel",
          "state": {
            "_view_name": "LayoutView",
            "grid_template_rows": null,
            "right": null,
            "justify_content": null,
            "_view_module": "@jupyter-widgets/base",
            "overflow": null,
            "_model_module_version": "1.2.0",
            "_view_count": null,
            "flex_flow": null,
            "width": null,
            "min_width": null,
            "border": null,
            "align_items": null,
            "bottom": null,
            "_model_module": "@jupyter-widgets/base",
            "top": null,
            "grid_column": null,
            "overflow_y": null,
            "overflow_x": null,
            "grid_auto_flow": null,
            "grid_area": null,
            "grid_template_columns": null,
            "flex": null,
            "_model_name": "LayoutModel",
            "justify_items": null,
            "grid_row": null,
            "max_height": null,
            "align_content": null,
            "visibility": null,
            "align_self": null,
            "height": null,
            "min_height": null,
            "padding": null,
            "grid_auto_rows": null,
            "grid_gap": null,
            "max_width": null,
            "order": null,
            "_view_module_version": "1.2.0",
            "grid_template_areas": null,
            "object_position": null,
            "object_fit": null,
            "grid_auto_columns": null,
            "margin": null,
            "display": null,
            "left": null
          }
        },
        "756f71e8f87c4092be13cd4a757983b5": {
          "model_module": "@jupyter-widgets/controls",
          "model_name": "DescriptionStyleModel",
          "state": {
            "_view_name": "StyleView",
            "_model_name": "DescriptionStyleModel",
            "description_width": "",
            "_view_module": "@jupyter-widgets/base",
            "_model_module_version": "1.5.0",
            "_view_count": null,
            "_view_module_version": "1.2.0",
            "_model_module": "@jupyter-widgets/controls"
          }
        },
        "b2a10a64ef754825b1b609d01b4df029": {
          "model_module": "@jupyter-widgets/base",
          "model_name": "LayoutModel",
          "state": {
            "_view_name": "LayoutView",
            "grid_template_rows": null,
            "right": null,
            "justify_content": null,
            "_view_module": "@jupyter-widgets/base",
            "overflow": null,
            "_model_module_version": "1.2.0",
            "_view_count": null,
            "flex_flow": null,
            "width": null,
            "min_width": null,
            "border": null,
            "align_items": null,
            "bottom": null,
            "_model_module": "@jupyter-widgets/base",
            "top": null,
            "grid_column": null,
            "overflow_y": null,
            "overflow_x": null,
            "grid_auto_flow": null,
            "grid_area": null,
            "grid_template_columns": null,
            "flex": null,
            "_model_name": "LayoutModel",
            "justify_items": null,
            "grid_row": null,
            "max_height": null,
            "align_content": null,
            "visibility": null,
            "align_self": null,
            "height": null,
            "min_height": null,
            "padding": null,
            "grid_auto_rows": null,
            "grid_gap": null,
            "max_width": null,
            "order": null,
            "_view_module_version": "1.2.0",
            "grid_template_areas": null,
            "object_position": null,
            "object_fit": null,
            "grid_auto_columns": null,
            "margin": null,
            "display": null,
            "left": null
          }
        },
        "1063b8a964f642b9b91a7f42084f8fd0": {
          "model_module": "@jupyter-widgets/controls",
          "model_name": "HBoxModel",
          "state": {
            "_view_name": "HBoxView",
            "_dom_classes": [],
            "_model_name": "HBoxModel",
            "_view_module": "@jupyter-widgets/controls",
            "_model_module_version": "1.5.0",
            "_view_count": null,
            "_view_module_version": "1.5.0",
            "box_style": "",
            "layout": "IPY_MODEL_799f745d5f604ee5a69d1091bf06e119",
            "_model_module": "@jupyter-widgets/controls",
            "children": [
              "IPY_MODEL_11fbd1e8798b4d1fae6d08d09351ab2b",
              "IPY_MODEL_ccb8d24974504785b3f9f20c80528230"
            ]
          }
        },
        "799f745d5f604ee5a69d1091bf06e119": {
          "model_module": "@jupyter-widgets/base",
          "model_name": "LayoutModel",
          "state": {
            "_view_name": "LayoutView",
            "grid_template_rows": null,
            "right": null,
            "justify_content": null,
            "_view_module": "@jupyter-widgets/base",
            "overflow": null,
            "_model_module_version": "1.2.0",
            "_view_count": null,
            "flex_flow": null,
            "width": null,
            "min_width": null,
            "border": null,
            "align_items": null,
            "bottom": null,
            "_model_module": "@jupyter-widgets/base",
            "top": null,
            "grid_column": null,
            "overflow_y": null,
            "overflow_x": null,
            "grid_auto_flow": null,
            "grid_area": null,
            "grid_template_columns": null,
            "flex": null,
            "_model_name": "LayoutModel",
            "justify_items": null,
            "grid_row": null,
            "max_height": null,
            "align_content": null,
            "visibility": null,
            "align_self": null,
            "height": null,
            "min_height": null,
            "padding": null,
            "grid_auto_rows": null,
            "grid_gap": null,
            "max_width": null,
            "order": null,
            "_view_module_version": "1.2.0",
            "grid_template_areas": null,
            "object_position": null,
            "object_fit": null,
            "grid_auto_columns": null,
            "margin": null,
            "display": null,
            "left": null
          }
        },
        "11fbd1e8798b4d1fae6d08d09351ab2b": {
          "model_module": "@jupyter-widgets/controls",
          "model_name": "FloatProgressModel",
          "state": {
            "_view_name": "ProgressView",
            "style": "IPY_MODEL_c22ee6c8e63442d6a2bd762b9a3b3484",
            "_dom_classes": [],
            "description": "100%",
            "_model_name": "FloatProgressModel",
            "bar_style": "success",
            "max": 46620,
            "_view_module": "@jupyter-widgets/controls",
            "_model_module_version": "1.5.0",
            "value": 46620,
            "_view_count": null,
            "_view_module_version": "1.5.0",
            "orientation": "horizontal",
            "min": 0,
            "description_tooltip": null,
            "_model_module": "@jupyter-widgets/controls",
            "layout": "IPY_MODEL_2a98500e022c421e8f19cda412decbeb"
          }
        },
        "ccb8d24974504785b3f9f20c80528230": {
          "model_module": "@jupyter-widgets/controls",
          "model_name": "HTMLModel",
          "state": {
            "_view_name": "HTMLView",
            "style": "IPY_MODEL_a01293d5ce5c4e86a4527ad42af711b1",
            "_dom_classes": [],
            "description": "",
            "_model_name": "HTMLModel",
            "placeholder": "​",
            "_view_module": "@jupyter-widgets/controls",
            "_model_module_version": "1.5.0",
            "value": " 46620/46620 [00:25&lt;00:00, 1824.31it/s]",
            "_view_count": null,
            "_view_module_version": "1.5.0",
            "description_tooltip": null,
            "_model_module": "@jupyter-widgets/controls",
            "layout": "IPY_MODEL_b8d2d065e1c240c7b53fc50a2727775d"
          }
        },
        "c22ee6c8e63442d6a2bd762b9a3b3484": {
          "model_module": "@jupyter-widgets/controls",
          "model_name": "ProgressStyleModel",
          "state": {
            "_view_name": "StyleView",
            "_model_name": "ProgressStyleModel",
            "description_width": "initial",
            "_view_module": "@jupyter-widgets/base",
            "_model_module_version": "1.5.0",
            "_view_count": null,
            "_view_module_version": "1.2.0",
            "bar_color": null,
            "_model_module": "@jupyter-widgets/controls"
          }
        },
        "2a98500e022c421e8f19cda412decbeb": {
          "model_module": "@jupyter-widgets/base",
          "model_name": "LayoutModel",
          "state": {
            "_view_name": "LayoutView",
            "grid_template_rows": null,
            "right": null,
            "justify_content": null,
            "_view_module": "@jupyter-widgets/base",
            "overflow": null,
            "_model_module_version": "1.2.0",
            "_view_count": null,
            "flex_flow": null,
            "width": null,
            "min_width": null,
            "border": null,
            "align_items": null,
            "bottom": null,
            "_model_module": "@jupyter-widgets/base",
            "top": null,
            "grid_column": null,
            "overflow_y": null,
            "overflow_x": null,
            "grid_auto_flow": null,
            "grid_area": null,
            "grid_template_columns": null,
            "flex": null,
            "_model_name": "LayoutModel",
            "justify_items": null,
            "grid_row": null,
            "max_height": null,
            "align_content": null,
            "visibility": null,
            "align_self": null,
            "height": null,
            "min_height": null,
            "padding": null,
            "grid_auto_rows": null,
            "grid_gap": null,
            "max_width": null,
            "order": null,
            "_view_module_version": "1.2.0",
            "grid_template_areas": null,
            "object_position": null,
            "object_fit": null,
            "grid_auto_columns": null,
            "margin": null,
            "display": null,
            "left": null
          }
        },
        "a01293d5ce5c4e86a4527ad42af711b1": {
          "model_module": "@jupyter-widgets/controls",
          "model_name": "DescriptionStyleModel",
          "state": {
            "_view_name": "StyleView",
            "_model_name": "DescriptionStyleModel",
            "description_width": "",
            "_view_module": "@jupyter-widgets/base",
            "_model_module_version": "1.5.0",
            "_view_count": null,
            "_view_module_version": "1.2.0",
            "_model_module": "@jupyter-widgets/controls"
          }
        },
        "b8d2d065e1c240c7b53fc50a2727775d": {
          "model_module": "@jupyter-widgets/base",
          "model_name": "LayoutModel",
          "state": {
            "_view_name": "LayoutView",
            "grid_template_rows": null,
            "right": null,
            "justify_content": null,
            "_view_module": "@jupyter-widgets/base",
            "overflow": null,
            "_model_module_version": "1.2.0",
            "_view_count": null,
            "flex_flow": null,
            "width": null,
            "min_width": null,
            "border": null,
            "align_items": null,
            "bottom": null,
            "_model_module": "@jupyter-widgets/base",
            "top": null,
            "grid_column": null,
            "overflow_y": null,
            "overflow_x": null,
            "grid_auto_flow": null,
            "grid_area": null,
            "grid_template_columns": null,
            "flex": null,
            "_model_name": "LayoutModel",
            "justify_items": null,
            "grid_row": null,
            "max_height": null,
            "align_content": null,
            "visibility": null,
            "align_self": null,
            "height": null,
            "min_height": null,
            "padding": null,
            "grid_auto_rows": null,
            "grid_gap": null,
            "max_width": null,
            "order": null,
            "_view_module_version": "1.2.0",
            "grid_template_areas": null,
            "object_position": null,
            "object_fit": null,
            "grid_auto_columns": null,
            "margin": null,
            "display": null,
            "left": null
          }
        }
      }
    }
  },
  "cells": [
    {
      "cell_type": "markdown",
      "metadata": {
        "id": "view-in-github",
        "colab_type": "text"
      },
      "source": [
        "<a href=\"https://colab.research.google.com/github/workhardzy/K6312/blob/main/Testing_sentiment_analysis_binary_classification.ipynb\" target=\"_parent\"><img src=\"https://colab.research.google.com/assets/colab-badge.svg\" alt=\"Open In Colab\"/></a>"
      ]
    },
    {
      "cell_type": "code",
      "metadata": {
        "id": "KRUCXlGReydD",
        "colab": {
          "base_uri": "https://localhost:8080/"
        },
        "outputId": "ce4cf305-a2d1-409e-ba5a-0179b805cad4"
      },
      "source": [
        "from google.colab import drive\n",
        "drive.mount(\"/content/gdrive\")"
      ],
      "execution_count": null,
      "outputs": [
        {
          "output_type": "stream",
          "text": [
            "Drive already mounted at /content/gdrive; to attempt to forcibly remount, call drive.mount(\"/content/gdrive\", force_remount=True).\n"
          ],
          "name": "stdout"
        }
      ]
    },
    {
      "cell_type": "code",
      "metadata": {
        "id": "QqKj0LoLfY_s"
      },
      "source": [
        "import pandas as pd\n",
        "import numpy as np\n",
        "import time\n",
        "\n",
        "import sklearn\n",
        "from sklearn.model_selection import train_test_split\n",
        "from sklearn.metrics import classification_report, accuracy_score, confusion_matrix\n",
        "\n",
        "from IPython.display import display\n",
        "import pickle\n",
        "from tqdm.notebook import tqdm\n"
      ],
      "execution_count": null,
      "outputs": []
    },
    {
      "cell_type": "markdown",
      "metadata": {
        "id": "QV0XgKDRivav"
      },
      "source": [
        "loading data"
      ]
    },
    {
      "cell_type": "code",
      "metadata": {
        "id": "v0zjBiFaxgPa",
        "colab": {
          "base_uri": "https://localhost:8080/",
          "height": 589
        },
        "outputId": "37b4804c-0cf2-43cb-b538-13624ad347f5"
      },
      "source": [
        "#https://archive.ics.uci.edu/ml/datasets/News+Popularity+in+Multiple+Social+Media+Platforms\n",
        "#https://www.kaggle.com/therohk/million-headlines\n",
        "\n",
        "path = '/content/gdrive/My Drive/covid_mining/UCI/News_Final.csv' \n",
        "df = pd.read_csv(path,encoding='UTF-8')\n",
        "df"
      ],
      "execution_count": null,
      "outputs": [
        {
          "output_type": "execute_result",
          "data": {
            "text/html": [
              "<div>\n",
              "<style scoped>\n",
              "    .dataframe tbody tr th:only-of-type {\n",
              "        vertical-align: middle;\n",
              "    }\n",
              "\n",
              "    .dataframe tbody tr th {\n",
              "        vertical-align: top;\n",
              "    }\n",
              "\n",
              "    .dataframe thead th {\n",
              "        text-align: right;\n",
              "    }\n",
              "</style>\n",
              "<table border=\"1\" class=\"dataframe\">\n",
              "  <thead>\n",
              "    <tr style=\"text-align: right;\">\n",
              "      <th></th>\n",
              "      <th>IDLink</th>\n",
              "      <th>Title</th>\n",
              "      <th>Headline</th>\n",
              "      <th>Source</th>\n",
              "      <th>Topic</th>\n",
              "      <th>PublishDate</th>\n",
              "      <th>SentimentTitle</th>\n",
              "      <th>SentimentHeadline</th>\n",
              "      <th>Facebook</th>\n",
              "      <th>GooglePlus</th>\n",
              "      <th>LinkedIn</th>\n",
              "    </tr>\n",
              "  </thead>\n",
              "  <tbody>\n",
              "    <tr>\n",
              "      <th>0</th>\n",
              "      <td>99248.0</td>\n",
              "      <td>Obama Lays Wreath at Arlington National Cemetery</td>\n",
              "      <td>Obama Lays Wreath at Arlington National Cemete...</td>\n",
              "      <td>USA TODAY</td>\n",
              "      <td>obama</td>\n",
              "      <td>2002-04-02 00:00:00</td>\n",
              "      <td>0.000000</td>\n",
              "      <td>-0.053300</td>\n",
              "      <td>-1</td>\n",
              "      <td>-1</td>\n",
              "      <td>-1</td>\n",
              "    </tr>\n",
              "    <tr>\n",
              "      <th>1</th>\n",
              "      <td>10423.0</td>\n",
              "      <td>A Look at the Health of the Chinese Economy</td>\n",
              "      <td>Tim Haywood, investment director business-unit...</td>\n",
              "      <td>Bloomberg</td>\n",
              "      <td>economy</td>\n",
              "      <td>2008-09-20 00:00:00</td>\n",
              "      <td>0.208333</td>\n",
              "      <td>-0.156386</td>\n",
              "      <td>-1</td>\n",
              "      <td>-1</td>\n",
              "      <td>-1</td>\n",
              "    </tr>\n",
              "    <tr>\n",
              "      <th>2</th>\n",
              "      <td>18828.0</td>\n",
              "      <td>Nouriel Roubini: Global Economy Not Back to 2008</td>\n",
              "      <td>Nouriel Roubini, NYU professor and chairman at...</td>\n",
              "      <td>Bloomberg</td>\n",
              "      <td>economy</td>\n",
              "      <td>2012-01-28 00:00:00</td>\n",
              "      <td>-0.425210</td>\n",
              "      <td>0.139754</td>\n",
              "      <td>-1</td>\n",
              "      <td>-1</td>\n",
              "      <td>-1</td>\n",
              "    </tr>\n",
              "    <tr>\n",
              "      <th>3</th>\n",
              "      <td>27788.0</td>\n",
              "      <td>Finland GDP Expands In Q4</td>\n",
              "      <td>Finland's economy expanded marginally in the t...</td>\n",
              "      <td>RTT News</td>\n",
              "      <td>economy</td>\n",
              "      <td>2015-03-01 00:06:00</td>\n",
              "      <td>0.000000</td>\n",
              "      <td>0.026064</td>\n",
              "      <td>-1</td>\n",
              "      <td>-1</td>\n",
              "      <td>-1</td>\n",
              "    </tr>\n",
              "    <tr>\n",
              "      <th>4</th>\n",
              "      <td>27789.0</td>\n",
              "      <td>Tourism, govt spending buoys Thai economy in J...</td>\n",
              "      <td>Tourism and public spending continued to boost...</td>\n",
              "      <td>The Nation - Thailand&amp;#39;s English news</td>\n",
              "      <td>economy</td>\n",
              "      <td>2015-03-01 00:11:00</td>\n",
              "      <td>0.000000</td>\n",
              "      <td>0.141084</td>\n",
              "      <td>-1</td>\n",
              "      <td>-1</td>\n",
              "      <td>-1</td>\n",
              "    </tr>\n",
              "    <tr>\n",
              "      <th>...</th>\n",
              "      <td>...</td>\n",
              "      <td>...</td>\n",
              "      <td>...</td>\n",
              "      <td>...</td>\n",
              "      <td>...</td>\n",
              "      <td>...</td>\n",
              "      <td>...</td>\n",
              "      <td>...</td>\n",
              "      <td>...</td>\n",
              "      <td>...</td>\n",
              "      <td>...</td>\n",
              "    </tr>\n",
              "    <tr>\n",
              "      <th>93234</th>\n",
              "      <td>61851.0</td>\n",
              "      <td>Stocks rise as investors key in on US economy ...</td>\n",
              "      <td>The June employment report is viewed as a cruc...</td>\n",
              "      <td>MarketWatch</td>\n",
              "      <td>economy</td>\n",
              "      <td>2016-07-07 15:31:05</td>\n",
              "      <td>0.104284</td>\n",
              "      <td>0.044943</td>\n",
              "      <td>-1</td>\n",
              "      <td>3</td>\n",
              "      <td>5</td>\n",
              "    </tr>\n",
              "    <tr>\n",
              "      <th>93235</th>\n",
              "      <td>61865.0</td>\n",
              "      <td>Russian PM proposes to use conservative and to...</td>\n",
              "      <td>In addition, establish stimulating economic po...</td>\n",
              "      <td>TASS</td>\n",
              "      <td>economy</td>\n",
              "      <td>2016-07-07 15:31:10</td>\n",
              "      <td>0.072194</td>\n",
              "      <td>0.000000</td>\n",
              "      <td>-1</td>\n",
              "      <td>0</td>\n",
              "      <td>1</td>\n",
              "    </tr>\n",
              "    <tr>\n",
              "      <th>93236</th>\n",
              "      <td>104793.0</td>\n",
              "      <td>Palestinian Government Uses Foreign Aid To Pay...</td>\n",
              "      <td>The Palestinian government spends nearly $140 ...</td>\n",
              "      <td>Daily Caller</td>\n",
              "      <td>palestine</td>\n",
              "      <td>2016-07-07 15:38:26</td>\n",
              "      <td>0.291667</td>\n",
              "      <td>-0.139754</td>\n",
              "      <td>5</td>\n",
              "      <td>1</td>\n",
              "      <td>0</td>\n",
              "    </tr>\n",
              "    <tr>\n",
              "      <th>93237</th>\n",
              "      <td>104794.0</td>\n",
              "      <td>Palestine Youth Orchestra prepares for first U...</td>\n",
              "      <td>Palestine Youth Orchestra prepares for first U...</td>\n",
              "      <td>Ahram Online</td>\n",
              "      <td>palestine</td>\n",
              "      <td>2016-07-07 15:59:22</td>\n",
              "      <td>0.121534</td>\n",
              "      <td>0.092313</td>\n",
              "      <td>0</td>\n",
              "      <td>0</td>\n",
              "      <td>0</td>\n",
              "    </tr>\n",
              "    <tr>\n",
              "      <th>93238</th>\n",
              "      <td>61870.0</td>\n",
              "      <td>Sausalito businesswoman wins $10000 in Microso...</td>\n",
              "      <td>Goldstein, the proprietor of the TG Travel Gro...</td>\n",
              "      <td>East Bay Times</td>\n",
              "      <td>microsoft</td>\n",
              "      <td>2016-07-07 16:16:11</td>\n",
              "      <td>0.000000</td>\n",
              "      <td>0.054554</td>\n",
              "      <td>-1</td>\n",
              "      <td>1</td>\n",
              "      <td>0</td>\n",
              "    </tr>\n",
              "  </tbody>\n",
              "</table>\n",
              "<p>93239 rows × 11 columns</p>\n",
              "</div>"
            ],
            "text/plain": [
              "         IDLink  ... LinkedIn\n",
              "0       99248.0  ...       -1\n",
              "1       10423.0  ...       -1\n",
              "2       18828.0  ...       -1\n",
              "3       27788.0  ...       -1\n",
              "4       27789.0  ...       -1\n",
              "...         ...  ...      ...\n",
              "93234   61851.0  ...        5\n",
              "93235   61865.0  ...        1\n",
              "93236  104793.0  ...        0\n",
              "93237  104794.0  ...        0\n",
              "93238   61870.0  ...        0\n",
              "\n",
              "[93239 rows x 11 columns]"
            ]
          },
          "metadata": {
            "tags": []
          },
          "execution_count": 3
        }
      ]
    },
    {
      "cell_type": "code",
      "metadata": {
        "id": "1yPnjF0dxmE-",
        "colab": {
          "base_uri": "https://localhost:8080/"
        },
        "outputId": "105eccb2-bbaf-4628-c0e7-d080c20420be"
      },
      "source": [
        "df['SentimentTitle'].describe()"
      ],
      "execution_count": null,
      "outputs": [
        {
          "output_type": "execute_result",
          "data": {
            "text/plain": [
              "count    93239.000000\n",
              "mean        -0.005411\n",
              "std          0.136431\n",
              "min         -0.950694\n",
              "25%         -0.079057\n",
              "50%          0.000000\n",
              "75%          0.064255\n",
              "max          0.962354\n",
              "Name: SentimentTitle, dtype: float64"
            ]
          },
          "metadata": {
            "tags": []
          },
          "execution_count": 4
        }
      ]
    },
    {
      "cell_type": "code",
      "metadata": {
        "id": "59M5vV1RybjC"
      },
      "source": [
        "#transforming the data between 0-1\n",
        "def transform_to_label(x):\n",
        "    if x > 0:\n",
        "        return 1\n",
        "    else:\n",
        "        return 0\n",
        "\n",
        "df['SentimentTitle_label'] = df['SentimentTitle'].apply(lambda x: transform_to_label(x))"
      ],
      "execution_count": null,
      "outputs": []
    },
    {
      "cell_type": "code",
      "metadata": {
        "id": "GfzarzR4WXx2",
        "colab": {
          "base_uri": "https://localhost:8080/"
        },
        "outputId": "0104616d-a395-40bc-a625-4f38b1fc38fc"
      },
      "source": [
        "df['SentimentTitle_label'].value_counts()"
      ],
      "execution_count": null,
      "outputs": [
        {
          "output_type": "execute_result",
          "data": {
            "text/plain": [
              "0    56650\n",
              "1    36589\n",
              "Name: SentimentTitle_label, dtype: int64"
            ]
          },
          "metadata": {
            "tags": []
          },
          "execution_count": 6
        }
      ]
    },
    {
      "cell_type": "code",
      "metadata": {
        "id": "kJrVA9WgYDk_"
      },
      "source": [
        "df = df[['Title','SentimentTitle_label']]\n",
        "df.columns = ['Text','Label']\n",
        "X = df['Text'].fillna('').tolist()\n",
        "X = [str(i) for i in X]\n",
        "y = df['Label'].fillna('').tolist()"
      ],
      "execution_count": null,
      "outputs": []
    },
    {
      "cell_type": "markdown",
      "metadata": {
        "id": "oyYxqu2YaCwf"
      },
      "source": [
        "For the million headlines"
      ]
    },
    {
      "cell_type": "markdown",
      "metadata": {
        "id": "yFQWu7FVitN1"
      },
      "source": [
        "Train test split"
      ]
    },
    {
      "cell_type": "code",
      "metadata": {
        "id": "YcU7gS3Cg74I"
      },
      "source": [
        "RANDOM_STATE = 42\n",
        "\n",
        "X_train, X_test, y_train, y_test = train_test_split(X, y, test_size=0.5, random_state=RANDOM_STATE)\n"
      ],
      "execution_count": null,
      "outputs": []
    },
    {
      "cell_type": "markdown",
      "metadata": {
        "id": "1xo7QzLye_HF"
      },
      "source": [
        "#text preprocessing"
      ]
    },
    {
      "cell_type": "code",
      "metadata": {
        "id": "cIR8t7rbe8JJ",
        "colab": {
          "base_uri": "https://localhost:8080/"
        },
        "outputId": "e0748981-f4e9-4cdb-fee7-a74b1b214ee2"
      },
      "source": [
        "from bs4 import BeautifulSoup\n",
        "import nltk\n",
        "from nltk.util import ngrams\n",
        "from nltk.stem import WordNetLemmatizer\n",
        "from nltk.corpus import stopwords, wordnet\n",
        "from nltk.stem import PorterStemmer\n",
        "from nltk import word_tokenize\n",
        "import re\n",
        "import pickle\n",
        "\n",
        "\n",
        "nltk.download('wordnet')\n",
        "nltk.download('stopwords')\n",
        "nltk.download('punkt')"
      ],
      "execution_count": null,
      "outputs": [
        {
          "output_type": "stream",
          "text": [
            "[nltk_data] Downloading package wordnet to /root/nltk_data...\n",
            "[nltk_data]   Package wordnet is already up-to-date!\n",
            "[nltk_data] Downloading package stopwords to /root/nltk_data...\n",
            "[nltk_data]   Package stopwords is already up-to-date!\n",
            "[nltk_data] Downloading package punkt to /root/nltk_data...\n",
            "[nltk_data]   Package punkt is already up-to-date!\n"
          ],
          "name": "stdout"
        },
        {
          "output_type": "execute_result",
          "data": {
            "text/plain": [
              "True"
            ]
          },
          "metadata": {
            "tags": []
          },
          "execution_count": 9
        }
      ]
    },
    {
      "cell_type": "code",
      "metadata": {
        "id": "cZeGgwQxfBP2",
        "colab": {
          "base_uri": "https://localhost:8080/",
          "height": 140
        },
        "outputId": "a10a19ca-9290-41eb-d8a3-0f66eafc7b59"
      },
      "source": [
        "#to remove html tags, lemmatisation . etc etc\n",
        "additional_stop_words = []                                                      ########调 (optional)\n",
        "\n",
        "def text_cleanup(text):  \n",
        "    '''\n",
        "    Text pre-processing\n",
        "        return a sentence of cleaned words\n",
        "    '''\n",
        "    text = str(text)\n",
        "    #remove html tags\n",
        "    text_clean = BeautifulSoup(text, \"lxml\").text\n",
        "\n",
        "    ## Convert to lowercase\n",
        "    text_clean = text_clean.lower()\n",
        "    ##Remove non-alphabet\n",
        "    text_clean = re.sub(r'[^a-zA-Z]|(\\w+:\\/\\/\\S+)',' ', text_clean)\n",
        "\n",
        "    ##spliting into tokens\n",
        "    text_clean = text_clean.split()\n",
        "\n",
        "    ##Remove short words (length < 3)\n",
        "    text_clean = [w for w in text_clean if len(w)>2]\n",
        "\n",
        "    ##Lemmatize text ## alternative is to use stemming\n",
        "    #lemmatizer = WordNetLemmatizer()\n",
        "    #text_clean = [lemmatizer.lemmatize(w) for w in text_clean]\n",
        "    \n",
        "    #ps = PorterStemmer()\n",
        "    #text_clean = [ps.stem(w) for w in text_clean]\n",
        "    \n",
        "    ## Filter out stop words in English \n",
        "    stops = set(stopwords.words('english')).union(additional_stop_words)\n",
        "    text_clean = [w for w in text_clean if w not in stops]\n",
        "    \n",
        "    #joining the list into a sentence\n",
        "    mySeparator = \" \"\n",
        "    text_clean = mySeparator.join(text_clean)\n",
        "\n",
        "\n",
        "    return text_clean\n",
        "\n",
        "txt = r\"This movie is not based on the bible. It completely leaves Christ out of the movie. They do not show the rapture or the second coming of Christ. Let alone talk about it. It does not quote from scriptures. The end times are called the great tribulation. The movie does not even show bad times. The seven bowls, seven viles and seven trumpets of judgements are boiled down to a 15 second news cast of the sea changing it's structure. The anti-Christ was killed 3 1/2 years into the tribulation and that is how the movie ended. The only part they got correct was there was two prophets. The did not use there names of course because that would be too close to the truth of scriptures. The worst part of it was I really wanted it to be a good movie. I wanted to take unsaved people to it. I feel that the movie is evil. It is a counterfeit just like everything the devil does. I just hope it does not take away from the upcoming movie based on the left behind books.<br /><br />The second problem with the movie is it was just bad. Bad acting, bad special effects, bad plot and poor character development. I have seen better episodes of Miami vice.\"\n",
        "print('ORIGINAL','\\n', txt)\n",
        "text_cleanup(txt)"
      ],
      "execution_count": null,
      "outputs": [
        {
          "output_type": "stream",
          "text": [
            "ORIGINAL \n",
            " This movie is not based on the bible. It completely leaves Christ out of the movie. They do not show the rapture or the second coming of Christ. Let alone talk about it. It does not quote from scriptures. The end times are called the great tribulation. The movie does not even show bad times. The seven bowls, seven viles and seven trumpets of judgements are boiled down to a 15 second news cast of the sea changing it's structure. The anti-Christ was killed 3 1/2 years into the tribulation and that is how the movie ended. The only part they got correct was there was two prophets. The did not use there names of course because that would be too close to the truth of scriptures. The worst part of it was I really wanted it to be a good movie. I wanted to take unsaved people to it. I feel that the movie is evil. It is a counterfeit just like everything the devil does. I just hope it does not take away from the upcoming movie based on the left behind books.<br /><br />The second problem with the movie is it was just bad. Bad acting, bad special effects, bad plot and poor character development. I have seen better episodes of Miami vice.\n"
          ],
          "name": "stdout"
        },
        {
          "output_type": "execute_result",
          "data": {
            "application/vnd.google.colaboratory.intrinsic+json": {
              "type": "string"
            },
            "text/plain": [
              "'movie based bible completely leaves christ movie show rapture second coming christ let alone talk quote scriptures end times called great tribulation movie even show bad times seven bowls seven viles seven trumpets judgements boiled second news cast sea changing structure anti christ killed years tribulation movie ended part got correct two prophets use names course would close truth scriptures worst part really wanted good movie wanted take unsaved people feel movie evil counterfeit like everything devil hope take away upcoming movie based left behind books second problem movie bad bad acting bad special effects bad plot poor character development seen better episodes miami vice'"
            ]
          },
          "metadata": {
            "tags": []
          },
          "execution_count": 10
        }
      ]
    },
    {
      "cell_type": "code",
      "metadata": {
        "id": "0wW8UUt5fD8-",
        "colab": {
          "base_uri": "https://localhost:8080/",
          "height": 115,
          "referenced_widgets": [
            "6a753001b25b437ca47d5e265e999d59",
            "801655574ae94be0b39e1f5f7d85169f",
            "c83b38506a02416ebd78626488c9b931",
            "62406ee3fc5246b183a4bc29f77c3786",
            "44aaaf2b3b2049bdac0767d536d1b417",
            "bb4badf5dedb4f488bc827f7097732d0",
            "756f71e8f87c4092be13cd4a757983b5",
            "b2a10a64ef754825b1b609d01b4df029",
            "1063b8a964f642b9b91a7f42084f8fd0",
            "799f745d5f604ee5a69d1091bf06e119",
            "11fbd1e8798b4d1fae6d08d09351ab2b",
            "ccb8d24974504785b3f9f20c80528230",
            "c22ee6c8e63442d6a2bd762b9a3b3484",
            "2a98500e022c421e8f19cda412decbeb",
            "a01293d5ce5c4e86a4527ad42af711b1",
            "b8d2d065e1c240c7b53fc50a2727775d"
          ]
        },
        "outputId": "73daed22-2f1d-4a5e-94c6-3b638bb6ea55"
      },
      "source": [
        "from tqdm.notebook import tqdm\n",
        "#for text preprocessing #you can run without doing so\n",
        "\n",
        "#doing list comprehension\n",
        "X_train = [text_cleanup(txt) for txt in tqdm(X_train)]\n",
        "X_test = [text_cleanup(txt) for txt in tqdm(X_test)]"
      ],
      "execution_count": null,
      "outputs": [
        {
          "output_type": "display_data",
          "data": {
            "application/vnd.jupyter.widget-view+json": {
              "model_id": "6a753001b25b437ca47d5e265e999d59",
              "version_minor": 0,
              "version_major": 2
            },
            "text/plain": [
              "HBox(children=(FloatProgress(value=0.0, max=46619.0), HTML(value='')))"
            ]
          },
          "metadata": {
            "tags": []
          }
        },
        {
          "output_type": "stream",
          "text": [
            "\n"
          ],
          "name": "stdout"
        },
        {
          "output_type": "display_data",
          "data": {
            "application/vnd.jupyter.widget-view+json": {
              "model_id": "1063b8a964f642b9b91a7f42084f8fd0",
              "version_minor": 0,
              "version_major": 2
            },
            "text/plain": [
              "HBox(children=(FloatProgress(value=0.0, max=46620.0), HTML(value='')))"
            ]
          },
          "metadata": {
            "tags": []
          }
        },
        {
          "output_type": "stream",
          "text": [
            "\n"
          ],
          "name": "stdout"
        }
      ]
    },
    {
      "cell_type": "code",
      "metadata": {
        "id": "AM8HtTzwhIJS"
      },
      "source": [
        "#do use tfidf if you think it helps\n",
        "#if need be, can try to use word embeddings\n",
        "\n",
        "from sklearn.feature_extraction.text import CountVectorizer\n",
        "\n",
        "count_vect = CountVectorizer() \n",
        "X_train = count_vect.fit_transform(X_train)\n",
        "X_test = count_vect.transform(X_test)\n"
      ],
      "execution_count": null,
      "outputs": []
    },
    {
      "cell_type": "code",
      "metadata": {
        "id": "iTc6Tw9yW6T7",
        "colab": {
          "base_uri": "https://localhost:8080/"
        },
        "outputId": "7923b90f-9bc5-49c8-9ec6-79c1591cc425"
      },
      "source": [
        "X_train[0]"
      ],
      "execution_count": null,
      "outputs": [
        {
          "output_type": "execute_result",
          "data": {
            "text/plain": [
              "<1x21637 sparse matrix of type '<class 'numpy.int64'>'\n",
              "\twith 7 stored elements in Compressed Sparse Row format>"
            ]
          },
          "metadata": {
            "tags": []
          },
          "execution_count": 13
        }
      ]
    },
    {
      "cell_type": "code",
      "metadata": {
        "id": "dMebLOSMMp0C"
      },
      "source": [
        "#confusion matrix\n",
        "import seaborn as sns\n",
        "import matplotlib.pyplot as plt\n",
        "from matplotlib import rc\n",
        "\n",
        "def show_confusion_matrix(confusion_matrix):\n",
        "  hmap = sns.heatmap(confusion_matrix, annot=True, fmt=\"d\", cmap=\"Blues\")\n",
        "  hmap.yaxis.set_ticklabels(hmap.yaxis.get_ticklabels(), rotation=0, ha='right')\n",
        "  hmap.xaxis.set_ticklabels(hmap.xaxis.get_ticklabels(), rotation=30, ha='right')\n",
        "  plt.ylabel('Truth')\n",
        "  plt.xlabel('Predicted');\n"
      ],
      "execution_count": null,
      "outputs": []
    },
    {
      "cell_type": "markdown",
      "metadata": {
        "id": "TYIOs10whULt"
      },
      "source": [
        "# Testing Machine Learning approaches"
      ]
    },
    {
      "cell_type": "markdown",
      "metadata": {
        "id": "k1jdRNQ6hWc_"
      },
      "source": [
        "Logistic Regression"
      ]
    },
    {
      "cell_type": "code",
      "metadata": {
        "id": "iDwGtFT0hPML",
        "colab": {
          "base_uri": "https://localhost:8080/"
        },
        "outputId": "f73aedb2-1474-45e8-d458-7dc7c67bfdcd"
      },
      "source": [
        "#LR\n",
        "from sklearn.metrics import confusion_matrix, classification_report\n",
        "\n",
        "from sklearn.linear_model import LogisticRegression\n",
        "model = LogisticRegression(solver='lbfgs', max_iter=400,random_state=42)\n",
        "model.fit(X_train, y_train)\n",
        "print('accuracy:',model.score(X_test,y_test))\n",
        "\n",
        "#classification report\n",
        "y_pred = model.predict(X_test) \n",
        "\n",
        "print(classification_report(y_test, y_pred))\n"
      ],
      "execution_count": null,
      "outputs": [
        {
          "output_type": "stream",
          "text": [
            "accuracy: 0.8096739596739597\n",
            "              precision    recall  f1-score   support\n",
            "\n",
            "           0       0.82      0.88      0.85     28363\n",
            "           1       0.79      0.70      0.74     18257\n",
            "\n",
            "    accuracy                           0.81     46620\n",
            "   macro avg       0.81      0.79      0.80     46620\n",
            "weighted avg       0.81      0.81      0.81     46620\n",
            "\n"
          ],
          "name": "stdout"
        }
      ]
    },
    {
      "cell_type": "code",
      "metadata": {
        "id": "sfNbsM7ghpRF",
        "colab": {
          "base_uri": "https://localhost:8080/",
          "height": 285
        },
        "outputId": "93cf7764-6bfa-4e6d-824d-49534646e16f"
      },
      "source": [
        "cm = confusion_matrix(y_test, y_pred)\n",
        "df_cm = pd.DataFrame(cm)\n",
        "show_confusion_matrix(df_cm)"
      ],
      "execution_count": null,
      "outputs": [
        {
          "output_type": "display_data",
          "data": {
            "image/png": "[encoded data removed]",
            "text/plain": [
              "<Figure size 432x288 with 2 Axes>"
            ]
          },
          "metadata": {
            "tags": [],
            "needs_background": "light"
          }
        }
      ]
    },
    {
      "cell_type": "code",
      "metadata": {
        "id": "jZB8rPKWkYbH"
      },
      "source": [
        "filename = '/content/gdrive/My Drive/covid_mining/LR_model_news.h5'\n",
        "pickle.dump(model, open(filename, 'wb'))"
      ],
      "execution_count": null,
      "outputs": []
    },
    {
      "cell_type": "markdown",
      "metadata": {
        "id": "Kgs4OqDE2Ngv"
      },
      "source": [
        "SVM"
      ]
    },
    {
      "cell_type": "code",
      "metadata": {
        "id": "Wc3OyVlm2NEw"
      },
      "source": [
        ""
      ],
      "execution_count": null,
      "outputs": []
    },
    {
      "cell_type": "markdown",
      "metadata": {
        "id": "aexjch0R2P2X"
      },
      "source": [
        ""
      ]
    },
    {
      "cell_type": "markdown",
      "metadata": {
        "id": "POtqUJhUsW4C"
      },
      "source": [
        "Ensemble Learning AdaBoostClassifier\n"
      ]
    },
    {
      "cell_type": "code",
      "metadata": {
        "id": "7giOMeKJsRyK",
        "colab": {
          "base_uri": "https://localhost:8080/"
        },
        "outputId": "f672ca76-246d-4f5e-89a5-7ef5a95d0f24"
      },
      "source": [
        "#source: https://machinelearningmastery.com/adaboost-ensemble-in-python/\n",
        "from sklearn.ensemble import AdaBoostClassifier\n",
        "\n",
        "model= AdaBoostClassifier(random_state=1)            \n",
        "model.fit(X_train, y_train)\n",
        "print('accuracy:',model.score(X_test,y_test))\n",
        "\n",
        "#classification report\n",
        "y_pred = model.predict(X_test) \n",
        "\n",
        "cm = confusion_matrix(y_test, y_pred) \n",
        "print(cm) \n",
        "\n",
        "print(classification_report(y_test, y_pred))\n",
        "\n",
        "# without text preprocessing 0.69824\n",
        "# with text preprocessing 0.69844"
      ],
      "execution_count": null,
      "outputs": [
        {
          "output_type": "stream",
          "text": [
            "accuracy: 0.7074860574860575\n",
            "[[25699  2664]\n",
            " [10973  7284]]\n",
            "              precision    recall  f1-score   support\n",
            "\n",
            "           0       0.70      0.91      0.79     28363\n",
            "           1       0.73      0.40      0.52     18257\n",
            "\n",
            "    accuracy                           0.71     46620\n",
            "   macro avg       0.72      0.65      0.65     46620\n",
            "weighted avg       0.71      0.71      0.68     46620\n",
            "\n"
          ],
          "name": "stdout"
        }
      ]
    },
    {
      "cell_type": "code",
      "metadata": {
        "id": "kjtj6peBsR5E",
        "colab": {
          "base_uri": "https://localhost:8080/",
          "height": 281
        },
        "outputId": "e9cf536c-05fd-4606-a66a-126a5151b26d"
      },
      "source": [
        "#confusion matrix\n",
        "\n",
        "cm = confusion_matrix(y_test, y_pred)\n",
        "df_cm = pd.DataFrame(cm)\n",
        "show_confusion_matrix(df_cm)"
      ],
      "execution_count": null,
      "outputs": [
        {
          "output_type": "display_data",
          "data": {
            "image/png": "[encoded data removed]",
            "text/plain": [
              "<Figure size 432x288 with 2 Axes>"
            ]
          },
          "metadata": {
            "tags": [],
            "needs_background": "light"
          }
        }
      ]
    },
    {
      "cell_type": "code",
      "metadata": {
        "id": "WfFjRn2ssSBw"
      },
      "source": [
        "filename = '/content/gdrive/My Drive/covid_mining/Ada_model_news.h5'\n",
        "pickle.dump(model, open(filename, 'wb'))"
      ],
      "execution_count": null,
      "outputs": []
    },
    {
      "cell_type": "markdown",
      "metadata": {
        "id": "UB8aOxBVjRUf"
      },
      "source": [
        "#Manually annotating a sample"
      ]
    },
    {
      "cell_type": "code",
      "metadata": {
        "id": "ttJ5TzWYjW4l",
        "colab": {
          "base_uri": "https://localhost:8080/",
          "height": 289
        },
        "outputId": "fc565529-f668-4cf8-c397-c56aafcaf576"
      },
      "source": [
        "news_df = pd.read_csv('/content/gdrive/My Drive/covid_mining/covid19_articles_20200914.csv').drop(['Unnamed: 0'],axis=1)\n",
        "news_df.head()"
      ],
      "execution_count": null,
      "outputs": [
        {
          "output_type": "execute_result",
          "data": {
            "text/html": [
              "<div>\n",
              "<style scoped>\n",
              "    .dataframe tbody tr th:only-of-type {\n",
              "        vertical-align: middle;\n",
              "    }\n",
              "\n",
              "    .dataframe tbody tr th {\n",
              "        vertical-align: top;\n",
              "    }\n",
              "\n",
              "    .dataframe thead th {\n",
              "        text-align: right;\n",
              "    }\n",
              "</style>\n",
              "<table border=\"1\" class=\"dataframe\">\n",
              "  <thead>\n",
              "    <tr style=\"text-align: right;\">\n",
              "      <th></th>\n",
              "      <th>title</th>\n",
              "      <th>url</th>\n",
              "      <th>crawled_time</th>\n",
              "      <th>date</th>\n",
              "      <th>domain</th>\n",
              "      <th>author</th>\n",
              "      <th>content</th>\n",
              "      <th>topic_area</th>\n",
              "    </tr>\n",
              "  </thead>\n",
              "  <tbody>\n",
              "    <tr>\n",
              "      <th>0</th>\n",
              "      <td>Three Industrial Giants You Should Own In 2020</td>\n",
              "      <td>https://www.marketbeat.com/originals/three-ind...</td>\n",
              "      <td>2020-05-19</td>\n",
              "      <td>2020-01-02</td>\n",
              "      <td>marketbeat</td>\n",
              "      <td>Thomas Hughes</td>\n",
              "      <td>Posted on Thursday, January 2nd, 2020 by Thoma...</td>\n",
              "      <td>business</td>\n",
              "    </tr>\n",
              "    <tr>\n",
              "      <th>1</th>\n",
              "      <td>Tesla (TSLA) Breaks Shipment Record, Beats Est...</td>\n",
              "      <td>https://www.marketbeat.com/originals/teal-brea...</td>\n",
              "      <td>2020-05-19</td>\n",
              "      <td>2020-01-03</td>\n",
              "      <td>marketbeat</td>\n",
              "      <td>Steve Anderson</td>\n",
              "      <td>It could be forgiven, that some might think th...</td>\n",
              "      <td>business</td>\n",
              "    </tr>\n",
              "    <tr>\n",
              "      <th>2</th>\n",
              "      <td>Labor Stocks Are Going To Break Out In 2020</td>\n",
              "      <td>https://www.marketbeat.com/originals/labor-sto...</td>\n",
              "      <td>2020-05-19</td>\n",
              "      <td>2020-01-03</td>\n",
              "      <td>marketbeat</td>\n",
              "      <td>Thomas Hughes</td>\n",
              "      <td>Posted on Friday, January 3rd, 2020 by Thomas ...</td>\n",
              "      <td>business</td>\n",
              "    </tr>\n",
              "    <tr>\n",
              "      <th>3</th>\n",
              "      <td>Cal-Maine Just Shed 12% - But Is Now The Time ...</td>\n",
              "      <td>https://www.marketbeat.com/originals/cal-maine...</td>\n",
              "      <td>2020-05-19</td>\n",
              "      <td>2020-01-06</td>\n",
              "      <td>marketbeat</td>\n",
              "      <td>Thomas Hughes</td>\n",
              "      <td>Posted on Monday, January 6th, 2020 by Thomas ...</td>\n",
              "      <td>business</td>\n",
              "    </tr>\n",
              "    <tr>\n",
              "      <th>4</th>\n",
              "      <td>China pneumonia outbreak: It's not SARS, so wh...</td>\n",
              "      <td>https://www.edition.cnn.com/2020/01/06/health/...</td>\n",
              "      <td>2020-06-22</td>\n",
              "      <td>2020-01-06</td>\n",
              "      <td>edition.cnn</td>\n",
              "      <td>Nectar Gan, CNN</td>\n",
              "      <td>A total of 59 cases of unknown viral pneumonia...</td>\n",
              "      <td>business</td>\n",
              "    </tr>\n",
              "  </tbody>\n",
              "</table>\n",
              "</div>"
            ],
            "text/plain": [
              "                                               title  ... topic_area\n",
              "0     Three Industrial Giants You Should Own In 2020  ...   business\n",
              "1  Tesla (TSLA) Breaks Shipment Record, Beats Est...  ...   business\n",
              "2        Labor Stocks Are Going To Break Out In 2020  ...   business\n",
              "3  Cal-Maine Just Shed 12% - But Is Now The Time ...  ...   business\n",
              "4  China pneumonia outbreak: It's not SARS, so wh...  ...   business\n",
              "\n",
              "[5 rows x 8 columns]"
            ]
          },
          "metadata": {
            "tags": []
          },
          "execution_count": 21
        }
      ]
    },
    {
      "cell_type": "code",
      "metadata": {
        "id": "-xdONYVhjdVO"
      },
      "source": [
        "news_df_sample = news_df.sample(100)"
      ],
      "execution_count": null,
      "outputs": []
    },
    {
      "cell_type": "code",
      "metadata": {
        "id": "4pki7dj4ka9L"
      },
      "source": [
        "#loading model\n",
        "filename = '/content/gdrive/My Drive/covid_mining/LR_model.h5'\n",
        "LR_model = pickle.load(open(filename, 'rb'))\n",
        "\n",
        "filename = '/content/gdrive/My Drive/covid_mining/Ada_model.h5'\n",
        "ada_model = pickle.load(open(filename, 'rb'))\n"
      ],
      "execution_count": null,
      "outputs": []
    },
    {
      "cell_type": "code",
      "metadata": {
        "id": "rQ4Dr1bWk7Bn"
      },
      "source": [
        "def label_text(text,model,vect):\n",
        "    text = vect.transform([text])\n",
        "    return model.predict(text).flatten()[0]\n",
        "\n",
        "def label_prob(text,model,vect):\n",
        "    text = vect.transform([text])\n",
        "    return model.predict_proba(text).flatten()"
      ],
      "execution_count": null,
      "outputs": []
    },
    {
      "cell_type": "code",
      "metadata": {
        "id": "s_JwioMNljWz",
        "colab": {
          "base_uri": "https://localhost:8080/",
          "height": 323
        },
        "outputId": "699b2a74-2b6d-4343-f684-099745641918"
      },
      "source": [
        "for i in range(20):\n",
        "    print(label_text(news_df['title'][i],LR_model,count_vect))"
      ],
      "execution_count": null,
      "outputs": [
        {
          "output_type": "error",
          "ename": "ValueError",
          "evalue": "ignored",
          "traceback": [
            "\u001b[0;31m---------------------------------------------------------------------------\u001b[0m",
            "\u001b[0;31mValueError\u001b[0m                                Traceback (most recent call last)",
            "\u001b[0;32m<ipython-input-25-e4c5d7c37684>\u001b[0m in \u001b[0;36m<module>\u001b[0;34m()\u001b[0m\n\u001b[1;32m      1\u001b[0m \u001b[0;32mfor\u001b[0m \u001b[0mi\u001b[0m \u001b[0;32min\u001b[0m \u001b[0mrange\u001b[0m\u001b[0;34m(\u001b[0m\u001b[0;36m20\u001b[0m\u001b[0;34m)\u001b[0m\u001b[0;34m:\u001b[0m\u001b[0;34m\u001b[0m\u001b[0;34m\u001b[0m\u001b[0m\n\u001b[0;32m----> 2\u001b[0;31m     \u001b[0mprint\u001b[0m\u001b[0;34m(\u001b[0m\u001b[0mlabel_text\u001b[0m\u001b[0;34m(\u001b[0m\u001b[0mnews_df\u001b[0m\u001b[0;34m[\u001b[0m\u001b[0;34m'title'\u001b[0m\u001b[0;34m]\u001b[0m\u001b[0;34m[\u001b[0m\u001b[0mi\u001b[0m\u001b[0;34m]\u001b[0m\u001b[0;34m,\u001b[0m\u001b[0mLR_model\u001b[0m\u001b[0;34m,\u001b[0m\u001b[0mcount_vect\u001b[0m\u001b[0;34m)\u001b[0m\u001b[0;34m)\u001b[0m\u001b[0;34m\u001b[0m\u001b[0;34m\u001b[0m\u001b[0m\n\u001b[0m",
            "\u001b[0;32m<ipython-input-24-773c87accc97>\u001b[0m in \u001b[0;36mlabel_text\u001b[0;34m(text, model, vect)\u001b[0m\n\u001b[1;32m      1\u001b[0m \u001b[0;32mdef\u001b[0m \u001b[0mlabel_text\u001b[0m\u001b[0;34m(\u001b[0m\u001b[0mtext\u001b[0m\u001b[0;34m,\u001b[0m\u001b[0mmodel\u001b[0m\u001b[0;34m,\u001b[0m\u001b[0mvect\u001b[0m\u001b[0;34m)\u001b[0m\u001b[0;34m:\u001b[0m\u001b[0;34m\u001b[0m\u001b[0;34m\u001b[0m\u001b[0m\n\u001b[1;32m      2\u001b[0m     \u001b[0mtext\u001b[0m \u001b[0;34m=\u001b[0m \u001b[0mvect\u001b[0m\u001b[0;34m.\u001b[0m\u001b[0mtransform\u001b[0m\u001b[0;34m(\u001b[0m\u001b[0;34m[\u001b[0m\u001b[0mtext\u001b[0m\u001b[0;34m]\u001b[0m\u001b[0;34m)\u001b[0m\u001b[0;34m\u001b[0m\u001b[0;34m\u001b[0m\u001b[0m\n\u001b[0;32m----> 3\u001b[0;31m     \u001b[0;32mreturn\u001b[0m \u001b[0mmodel\u001b[0m\u001b[0;34m.\u001b[0m\u001b[0mpredict\u001b[0m\u001b[0;34m(\u001b[0m\u001b[0mtext\u001b[0m\u001b[0;34m)\u001b[0m\u001b[0;34m.\u001b[0m\u001b[0mflatten\u001b[0m\u001b[0;34m(\u001b[0m\u001b[0;34m)\u001b[0m\u001b[0;34m[\u001b[0m\u001b[0;36m0\u001b[0m\u001b[0;34m]\u001b[0m\u001b[0;34m\u001b[0m\u001b[0;34m\u001b[0m\u001b[0m\n\u001b[0m\u001b[1;32m      4\u001b[0m \u001b[0;34m\u001b[0m\u001b[0m\n\u001b[1;32m      5\u001b[0m \u001b[0;32mdef\u001b[0m \u001b[0mlabel_prob\u001b[0m\u001b[0;34m(\u001b[0m\u001b[0mtext\u001b[0m\u001b[0;34m,\u001b[0m\u001b[0mmodel\u001b[0m\u001b[0;34m,\u001b[0m\u001b[0mvect\u001b[0m\u001b[0;34m)\u001b[0m\u001b[0;34m:\u001b[0m\u001b[0;34m\u001b[0m\u001b[0;34m\u001b[0m\u001b[0m\n",
            "\u001b[0;32m/usr/local/lib/python3.6/dist-packages/sklearn/linear_model/_base.py\u001b[0m in \u001b[0;36mpredict\u001b[0;34m(self, X)\u001b[0m\n\u001b[1;32m    291\u001b[0m             \u001b[0mPredicted\u001b[0m \u001b[0;32mclass\u001b[0m \u001b[0mlabel\u001b[0m \u001b[0mper\u001b[0m \u001b[0msample\u001b[0m\u001b[0;34m.\u001b[0m\u001b[0;34m\u001b[0m\u001b[0;34m\u001b[0m\u001b[0m\n\u001b[1;32m    292\u001b[0m         \"\"\"\n\u001b[0;32m--> 293\u001b[0;31m         \u001b[0mscores\u001b[0m \u001b[0;34m=\u001b[0m \u001b[0mself\u001b[0m\u001b[0;34m.\u001b[0m\u001b[0mdecision_function\u001b[0m\u001b[0;34m(\u001b[0m\u001b[0mX\u001b[0m\u001b[0;34m)\u001b[0m\u001b[0;34m\u001b[0m\u001b[0;34m\u001b[0m\u001b[0m\n\u001b[0m\u001b[1;32m    294\u001b[0m         \u001b[0;32mif\u001b[0m \u001b[0mlen\u001b[0m\u001b[0;34m(\u001b[0m\u001b[0mscores\u001b[0m\u001b[0;34m.\u001b[0m\u001b[0mshape\u001b[0m\u001b[0;34m)\u001b[0m \u001b[0;34m==\u001b[0m \u001b[0;36m1\u001b[0m\u001b[0;34m:\u001b[0m\u001b[0;34m\u001b[0m\u001b[0;34m\u001b[0m\u001b[0m\n\u001b[1;32m    295\u001b[0m             \u001b[0mindices\u001b[0m \u001b[0;34m=\u001b[0m \u001b[0;34m(\u001b[0m\u001b[0mscores\u001b[0m \u001b[0;34m>\u001b[0m \u001b[0;36m0\u001b[0m\u001b[0;34m)\u001b[0m\u001b[0;34m.\u001b[0m\u001b[0mastype\u001b[0m\u001b[0;34m(\u001b[0m\u001b[0mnp\u001b[0m\u001b[0;34m.\u001b[0m\u001b[0mint\u001b[0m\u001b[0;34m)\u001b[0m\u001b[0;34m\u001b[0m\u001b[0;34m\u001b[0m\u001b[0m\n",
            "\u001b[0;32m/usr/local/lib/python3.6/dist-packages/sklearn/linear_model/_base.py\u001b[0m in \u001b[0;36mdecision_function\u001b[0;34m(self, X)\u001b[0m\n\u001b[1;32m    271\u001b[0m         \u001b[0;32mif\u001b[0m \u001b[0mX\u001b[0m\u001b[0;34m.\u001b[0m\u001b[0mshape\u001b[0m\u001b[0;34m[\u001b[0m\u001b[0;36m1\u001b[0m\u001b[0;34m]\u001b[0m \u001b[0;34m!=\u001b[0m \u001b[0mn_features\u001b[0m\u001b[0;34m:\u001b[0m\u001b[0;34m\u001b[0m\u001b[0;34m\u001b[0m\u001b[0m\n\u001b[1;32m    272\u001b[0m             raise ValueError(\"X has %d features per sample; expecting %d\"\n\u001b[0;32m--> 273\u001b[0;31m                              % (X.shape[1], n_features))\n\u001b[0m\u001b[1;32m    274\u001b[0m \u001b[0;34m\u001b[0m\u001b[0m\n\u001b[1;32m    275\u001b[0m         scores = safe_sparse_dot(X, self.coef_.T,\n",
            "\u001b[0;31mValueError\u001b[0m: X has 21637 features per sample; expecting 75377"
          ]
        }
      ]
    },
    {
      "cell_type": "code",
      "metadata": {
        "id": "9qsSC5yJkNZ8",
        "colab": {
          "base_uri": "https://localhost:8080/",
          "height": 408
        },
        "outputId": "0c4b4e01-6322-41d9-aae6-157039689f10"
      },
      "source": [
        "#using LR\n",
        "from tqdm import tqdm\n",
        "tqdm.pandas()\n",
        "\n",
        "news_df_sample['predicted']  = news_df_sample['title'].progress_apply(lambda x: label_text(x,LR_model,count_vect))\n",
        "news_df_sample['predicted_proba']  = news_df_sample['title'].progress_apply(lambda x: label_prob(x,LR_model,count_vect))"
      ],
      "execution_count": null,
      "outputs": [
        {
          "output_type": "stream",
          "text": [
            "\r  0%|          | 0/100 [00:00<?, ?it/s]"
          ],
          "name": "stderr"
        },
        {
          "output_type": "error",
          "ename": "ValueError",
          "evalue": "ignored",
          "traceback": [
            "\u001b[0;31m---------------------------------------------------------------------------\u001b[0m",
            "\u001b[0;31mValueError\u001b[0m                                Traceback (most recent call last)",
            "\u001b[0;32m<ipython-input-26-22107b0b5f4f>\u001b[0m in \u001b[0;36m<module>\u001b[0;34m()\u001b[0m\n\u001b[1;32m      3\u001b[0m \u001b[0mtqdm\u001b[0m\u001b[0;34m.\u001b[0m\u001b[0mpandas\u001b[0m\u001b[0;34m(\u001b[0m\u001b[0;34m)\u001b[0m\u001b[0;34m\u001b[0m\u001b[0;34m\u001b[0m\u001b[0m\n\u001b[1;32m      4\u001b[0m \u001b[0;34m\u001b[0m\u001b[0m\n\u001b[0;32m----> 5\u001b[0;31m \u001b[0mnews_df_sample\u001b[0m\u001b[0;34m[\u001b[0m\u001b[0;34m'predicted'\u001b[0m\u001b[0;34m]\u001b[0m  \u001b[0;34m=\u001b[0m \u001b[0mnews_df_sample\u001b[0m\u001b[0;34m[\u001b[0m\u001b[0;34m'title'\u001b[0m\u001b[0;34m]\u001b[0m\u001b[0;34m.\u001b[0m\u001b[0mprogress_apply\u001b[0m\u001b[0;34m(\u001b[0m\u001b[0;32mlambda\u001b[0m \u001b[0mx\u001b[0m\u001b[0;34m:\u001b[0m \u001b[0mlabel_text\u001b[0m\u001b[0;34m(\u001b[0m\u001b[0mx\u001b[0m\u001b[0;34m,\u001b[0m\u001b[0mLR_model\u001b[0m\u001b[0;34m,\u001b[0m\u001b[0mcount_vect\u001b[0m\u001b[0;34m)\u001b[0m\u001b[0;34m)\u001b[0m\u001b[0;34m\u001b[0m\u001b[0;34m\u001b[0m\u001b[0m\n\u001b[0m\u001b[1;32m      6\u001b[0m \u001b[0mnews_df_sample\u001b[0m\u001b[0;34m[\u001b[0m\u001b[0;34m'predicted_proba'\u001b[0m\u001b[0;34m]\u001b[0m  \u001b[0;34m=\u001b[0m \u001b[0mnews_df_sample\u001b[0m\u001b[0;34m[\u001b[0m\u001b[0;34m'title'\u001b[0m\u001b[0;34m]\u001b[0m\u001b[0;34m.\u001b[0m\u001b[0mprogress_apply\u001b[0m\u001b[0;34m(\u001b[0m\u001b[0;32mlambda\u001b[0m \u001b[0mx\u001b[0m\u001b[0;34m:\u001b[0m \u001b[0mlabel_prob\u001b[0m\u001b[0;34m(\u001b[0m\u001b[0mx\u001b[0m\u001b[0;34m,\u001b[0m\u001b[0mLR_model\u001b[0m\u001b[0;34m,\u001b[0m\u001b[0mcount_vect\u001b[0m\u001b[0;34m)\u001b[0m\u001b[0;34m)\u001b[0m\u001b[0;34m\u001b[0m\u001b[0;34m\u001b[0m\u001b[0m\n",
            "\u001b[0;32m/usr/local/lib/python3.6/dist-packages/tqdm/std.py\u001b[0m in \u001b[0;36minner\u001b[0;34m(df, func, *args, **kwargs)\u001b[0m\n\u001b[1;32m    751\u001b[0m                 \u001b[0;31m# Apply the provided function (in **kwargs)\u001b[0m\u001b[0;34m\u001b[0m\u001b[0;34m\u001b[0m\u001b[0;34m\u001b[0m\u001b[0m\n\u001b[1;32m    752\u001b[0m                 \u001b[0;31m# on the df using our wrapper (which provides bar updating)\u001b[0m\u001b[0;34m\u001b[0m\u001b[0;34m\u001b[0m\u001b[0;34m\u001b[0m\u001b[0m\n\u001b[0;32m--> 753\u001b[0;31m                 \u001b[0mresult\u001b[0m \u001b[0;34m=\u001b[0m \u001b[0mgetattr\u001b[0m\u001b[0;34m(\u001b[0m\u001b[0mdf\u001b[0m\u001b[0;34m,\u001b[0m \u001b[0mdf_function\u001b[0m\u001b[0;34m)\u001b[0m\u001b[0;34m(\u001b[0m\u001b[0mwrapper\u001b[0m\u001b[0;34m,\u001b[0m \u001b[0;34m**\u001b[0m\u001b[0mkwargs\u001b[0m\u001b[0;34m)\u001b[0m\u001b[0;34m\u001b[0m\u001b[0;34m\u001b[0m\u001b[0m\n\u001b[0m\u001b[1;32m    754\u001b[0m \u001b[0;34m\u001b[0m\u001b[0m\n\u001b[1;32m    755\u001b[0m                 \u001b[0;31m# Close bar and return pandas calculation result\u001b[0m\u001b[0;34m\u001b[0m\u001b[0;34m\u001b[0m\u001b[0;34m\u001b[0m\u001b[0m\n",
            "\u001b[0;32m/usr/local/lib/python3.6/dist-packages/pandas/core/series.py\u001b[0m in \u001b[0;36mapply\u001b[0;34m(self, func, convert_dtype, args, **kwds)\u001b[0m\n\u001b[1;32m   4210\u001b[0m             \u001b[0;32melse\u001b[0m\u001b[0;34m:\u001b[0m\u001b[0;34m\u001b[0m\u001b[0;34m\u001b[0m\u001b[0m\n\u001b[1;32m   4211\u001b[0m                 \u001b[0mvalues\u001b[0m \u001b[0;34m=\u001b[0m \u001b[0mself\u001b[0m\u001b[0;34m.\u001b[0m\u001b[0mastype\u001b[0m\u001b[0;34m(\u001b[0m\u001b[0mobject\u001b[0m\u001b[0;34m)\u001b[0m\u001b[0;34m.\u001b[0m\u001b[0m_values\u001b[0m\u001b[0;34m\u001b[0m\u001b[0;34m\u001b[0m\u001b[0m\n\u001b[0;32m-> 4212\u001b[0;31m                 \u001b[0mmapped\u001b[0m \u001b[0;34m=\u001b[0m \u001b[0mlib\u001b[0m\u001b[0;34m.\u001b[0m\u001b[0mmap_infer\u001b[0m\u001b[0;34m(\u001b[0m\u001b[0mvalues\u001b[0m\u001b[0;34m,\u001b[0m \u001b[0mf\u001b[0m\u001b[0;34m,\u001b[0m \u001b[0mconvert\u001b[0m\u001b[0;34m=\u001b[0m\u001b[0mconvert_dtype\u001b[0m\u001b[0;34m)\u001b[0m\u001b[0;34m\u001b[0m\u001b[0;34m\u001b[0m\u001b[0m\n\u001b[0m\u001b[1;32m   4213\u001b[0m \u001b[0;34m\u001b[0m\u001b[0m\n\u001b[1;32m   4214\u001b[0m         \u001b[0;32mif\u001b[0m \u001b[0mlen\u001b[0m\u001b[0;34m(\u001b[0m\u001b[0mmapped\u001b[0m\u001b[0;34m)\u001b[0m \u001b[0;32mand\u001b[0m \u001b[0misinstance\u001b[0m\u001b[0;34m(\u001b[0m\u001b[0mmapped\u001b[0m\u001b[0;34m[\u001b[0m\u001b[0;36m0\u001b[0m\u001b[0;34m]\u001b[0m\u001b[0;34m,\u001b[0m \u001b[0mSeries\u001b[0m\u001b[0;34m)\u001b[0m\u001b[0;34m:\u001b[0m\u001b[0;34m\u001b[0m\u001b[0;34m\u001b[0m\u001b[0m\n",
            "\u001b[0;32mpandas/_libs/lib.pyx\u001b[0m in \u001b[0;36mpandas._libs.lib.map_infer\u001b[0;34m()\u001b[0m\n",
            "\u001b[0;32m/usr/local/lib/python3.6/dist-packages/tqdm/std.py\u001b[0m in \u001b[0;36mwrapper\u001b[0;34m(*args, **kwargs)\u001b[0m\n\u001b[1;32m    747\u001b[0m                     \u001b[0;31m# take a fast or slow code path; so stop when t.total==t.n\u001b[0m\u001b[0;34m\u001b[0m\u001b[0;34m\u001b[0m\u001b[0;34m\u001b[0m\u001b[0m\n\u001b[1;32m    748\u001b[0m                     \u001b[0mt\u001b[0m\u001b[0;34m.\u001b[0m\u001b[0mupdate\u001b[0m\u001b[0;34m(\u001b[0m\u001b[0mn\u001b[0m\u001b[0;34m=\u001b[0m\u001b[0;36m1\u001b[0m \u001b[0;32mif\u001b[0m \u001b[0;32mnot\u001b[0m \u001b[0mt\u001b[0m\u001b[0;34m.\u001b[0m\u001b[0mtotal\u001b[0m \u001b[0;32mor\u001b[0m \u001b[0mt\u001b[0m\u001b[0;34m.\u001b[0m\u001b[0mn\u001b[0m \u001b[0;34m<\u001b[0m \u001b[0mt\u001b[0m\u001b[0;34m.\u001b[0m\u001b[0mtotal\u001b[0m \u001b[0;32melse\u001b[0m \u001b[0;36m0\u001b[0m\u001b[0;34m)\u001b[0m\u001b[0;34m\u001b[0m\u001b[0;34m\u001b[0m\u001b[0m\n\u001b[0;32m--> 749\u001b[0;31m                     \u001b[0;32mreturn\u001b[0m \u001b[0mfunc\u001b[0m\u001b[0;34m(\u001b[0m\u001b[0;34m*\u001b[0m\u001b[0margs\u001b[0m\u001b[0;34m,\u001b[0m \u001b[0;34m**\u001b[0m\u001b[0mkwargs\u001b[0m\u001b[0;34m)\u001b[0m\u001b[0;34m\u001b[0m\u001b[0;34m\u001b[0m\u001b[0m\n\u001b[0m\u001b[1;32m    750\u001b[0m \u001b[0;34m\u001b[0m\u001b[0m\n\u001b[1;32m    751\u001b[0m                 \u001b[0;31m# Apply the provided function (in **kwargs)\u001b[0m\u001b[0;34m\u001b[0m\u001b[0;34m\u001b[0m\u001b[0;34m\u001b[0m\u001b[0m\n",
            "\u001b[0;32m<ipython-input-26-22107b0b5f4f>\u001b[0m in \u001b[0;36m<lambda>\u001b[0;34m(x)\u001b[0m\n\u001b[1;32m      3\u001b[0m \u001b[0mtqdm\u001b[0m\u001b[0;34m.\u001b[0m\u001b[0mpandas\u001b[0m\u001b[0;34m(\u001b[0m\u001b[0;34m)\u001b[0m\u001b[0;34m\u001b[0m\u001b[0;34m\u001b[0m\u001b[0m\n\u001b[1;32m      4\u001b[0m \u001b[0;34m\u001b[0m\u001b[0m\n\u001b[0;32m----> 5\u001b[0;31m \u001b[0mnews_df_sample\u001b[0m\u001b[0;34m[\u001b[0m\u001b[0;34m'predicted'\u001b[0m\u001b[0;34m]\u001b[0m  \u001b[0;34m=\u001b[0m \u001b[0mnews_df_sample\u001b[0m\u001b[0;34m[\u001b[0m\u001b[0;34m'title'\u001b[0m\u001b[0;34m]\u001b[0m\u001b[0;34m.\u001b[0m\u001b[0mprogress_apply\u001b[0m\u001b[0;34m(\u001b[0m\u001b[0;32mlambda\u001b[0m \u001b[0mx\u001b[0m\u001b[0;34m:\u001b[0m \u001b[0mlabel_text\u001b[0m\u001b[0;34m(\u001b[0m\u001b[0mx\u001b[0m\u001b[0;34m,\u001b[0m\u001b[0mLR_model\u001b[0m\u001b[0;34m,\u001b[0m\u001b[0mcount_vect\u001b[0m\u001b[0;34m)\u001b[0m\u001b[0;34m)\u001b[0m\u001b[0;34m\u001b[0m\u001b[0;34m\u001b[0m\u001b[0m\n\u001b[0m\u001b[1;32m      6\u001b[0m \u001b[0mnews_df_sample\u001b[0m\u001b[0;34m[\u001b[0m\u001b[0;34m'predicted_proba'\u001b[0m\u001b[0;34m]\u001b[0m  \u001b[0;34m=\u001b[0m \u001b[0mnews_df_sample\u001b[0m\u001b[0;34m[\u001b[0m\u001b[0;34m'title'\u001b[0m\u001b[0;34m]\u001b[0m\u001b[0;34m.\u001b[0m\u001b[0mprogress_apply\u001b[0m\u001b[0;34m(\u001b[0m\u001b[0;32mlambda\u001b[0m \u001b[0mx\u001b[0m\u001b[0;34m:\u001b[0m \u001b[0mlabel_prob\u001b[0m\u001b[0;34m(\u001b[0m\u001b[0mx\u001b[0m\u001b[0;34m,\u001b[0m\u001b[0mLR_model\u001b[0m\u001b[0;34m,\u001b[0m\u001b[0mcount_vect\u001b[0m\u001b[0;34m)\u001b[0m\u001b[0;34m)\u001b[0m\u001b[0;34m\u001b[0m\u001b[0;34m\u001b[0m\u001b[0m\n",
            "\u001b[0;32m<ipython-input-24-773c87accc97>\u001b[0m in \u001b[0;36mlabel_text\u001b[0;34m(text, model, vect)\u001b[0m\n\u001b[1;32m      1\u001b[0m \u001b[0;32mdef\u001b[0m \u001b[0mlabel_text\u001b[0m\u001b[0;34m(\u001b[0m\u001b[0mtext\u001b[0m\u001b[0;34m,\u001b[0m\u001b[0mmodel\u001b[0m\u001b[0;34m,\u001b[0m\u001b[0mvect\u001b[0m\u001b[0;34m)\u001b[0m\u001b[0;34m:\u001b[0m\u001b[0;34m\u001b[0m\u001b[0;34m\u001b[0m\u001b[0m\n\u001b[1;32m      2\u001b[0m     \u001b[0mtext\u001b[0m \u001b[0;34m=\u001b[0m \u001b[0mvect\u001b[0m\u001b[0;34m.\u001b[0m\u001b[0mtransform\u001b[0m\u001b[0;34m(\u001b[0m\u001b[0;34m[\u001b[0m\u001b[0mtext\u001b[0m\u001b[0;34m]\u001b[0m\u001b[0;34m)\u001b[0m\u001b[0;34m\u001b[0m\u001b[0;34m\u001b[0m\u001b[0m\n\u001b[0;32m----> 3\u001b[0;31m     \u001b[0;32mreturn\u001b[0m \u001b[0mmodel\u001b[0m\u001b[0;34m.\u001b[0m\u001b[0mpredict\u001b[0m\u001b[0;34m(\u001b[0m\u001b[0mtext\u001b[0m\u001b[0;34m)\u001b[0m\u001b[0;34m.\u001b[0m\u001b[0mflatten\u001b[0m\u001b[0;34m(\u001b[0m\u001b[0;34m)\u001b[0m\u001b[0;34m[\u001b[0m\u001b[0;36m0\u001b[0m\u001b[0;34m]\u001b[0m\u001b[0;34m\u001b[0m\u001b[0;34m\u001b[0m\u001b[0m\n\u001b[0m\u001b[1;32m      4\u001b[0m \u001b[0;34m\u001b[0m\u001b[0m\n\u001b[1;32m      5\u001b[0m \u001b[0;32mdef\u001b[0m \u001b[0mlabel_prob\u001b[0m\u001b[0;34m(\u001b[0m\u001b[0mtext\u001b[0m\u001b[0;34m,\u001b[0m\u001b[0mmodel\u001b[0m\u001b[0;34m,\u001b[0m\u001b[0mvect\u001b[0m\u001b[0;34m)\u001b[0m\u001b[0;34m:\u001b[0m\u001b[0;34m\u001b[0m\u001b[0;34m\u001b[0m\u001b[0m\n",
            "\u001b[0;32m/usr/local/lib/python3.6/dist-packages/sklearn/linear_model/_base.py\u001b[0m in \u001b[0;36mpredict\u001b[0;34m(self, X)\u001b[0m\n\u001b[1;32m    291\u001b[0m             \u001b[0mPredicted\u001b[0m \u001b[0;32mclass\u001b[0m \u001b[0mlabel\u001b[0m \u001b[0mper\u001b[0m \u001b[0msample\u001b[0m\u001b[0;34m.\u001b[0m\u001b[0;34m\u001b[0m\u001b[0;34m\u001b[0m\u001b[0m\n\u001b[1;32m    292\u001b[0m         \"\"\"\n\u001b[0;32m--> 293\u001b[0;31m         \u001b[0mscores\u001b[0m \u001b[0;34m=\u001b[0m \u001b[0mself\u001b[0m\u001b[0;34m.\u001b[0m\u001b[0mdecision_function\u001b[0m\u001b[0;34m(\u001b[0m\u001b[0mX\u001b[0m\u001b[0;34m)\u001b[0m\u001b[0;34m\u001b[0m\u001b[0;34m\u001b[0m\u001b[0m\n\u001b[0m\u001b[1;32m    294\u001b[0m         \u001b[0;32mif\u001b[0m \u001b[0mlen\u001b[0m\u001b[0;34m(\u001b[0m\u001b[0mscores\u001b[0m\u001b[0;34m.\u001b[0m\u001b[0mshape\u001b[0m\u001b[0;34m)\u001b[0m \u001b[0;34m==\u001b[0m \u001b[0;36m1\u001b[0m\u001b[0;34m:\u001b[0m\u001b[0;34m\u001b[0m\u001b[0;34m\u001b[0m\u001b[0m\n\u001b[1;32m    295\u001b[0m             \u001b[0mindices\u001b[0m \u001b[0;34m=\u001b[0m \u001b[0;34m(\u001b[0m\u001b[0mscores\u001b[0m \u001b[0;34m>\u001b[0m \u001b[0;36m0\u001b[0m\u001b[0;34m)\u001b[0m\u001b[0;34m.\u001b[0m\u001b[0mastype\u001b[0m\u001b[0;34m(\u001b[0m\u001b[0mnp\u001b[0m\u001b[0;34m.\u001b[0m\u001b[0mint\u001b[0m\u001b[0;34m)\u001b[0m\u001b[0;34m\u001b[0m\u001b[0;34m\u001b[0m\u001b[0m\n",
            "\u001b[0;32m/usr/local/lib/python3.6/dist-packages/sklearn/linear_model/_base.py\u001b[0m in \u001b[0;36mdecision_function\u001b[0;34m(self, X)\u001b[0m\n\u001b[1;32m    271\u001b[0m         \u001b[0;32mif\u001b[0m \u001b[0mX\u001b[0m\u001b[0;34m.\u001b[0m\u001b[0mshape\u001b[0m\u001b[0;34m[\u001b[0m\u001b[0;36m1\u001b[0m\u001b[0;34m]\u001b[0m \u001b[0;34m!=\u001b[0m \u001b[0mn_features\u001b[0m\u001b[0;34m:\u001b[0m\u001b[0;34m\u001b[0m\u001b[0;34m\u001b[0m\u001b[0m\n\u001b[1;32m    272\u001b[0m             raise ValueError(\"X has %d features per sample; expecting %d\"\n\u001b[0;32m--> 273\u001b[0;31m                              % (X.shape[1], n_features))\n\u001b[0m\u001b[1;32m    274\u001b[0m \u001b[0;34m\u001b[0m\u001b[0m\n\u001b[1;32m    275\u001b[0m         scores = safe_sparse_dot(X, self.coef_.T,\n",
            "\u001b[0;31mValueError\u001b[0m: X has 21637 features per sample; expecting 75377"
          ]
        }
      ]
    },
    {
      "cell_type": "code",
      "metadata": {
        "id": "VOcjcs6JXmkF"
      },
      "source": [
        "news_df_sample"
      ],
      "execution_count": null,
      "outputs": []
    },
    {
      "cell_type": "code",
      "metadata": {
        "id": "fJAFoh0idOY0"
      },
      "source": [
        "news_df_sample = news_df_sample[['title','url','date','predicted','predicted_proba']]\n",
        "news_df_sample"
      ],
      "execution_count": null,
      "outputs": []
    },
    {
      "cell_type": "code",
      "metadata": {
        "id": "VYweuejxlBvb"
      },
      "source": [
        "news_df_sample.to_csv('/content/gdrive/My Drive/covid_mining/sentiment_manual_validation_set.csv')"
      ],
      "execution_count": null,
      "outputs": []
    },
    {
      "cell_type": "markdown",
      "metadata": {
        "id": "Ow910ApKczvz"
      },
      "source": [
        "Creating a proper gold standard dataset"
      ]
    },
    {
      "cell_type": "markdown",
      "metadata": {
        "id": "qtEe1n_XlClJ"
      },
      "source": [
        "#Evaluating model's performance on the out-of-distribution set\n"
      ]
    },
    {
      "cell_type": "code",
      "metadata": {
        "id": "dikR69xOpSsF"
      },
      "source": [
        "path = '/content/gdrive/My Drive/covid_mining/annotated_sentiment_manual_validation_set.csv' #this is from our manually annotated sentiment set\n",
        "val_df = pd.read_csv(path,encoding='UTF-8')\n"
      ],
      "execution_count": null,
      "outputs": []
    },
    {
      "cell_type": "code",
      "metadata": {
        "id": "x1RsX4UdLJJM"
      },
      "source": [
        "#loading model\n",
        "filename = '/content/gdrive/My Drive/covid_mining/LR_model_news.h5'\n",
        "LR_model = pickle.load(open(filename, 'rb'))\n",
        "\n",
        "filename = '/content/gdrive/My Drive/covid_mining/Ada_model_news.h5'\n",
        "ada_model = pickle.load(open(filename, 'rb'))"
      ],
      "execution_count": null,
      "outputs": []
    },
    {
      "cell_type": "code",
      "metadata": {
        "id": "5TQi_EYfLzYF"
      },
      "source": [
        "def label_text(text,model,vect):\n",
        "    text = vect.transform([text])\n",
        "    return model.predict(text).flatten()[0]\n",
        "\n",
        "def label_prob(text,model,vect):\n",
        "    text = vect.transform([text])\n",
        "    return model.predict_proba(text).flatten()"
      ],
      "execution_count": null,
      "outputs": []
    },
    {
      "cell_type": "code",
      "metadata": {
        "id": "Dju-Wk9cpkZc",
        "colab": {
          "base_uri": "https://localhost:8080/"
        },
        "outputId": "99e5cbb3-fc30-435f-8bd4-961aa13a447f"
      },
      "source": [
        "val_df.columns"
      ],
      "execution_count": null,
      "outputs": [
        {
          "output_type": "execute_result",
          "data": {
            "text/plain": [
              "Index(['Unnamed: 0', 'title', 'url', 'date', 'predicted', 'predicted_proba',\n",
              "       'xy_predict', 'zy_predict', 'vote_label', 'Unnamed: 9', 'is_correct'],\n",
              "      dtype='object')"
            ]
          },
          "metadata": {
            "tags": []
          },
          "execution_count": 30
        }
      ]
    },
    {
      "cell_type": "code",
      "metadata": {
        "id": "4mz6W9wmpvN3"
      },
      "source": [
        "val_df = val_df[['title','vote_label']].dropna()\n",
        "val_df.columns = ['X','y']\n",
        "y_test = val_df.y.tolist()"
      ],
      "execution_count": null,
      "outputs": []
    },
    {
      "cell_type": "code",
      "metadata": {
        "id": "sl2eyGRxL8pB",
        "colab": {
          "base_uri": "https://localhost:8080/"
        },
        "outputId": "e3aa2a96-9415-45cb-8e4a-ea0ace8ffb8a"
      },
      "source": [
        "y_pred = []\n",
        "for x in val_df.X:\n",
        "    print(x)\n",
        "    y_hat = label_text(x,LR_model,count_vect)\n",
        "    y_pred.append(y_hat)"
      ],
      "execution_count": null,
      "outputs": [
        {
          "output_type": "stream",
          "text": [
            "How Gen Z is using art and creativity to improve their mental health\n",
            "Danny Meyer: 'Restaurants are not going to be back full force by June'\n",
            "Bolivia’s Covid Death Rate Soared As Politicians Clashed\n",
            "The ‘Green Shoots’ at PVH\n",
            "Nexera Energy : Q2 2020 Remarks | MarketScreener\n",
            "Federal Court finds border closures safest way to protect public health in Clive Palmer case\n",
            "Aprea Therapeutics Completes Full Enrollment of Phase 3 Clinical Trial in TP53 Mutant Myelodysplastic Syndromes (MDS)\n",
            "Trump contradicts Pompeo by downplaying foreign coronavirus disinformation campaigns - CNNPolitics\n",
            "Pakistan State Oil : Government initiates inquiry against oil companies | MarketScreener\n",
            "Edited Transcript of FSIC earnings conference call or presentation 28-Feb-20 3:00pm GMT\n",
            "89bio Reports Second Quarter 2020 Financial Results and Provides Corporate Update | MarketScreener\n",
            "PrairieSky Royalty : ANNOUNCES CONFERENCE CALL FOR Q1 2020 RESULTS | MarketScreener\n",
            "Adaptive, Microsoft to conduct study evaluating T-cells in COVID-19 patients - MarketWatch\n",
            "To achieve a new New Deal, Democrats must learn from the old one\n",
            "Shaw Communications : Opens Go WiFi Network to Support Communities During COVID-19 Outbreak | MarketScreener\n",
            "FuelCell Energy : 20 Megawatt Fuel Cell Park Exceeded All Performance Expectations at Korea Southern Power Company | MarketScreener\n",
            "Vietnam suspends domestic football after new coronavirus cases\n",
            "Nolberto Solano sorry after being detained for breaking Peru curfew | Football | The Guardian\n",
            "The Air Force’s mysterious X-37B spaceplane successfully launches to space on sixth mission\n",
            "Record rally for gold falters ahead of US Fed meeting\n",
            "Anthony Fauci: \"You don't make the timeline, the virus makes the timeline\" on relaxing public health measures - CNNPolitics\n",
            "Trump administration move could add 'significant risks' to retirement accounts\n",
            "Montreal's tourist heart a ghost town in pandemic summer\n",
            "Exclusive: Amazon in talks to invest in cloud services company Rackspace, say sources | MarketScreener\n",
            "USPS chief Louis DeJoy faces Senate scrutiny Friday\n",
            "Communications Services Down, But Verizon Rises, Amid Mixed Growth Fortunes -- Communications Services Roundup\n",
            "Reimposition of quarantine hits Spain’s vital, already struggling tourism sector | World news | The Guardian\n",
            "UFCW 8-Golden State Announces Excellent New Agreement with Raley’s, Bel Air and Nob Hill Grocery Chains\n",
            "Forced' evictions eat away at a Manila community as developer spares the golf course next door\n",
            "1 in 4 women are now setting up their own business\n",
            "US oil giants report big losses, prepare for longer downturn\n",
            "Secondhand clothing is more popular than ever. Even in a pandemic - CNN\n",
            "Markets slide as coronavirus outbreak worsens— here's what to watch\n",
            "Doubt is essential for science – but for politicians, it's a sign of weakness | Jim Al-Khalili | Opinion | The Guardian\n",
            "Coronavirus latest: at a glance 18 May | World news | The Guardian\n",
            "Select Sands : Reports Results for First Quarter 2020 June 1, 2020 | MarketScreener\n",
            "Forma Therapeutics Reports Second Quarter 2020 Financial Results and Provides Business Update\n",
            "Paris expands mandatory face mask zones, infection rate hits post-lockdown high\n",
            "Kenya Airways : KQ Pilot Who Succumbed to COVID-19 to Be Buried On Saturday | MarketScreener\n",
            "UPDATE 3-Bahrain sells $2 bln in dual-tranche bonds with over $11 bln demand - document - Reuters\n",
            "Hedge Funds Getting Bullish On Allot Ltd. (ALLT)\n",
            "Macy's, Inc. : Reports First Quarter 2020 Results | MarketScreener\n",
            "DOJ, FTC to expedite coronavirus-related joint venture reviews\n",
            "The Coronavirus Swamps Local Health Departments, Already Crippled by Cuts\n",
            "Reality Winner among 500 women with coronavirus at Texas federal prison - CNN\n",
            "1,510 new COVID-19 cases take Pune district tally to 42,836\n",
            "What Do Google and the Post Office Have in Common? They Get Top Marks for Coronavirus Response.\n",
            "Behind fortress walls, Macron and Merkel to chart Europe's course\n",
            "Coronavirus: I'm worried about a second coronavirus wave, says Matt Hancock\n",
            "POLL-Partial recovery in a year only solace for beaten-down emerging FX - Reuters\n",
            "‘Sticking to social distancing rules is incredibly difficult:’ The perils of navigating a world with coronavirus as a blind person - MarketWatch\n",
            "IEA sees deeper fall in oil demand as a result of coronavirus - MarketWatch\n",
            "Coronavirus: 'Biological weapon' entered US after Wuhan lab scientist defected – claim | Weird | News | Express.co.uk\n",
            "Online Political Ads To Be Tagged So Voters Know Who Is Behind Them\n",
            "New Coronavirus Cases in New Zealand Rattle Public Confidence\n",
            "Novartis : expands Africa Sickle Cell Disease program to Uganda and Tanzania | MarketScreener\n",
            "Alibaba shares hold up in face of Trump threats - Reuters\n",
            "Marinus Pharmaceuticals Provides Business Update and Reports First Quarter 2020 Financial Results | MarketScreener\n",
            "Smith & Nephew : +Nephew profit misses, but easing lockdowns boost operations | MarketScreener\n",
            "Vitamin D's effect on Covid-19 maybe be exaggerated. Here's what we know - CNN\n",
            "Qliro : NOTICE TO ATTEND THE EXTRAORDINARY GENERAL MEETING2020-08-27 - Regulatory press release | MarketScreener\n",
            "Outlook into the Smart Speaker Global Industry to 2025 - Key Players Include Apple, Amazon & Sonos Among Others\n",
            "New species found on Twitter: Scientist stunned by parasite funghus that pierces its host | Science | News | Express.co.uk\n",
            "JC Penney kicks off liquidation sales at 136 stores this week\n",
            "This is what a world looks like with just over 1 degree of global warming. The planet could get much hotter - CNN\n",
            "Republican apologizes for likening Covid-19 curbs to Nazis' persecution of Jews | US news | The Guardian\n",
            "Canada set for muted spring home-selling season as coronavirus saps sentiment | MarketScreener\n",
            "Researchers find rise in broken heart syndrome during COVID-19 pandemic: Broken heart syndrome, or stress cardiomyopathy, occurs in response to stressful events -- ScienceDaily\n",
            "These Medicare changes may be included in next stimulus bill\n",
            "Restaurants are no longer empty': visitors slowly return to UK's Chinatowns | World news | The Guardian\n",
            "New York Police Will Stop Enforcing Street-Vendor Laws, but Questions Linger\n",
            "What's in the Offing for Duke Realty's (DRE) Q2 Earnings?\n",
            "ACHE LIFE : Achieve Life Sciences Announces Presentation of Cytisinicline Data at the 20th Annual Society for Research on Nicotine & Tobacco Europe (SRNT-E) Virtual Conference | MarketScreener\n",
            "GM Gets 11% Stake in Nikola, Helping Make Electric Trucks -- WSJ | MarketScreener\n",
            "Sean Penn-Hosted ‘Fast Times at Ridgemont High’ Table Read to Star Jennifer Aniston, Shia LaBeouf, Julia Roberts\n",
            "What Does Our Body Temperature Say About Our Health?\n",
            "Pentair Provides Business Updates Related to COVID-19 Impact\n",
            "Europe is building defenses against Chinese takeovers of key industries - CNN\n",
            "Ross Stores : Withdraws Outlook, Suspends Buybacks | MarketScreener\n",
            "Rugby Mining : Further Amends the Mabuhay (Motherlode) Option Agreement | MarketScreener\n",
            "Trump is struggling against two invisible enemies: the coronavirus and Joe Biden\n",
            "Coronavirus map LIVE: Vulnerable to be FREED for indoor 'captivity' from tomorrow | UK | News | Express.co.uk\n",
            "Prince Harry 'incredibly proud' of the British public's response to coronavirus lockdown | Royal | News | Express.co.uk\n",
            "EIMSKIP: EBITDA results for Q1 below expectations | MarketScreener\n",
            "With no fans at US Open, Serena cheers herself to victory\n",
            "Treasury yields lower ahead of Fed decision\n",
            "Coronavirus rising in 22 U.S. states ahead of Labor Day holiday weekend\n",
            "Air Force Sees Largest Jump in Military-Wide Coronavirus Spike\n",
            "Small Businesses, Nonprofits Eligible For New Coronavirus ‘Paycheck Protection Program’ - The Santa Barbara Independent\n",
            "The Fed might have to cut interest rates all the way to zero - CNN\n",
            "3 Diverse Stocks to Buy Now for Second Half Coronavirus Immunity & Growth\n",
            "The ‘coronavirus budget’ fails to protect the most vulnerable workers | John McDonnell | Opinion | The Guardian\n",
            "Global Unified Communications as a Service (UCaaS) Industry\n",
            "Eurovision Song Contest Is Canceled Over Coronavirus Concerns\n",
            "Deaf New York residents sue Cuomo for not using a sign language interpreter during his daily coronavirus briefings - CNNPolitics\n",
            "London markets bounce amid reports of progress for Covid-19 drug\n",
            "Banpu Public : Delivers Relief to Individuals Impacted by Covid-19 in Pattaya | MarketScreener\n",
            "Cannae : Reports First Quarter 2020 Results | MarketScreener\n",
            "Small businesses face ‘trade credit crunch’ | The Fintech Times\n",
            "Did Hedge Funds Make The Right Call On Federated Hermes, Inc. (FHI) ?\n"
          ],
          "name": "stdout"
        }
      ]
    },
    {
      "cell_type": "code",
      "metadata": {
        "id": "lJP_UT2UqpYn",
        "colab": {
          "base_uri": "https://localhost:8080/"
        },
        "outputId": "9b1ad013-3dcd-4370-f812-84cc004b897c"
      },
      "source": [
        "#classification report for LR\n",
        "y_pred = [label_text(x,LR_model,count_vect) for x in val_df.X]\n",
        "print(classification_report(y_test, y_pred))"
      ],
      "execution_count": null,
      "outputs": [
        {
          "output_type": "stream",
          "text": [
            "              precision    recall  f1-score   support\n",
            "\n",
            "         0.0       0.50      0.54      0.52        56\n",
            "         1.0       0.35      0.32      0.33        44\n",
            "\n",
            "    accuracy                           0.44       100\n",
            "   macro avg       0.42      0.43      0.43       100\n",
            "weighted avg       0.43      0.44      0.44       100\n",
            "\n"
          ],
          "name": "stdout"
        }
      ]
    },
    {
      "cell_type": "code",
      "metadata": {
        "id": "XpUUB8rp5SeN",
        "colab": {
          "base_uri": "https://localhost:8080/",
          "height": 285
        },
        "outputId": "bbd345ad-3ca1-4cce-9664-4bbbff0c8f3e"
      },
      "source": [
        "cm = confusion_matrix(y_test, y_pred)\n",
        "df_cm = pd.DataFrame(cm)\n",
        "show_confusion_matrix(df_cm)"
      ],
      "execution_count": null,
      "outputs": [
        {
          "output_type": "display_data",
          "data": {
            "image/png": "[encoded data removed]",
            "text/plain": [
              "<Figure size 432x288 with 2 Axes>"
            ]
          },
          "metadata": {
            "tags": [],
            "needs_background": "light"
          }
        }
      ]
    },
    {
      "cell_type": "code",
      "metadata": {
        "id": "gGwPIXFZtb4V",
        "colab": {
          "base_uri": "https://localhost:8080/"
        },
        "outputId": "5220f22d-1b75-443d-aba8-f618497c2030"
      },
      "source": [
        "#classification report for ada\n",
        "y_pred = [label_text(x,ada_model,count_vect) for x in val_df.X]\n",
        "print(classification_report(y_test, y_pred))"
      ],
      "execution_count": null,
      "outputs": [
        {
          "output_type": "stream",
          "text": [
            "              precision    recall  f1-score   support\n",
            "\n",
            "         0.0       0.51      0.68      0.58        56\n",
            "         1.0       0.28      0.16      0.20        44\n",
            "\n",
            "    accuracy                           0.45       100\n",
            "   macro avg       0.39      0.42      0.39       100\n",
            "weighted avg       0.41      0.45      0.41       100\n",
            "\n"
          ],
          "name": "stdout"
        }
      ]
    },
    {
      "cell_type": "code",
      "metadata": {
        "id": "Un2RGTrC5XtC",
        "colab": {
          "base_uri": "https://localhost:8080/",
          "height": 281
        },
        "outputId": "766ff9c6-8fe2-4455-d11f-339892374f63"
      },
      "source": [
        "cm = confusion_matrix(y_test, y_pred)\n",
        "df_cm = pd.DataFrame(cm)\n",
        "show_confusion_matrix(df_cm)"
      ],
      "execution_count": null,
      "outputs": [
        {
          "output_type": "display_data",
          "data": {
            "image/png": "[encoded data removed]",
            "text/plain": [
              "<Figure size 432x288 with 2 Axes>"
            ]
          },
          "metadata": {
            "tags": [],
            "needs_background": "light"
          }
        }
      ]
    },
    {
      "cell_type": "markdown",
      "metadata": {
        "id": "j8wfK1O2a5jP"
      },
      "source": [
        "Using vader"
      ]
    },
    {
      "cell_type": "code",
      "metadata": {
        "id": "u1J867J9d8vx",
        "colab": {
          "base_uri": "https://localhost:8080/",
          "height": 589
        },
        "outputId": "3ef03a45-bda4-434c-83cf-b58894fbd276"
      },
      "source": [
        "path = '/content/gdrive/My Drive/covid_mining/UCI/News_Final.csv' \n",
        "df = pd.read_csv(path,encoding='UTF-8')\n",
        "df"
      ],
      "execution_count": null,
      "outputs": [
        {
          "output_type": "execute_result",
          "data": {
            "text/html": [
              "<div>\n",
              "<style scoped>\n",
              "    .dataframe tbody tr th:only-of-type {\n",
              "        vertical-align: middle;\n",
              "    }\n",
              "\n",
              "    .dataframe tbody tr th {\n",
              "        vertical-align: top;\n",
              "    }\n",
              "\n",
              "    .dataframe thead th {\n",
              "        text-align: right;\n",
              "    }\n",
              "</style>\n",
              "<table border=\"1\" class=\"dataframe\">\n",
              "  <thead>\n",
              "    <tr style=\"text-align: right;\">\n",
              "      <th></th>\n",
              "      <th>IDLink</th>\n",
              "      <th>Title</th>\n",
              "      <th>Headline</th>\n",
              "      <th>Source</th>\n",
              "      <th>Topic</th>\n",
              "      <th>PublishDate</th>\n",
              "      <th>SentimentTitle</th>\n",
              "      <th>SentimentHeadline</th>\n",
              "      <th>Facebook</th>\n",
              "      <th>GooglePlus</th>\n",
              "      <th>LinkedIn</th>\n",
              "    </tr>\n",
              "  </thead>\n",
              "  <tbody>\n",
              "    <tr>\n",
              "      <th>0</th>\n",
              "      <td>99248.0</td>\n",
              "      <td>Obama Lays Wreath at Arlington National Cemetery</td>\n",
              "      <td>Obama Lays Wreath at Arlington National Cemete...</td>\n",
              "      <td>USA TODAY</td>\n",
              "      <td>obama</td>\n",
              "      <td>2002-04-02 00:00:00</td>\n",
              "      <td>0.000000</td>\n",
              "      <td>-0.053300</td>\n",
              "      <td>-1</td>\n",
              "      <td>-1</td>\n",
              "      <td>-1</td>\n",
              "    </tr>\n",
              "    <tr>\n",
              "      <th>1</th>\n",
              "      <td>10423.0</td>\n",
              "      <td>A Look at the Health of the Chinese Economy</td>\n",
              "      <td>Tim Haywood, investment director business-unit...</td>\n",
              "      <td>Bloomberg</td>\n",
              "      <td>economy</td>\n",
              "      <td>2008-09-20 00:00:00</td>\n",
              "      <td>0.208333</td>\n",
              "      <td>-0.156386</td>\n",
              "      <td>-1</td>\n",
              "      <td>-1</td>\n",
              "      <td>-1</td>\n",
              "    </tr>\n",
              "    <tr>\n",
              "      <th>2</th>\n",
              "      <td>18828.0</td>\n",
              "      <td>Nouriel Roubini: Global Economy Not Back to 2008</td>\n",
              "      <td>Nouriel Roubini, NYU professor and chairman at...</td>\n",
              "      <td>Bloomberg</td>\n",
              "      <td>economy</td>\n",
              "      <td>2012-01-28 00:00:00</td>\n",
              "      <td>-0.425210</td>\n",
              "      <td>0.139754</td>\n",
              "      <td>-1</td>\n",
              "      <td>-1</td>\n",
              "      <td>-1</td>\n",
              "    </tr>\n",
              "    <tr>\n",
              "      <th>3</th>\n",
              "      <td>27788.0</td>\n",
              "      <td>Finland GDP Expands In Q4</td>\n",
              "      <td>Finland's economy expanded marginally in the t...</td>\n",
              "      <td>RTT News</td>\n",
              "      <td>economy</td>\n",
              "      <td>2015-03-01 00:06:00</td>\n",
              "      <td>0.000000</td>\n",
              "      <td>0.026064</td>\n",
              "      <td>-1</td>\n",
              "      <td>-1</td>\n",
              "      <td>-1</td>\n",
              "    </tr>\n",
              "    <tr>\n",
              "      <th>4</th>\n",
              "      <td>27789.0</td>\n",
              "      <td>Tourism, govt spending buoys Thai economy in J...</td>\n",
              "      <td>Tourism and public spending continued to boost...</td>\n",
              "      <td>The Nation - Thailand&amp;#39;s English news</td>\n",
              "      <td>economy</td>\n",
              "      <td>2015-03-01 00:11:00</td>\n",
              "      <td>0.000000</td>\n",
              "      <td>0.141084</td>\n",
              "      <td>-1</td>\n",
              "      <td>-1</td>\n",
              "      <td>-1</td>\n",
              "    </tr>\n",
              "    <tr>\n",
              "      <th>...</th>\n",
              "      <td>...</td>\n",
              "      <td>...</td>\n",
              "      <td>...</td>\n",
              "      <td>...</td>\n",
              "      <td>...</td>\n",
              "      <td>...</td>\n",
              "      <td>...</td>\n",
              "      <td>...</td>\n",
              "      <td>...</td>\n",
              "      <td>...</td>\n",
              "      <td>...</td>\n",
              "    </tr>\n",
              "    <tr>\n",
              "      <th>93234</th>\n",
              "      <td>61851.0</td>\n",
              "      <td>Stocks rise as investors key in on US economy ...</td>\n",
              "      <td>The June employment report is viewed as a cruc...</td>\n",
              "      <td>MarketWatch</td>\n",
              "      <td>economy</td>\n",
              "      <td>2016-07-07 15:31:05</td>\n",
              "      <td>0.104284</td>\n",
              "      <td>0.044943</td>\n",
              "      <td>-1</td>\n",
              "      <td>3</td>\n",
              "      <td>5</td>\n",
              "    </tr>\n",
              "    <tr>\n",
              "      <th>93235</th>\n",
              "      <td>61865.0</td>\n",
              "      <td>Russian PM proposes to use conservative and to...</td>\n",
              "      <td>In addition, establish stimulating economic po...</td>\n",
              "      <td>TASS</td>\n",
              "      <td>economy</td>\n",
              "      <td>2016-07-07 15:31:10</td>\n",
              "      <td>0.072194</td>\n",
              "      <td>0.000000</td>\n",
              "      <td>-1</td>\n",
              "      <td>0</td>\n",
              "      <td>1</td>\n",
              "    </tr>\n",
              "    <tr>\n",
              "      <th>93236</th>\n",
              "      <td>104793.0</td>\n",
              "      <td>Palestinian Government Uses Foreign Aid To Pay...</td>\n",
              "      <td>The Palestinian government spends nearly $140 ...</td>\n",
              "      <td>Daily Caller</td>\n",
              "      <td>palestine</td>\n",
              "      <td>2016-07-07 15:38:26</td>\n",
              "      <td>0.291667</td>\n",
              "      <td>-0.139754</td>\n",
              "      <td>5</td>\n",
              "      <td>1</td>\n",
              "      <td>0</td>\n",
              "    </tr>\n",
              "    <tr>\n",
              "      <th>93237</th>\n",
              "      <td>104794.0</td>\n",
              "      <td>Palestine Youth Orchestra prepares for first U...</td>\n",
              "      <td>Palestine Youth Orchestra prepares for first U...</td>\n",
              "      <td>Ahram Online</td>\n",
              "      <td>palestine</td>\n",
              "      <td>2016-07-07 15:59:22</td>\n",
              "      <td>0.121534</td>\n",
              "      <td>0.092313</td>\n",
              "      <td>0</td>\n",
              "      <td>0</td>\n",
              "      <td>0</td>\n",
              "    </tr>\n",
              "    <tr>\n",
              "      <th>93238</th>\n",
              "      <td>61870.0</td>\n",
              "      <td>Sausalito businesswoman wins $10000 in Microso...</td>\n",
              "      <td>Goldstein, the proprietor of the TG Travel Gro...</td>\n",
              "      <td>East Bay Times</td>\n",
              "      <td>microsoft</td>\n",
              "      <td>2016-07-07 16:16:11</td>\n",
              "      <td>0.000000</td>\n",
              "      <td>0.054554</td>\n",
              "      <td>-1</td>\n",
              "      <td>1</td>\n",
              "      <td>0</td>\n",
              "    </tr>\n",
              "  </tbody>\n",
              "</table>\n",
              "<p>93239 rows × 11 columns</p>\n",
              "</div>"
            ],
            "text/plain": [
              "         IDLink  ... LinkedIn\n",
              "0       99248.0  ...       -1\n",
              "1       10423.0  ...       -1\n",
              "2       18828.0  ...       -1\n",
              "3       27788.0  ...       -1\n",
              "4       27789.0  ...       -1\n",
              "...         ...  ...      ...\n",
              "93234   61851.0  ...        5\n",
              "93235   61865.0  ...        1\n",
              "93236  104793.0  ...        0\n",
              "93237  104794.0  ...        0\n",
              "93238   61870.0  ...        0\n",
              "\n",
              "[93239 rows x 11 columns]"
            ]
          },
          "metadata": {
            "tags": []
          },
          "execution_count": 41
        }
      ]
    },
    {
      "cell_type": "code",
      "metadata": {
        "id": "fpgjkzbZbBS6"
      },
      "source": [
        "RANDOM_STATE = 42\n",
        "\n",
        "X_train, X_test, y_train, y_test = train_test_split(X, y, test_size=0.5, random_state=RANDOM_STATE)"
      ],
      "execution_count": null,
      "outputs": []
    },
    {
      "cell_type": "code",
      "metadata": {
        "id": "h-AewoGAbHHU",
        "colab": {
          "base_uri": "https://localhost:8080/"
        },
        "outputId": "009fa99a-34cc-42a0-9b90-f360559560da"
      },
      "source": [
        "#doing list comprehension\n",
        "X_train = [text_cleanup(txt) for txt in tqdm(X_train)]\n",
        "X_test = [text_cleanup(txt) for txt in tqdm(X_test)]"
      ],
      "execution_count": null,
      "outputs": [
        {
          "output_type": "stream",
          "text": [
            "\n",
            "  0%|          | 0/46619 [00:00<?, ?it/s]\u001b[A\n",
            "  0%|          | 201/46619 [00:00<00:23, 2009.02it/s]\u001b[A\n",
            "  1%|          | 422/46619 [00:00<00:22, 2063.80it/s]\u001b[A\n",
            "  1%|▏         | 640/46619 [00:00<00:21, 2096.24it/s]\u001b[A\n",
            "  2%|▏         | 863/46619 [00:00<00:21, 2130.37it/s]\u001b[A\n",
            "  2%|▏         | 1087/46619 [00:00<00:21, 2159.24it/s]\u001b[A\n",
            "  3%|▎         | 1318/46619 [00:00<00:20, 2200.46it/s]\u001b[A\n",
            "  3%|▎         | 1536/46619 [00:00<00:20, 2193.89it/s]\u001b[A\n",
            "  4%|▍         | 1758/46619 [00:00<00:20, 2200.44it/s]\u001b[A\n",
            "  4%|▍         | 1975/46619 [00:00<00:20, 2189.45it/s]\u001b[A\n",
            "  5%|▍         | 2206/46619 [00:01<00:19, 2222.13it/s]\u001b[A\n",
            "  5%|▌         | 2433/46619 [00:01<00:19, 2233.86it/s]\u001b[A\n",
            "  6%|▌         | 2653/46619 [00:01<00:20, 2182.33it/s]\u001b[A\n",
            "  6%|▌         | 2871/46619 [00:01<00:20, 2180.69it/s]\u001b[A\n",
            "  7%|▋         | 3095/46619 [00:01<00:19, 2196.65it/s]\u001b[A\n",
            "  7%|▋         | 3316/46619 [00:01<00:19, 2200.57it/s]\u001b[A\n",
            "  8%|▊         | 3543/46619 [00:01<00:19, 2217.93it/s]\u001b[A\n",
            "  8%|▊         | 3768/46619 [00:01<00:19, 2225.70it/s]\u001b[A\n",
            "  9%|▊         | 3991/46619 [00:01<00:19, 2225.83it/s]\u001b[A\n",
            "  9%|▉         | 4214/46619 [00:01<00:19, 2160.53it/s]\u001b[A\n",
            " 10%|▉         | 4437/46619 [00:02<00:19, 2178.10it/s]\u001b[A\n",
            " 10%|▉         | 4661/46619 [00:02<00:19, 2196.16it/s]\u001b[A\n",
            " 10%|█         | 4885/46619 [00:02<00:18, 2207.42it/s]\u001b[A\n",
            " 11%|█         | 5106/46619 [00:02<00:19, 2182.57it/s]\u001b[A\n",
            " 11%|█▏        | 5335/46619 [00:02<00:18, 2212.89it/s]\u001b[A\n",
            " 12%|█▏        | 5557/46619 [00:02<00:18, 2203.46it/s]\u001b[A\n",
            " 12%|█▏        | 5779/46619 [00:02<00:18, 2206.51it/s]\u001b[A\n",
            " 13%|█▎        | 6000/46619 [00:02<00:18, 2183.84it/s]\u001b[A\n",
            " 13%|█▎        | 6228/46619 [00:02<00:18, 2209.76it/s]\u001b[A\n",
            " 14%|█▍        | 6450/46619 [00:02<00:18, 2187.14it/s]\u001b[A\n",
            " 14%|█▍        | 6671/46619 [00:03<00:18, 2191.44it/s]\u001b[A\n",
            " 15%|█▍        | 6898/46619 [00:03<00:17, 2211.82it/s]\u001b[A\n",
            " 15%|█▌        | 7128/46619 [00:03<00:17, 2236.18it/s]\u001b[A\n",
            " 16%|█▌        | 7352/46619 [00:03<00:17, 2207.51it/s]\u001b[A\n",
            " 16%|█▌        | 7573/46619 [00:03<00:17, 2180.64it/s]\u001b[A\n",
            " 17%|█▋        | 7797/46619 [00:03<00:17, 2197.60it/s]\u001b[A\n",
            " 17%|█▋        | 8017/46619 [00:03<00:18, 2129.55it/s]\u001b[A\n",
            " 18%|█▊        | 8245/46619 [00:03<00:17, 2170.61it/s]\u001b[A\n",
            " 18%|█▊        | 8468/46619 [00:03<00:17, 2185.61it/s]\u001b[A\n",
            " 19%|█▊        | 8688/46619 [00:03<00:17, 2153.13it/s]\u001b[A\n",
            " 19%|█▉        | 8904/46619 [00:04<00:18, 2084.61it/s]\u001b[A\n",
            " 20%|█▉        | 9114/46619 [00:04<00:18, 2080.79it/s]\u001b[A\n",
            " 20%|█▉        | 9323/46619 [00:04<00:18, 2061.66it/s]\u001b[A\n",
            " 20%|██        | 9545/46619 [00:04<00:17, 2104.37it/s]\u001b[A\n",
            " 21%|██        | 9771/46619 [00:04<00:17, 2147.45it/s]\u001b[A\n",
            " 21%|██▏       | 9988/46619 [00:04<00:17, 2152.87it/s]\u001b[A\n",
            " 22%|██▏       | 10207/46619 [00:04<00:16, 2163.01it/s]\u001b[A\n",
            " 22%|██▏       | 10424/46619 [00:04<00:16, 2145.57it/s]\u001b[A\n",
            " 23%|██▎       | 10639/46619 [00:04<00:16, 2130.68it/s]\u001b[A\n",
            " 23%|██▎       | 10853/46619 [00:05<00:17, 2008.09it/s]\u001b[A\n",
            " 24%|██▎       | 11066/46619 [00:05<00:17, 2040.46it/s]\u001b[A\n",
            " 24%|██▍       | 11276/46619 [00:05<00:17, 2055.10it/s]\u001b[A\n",
            " 25%|██▍       | 11484/46619 [00:05<00:17, 2062.20it/s]\u001b[A\n",
            " 25%|██▌       | 11706/46619 [00:05<00:16, 2106.53it/s]\u001b[A\n",
            " 26%|██▌       | 11930/46619 [00:05<00:16, 2143.34it/s]\u001b[A\n",
            " 26%|██▌       | 12145/46619 [00:05<00:16, 2116.00it/s]\u001b[A\n",
            " 27%|██▋       | 12367/46619 [00:05<00:15, 2145.08it/s]\u001b[A\n",
            " 27%|██▋       | 12589/46619 [00:05<00:15, 2165.46it/s]\u001b[A\n",
            " 27%|██▋       | 12807/46619 [00:05<00:15, 2166.07it/s]\u001b[A\n",
            " 28%|██▊       | 13024/46619 [00:06<00:15, 2103.69it/s]\u001b[A\n",
            " 28%|██▊       | 13235/46619 [00:06<00:15, 2097.95it/s]\u001b[A\n",
            " 29%|██▉       | 13454/46619 [00:06<00:15, 2122.82it/s]\u001b[A\n",
            " 29%|██▉       | 13667/46619 [00:06<00:15, 2087.03it/s]\u001b[A\n",
            " 30%|██▉       | 13892/46619 [00:06<00:15, 2131.10it/s]\u001b[A\n",
            " 30%|███       | 14117/46619 [00:06<00:15, 2164.62it/s]\u001b[A\n",
            " 31%|███       | 14342/46619 [00:06<00:14, 2189.49it/s]\u001b[A\n",
            " 31%|███       | 14562/46619 [00:06<00:14, 2191.09it/s]\u001b[A\n",
            " 32%|███▏      | 14788/46619 [00:06<00:14, 2208.80it/s]\u001b[A\n",
            " 32%|███▏      | 15014/46619 [00:06<00:14, 2223.58it/s]\u001b[A\n",
            " 33%|███▎      | 15237/46619 [00:07<00:14, 2104.02it/s]\u001b[A\n",
            " 33%|███▎      | 15457/46619 [00:07<00:14, 2129.67it/s]\u001b[A\n",
            " 34%|███▎      | 15672/46619 [00:07<00:14, 2102.11it/s]\u001b[A\n",
            " 34%|███▍      | 15890/46619 [00:07<00:14, 2123.12it/s]\u001b[A\n",
            " 35%|███▍      | 16113/46619 [00:07<00:14, 2151.98it/s]\u001b[A\n",
            " 35%|███▌      | 16335/46619 [00:07<00:13, 2169.97it/s]\u001b[A\n",
            " 36%|███▌      | 16553/46619 [00:07<00:13, 2165.99it/s]\u001b[A\n",
            " 36%|███▌      | 16770/46619 [00:07<00:13, 2163.60it/s]\u001b[A\n",
            " 36%|███▋      | 16995/46619 [00:07<00:13, 2187.96it/s]\u001b[A\n",
            " 37%|███▋      | 17221/46619 [00:07<00:13, 2207.19it/s]\u001b[A\n",
            " 37%|███▋      | 17442/46619 [00:08<00:13, 2171.24it/s]\u001b[A\n",
            " 38%|███▊      | 17660/46619 [00:08<00:13, 2172.28it/s]\u001b[A\n",
            " 38%|███▊      | 17885/46619 [00:08<00:13, 2193.08it/s]\u001b[A\n",
            " 39%|███▉      | 18109/46619 [00:08<00:12, 2206.17it/s]\u001b[A\n",
            " 39%|███▉      | 18330/46619 [00:08<00:13, 2160.08it/s]\u001b[A\n",
            " 40%|███▉      | 18555/46619 [00:08<00:12, 2186.18it/s]\u001b[A\n",
            " 40%|████      | 18774/46619 [00:08<00:12, 2176.29it/s]\u001b[A\n",
            " 41%|████      | 18999/46619 [00:08<00:12, 2197.65it/s]\u001b[A\n",
            " 41%|████      | 19219/46619 [00:08<00:12, 2148.68it/s]\u001b[A\n",
            " 42%|████▏     | 19445/46619 [00:08<00:12, 2180.88it/s]\u001b[A\n",
            " 42%|████▏     | 19664/46619 [00:09<00:13, 2017.44it/s]\u001b[A\n",
            " 43%|████▎     | 19876/46619 [00:09<00:13, 2046.38it/s]\u001b[A\n",
            " 43%|████▎     | 20101/46619 [00:09<00:12, 2101.87it/s]\u001b[A\n",
            " 44%|████▎     | 20322/46619 [00:09<00:12, 2131.84it/s]\u001b[A\n",
            " 44%|████▍     | 20537/46619 [00:09<00:12, 2070.19it/s]\u001b[A\n",
            " 45%|████▍     | 20760/46619 [00:09<00:12, 2113.57it/s]\u001b[A\n",
            " 45%|████▌     | 20984/46619 [00:09<00:11, 2149.49it/s]\u001b[A\n",
            " 45%|████▌     | 21207/46619 [00:09<00:11, 2171.91it/s]\u001b[A\n",
            " 46%|████▌     | 21425/46619 [00:09<00:11, 2161.62it/s]\u001b[A\n",
            " 46%|████▋     | 21642/46619 [00:10<00:11, 2131.62it/s]\u001b[A\n",
            " 47%|████▋     | 21864/46619 [00:10<00:11, 2156.48it/s]\u001b[A\n",
            " 47%|████▋     | 22085/46619 [00:10<00:11, 2169.95it/s]\u001b[A\n",
            " 48%|████▊     | 22303/46619 [00:10<00:11, 2156.28it/s]\u001b[A\n",
            " 48%|████▊     | 22529/46619 [00:10<00:11, 2185.76it/s]\u001b[A\n",
            " 49%|████▉     | 22753/46619 [00:10<00:10, 2199.86it/s]\u001b[A\n",
            " 49%|████▉     | 22974/46619 [00:10<00:10, 2184.23it/s]\u001b[A\n",
            " 50%|████▉     | 23203/46619 [00:10<00:10, 2214.48it/s]\u001b[A\n",
            " 50%|█████     | 23434/46619 [00:10<00:10, 2241.59it/s]\u001b[A\n",
            " 51%|█████     | 23665/46619 [00:10<00:10, 2261.18it/s]\u001b[A\n",
            " 51%|█████     | 23892/46619 [00:11<00:10, 2223.94it/s]\u001b[A\n",
            " 52%|█████▏    | 24115/46619 [00:11<00:10, 2156.56it/s]\u001b[A\n",
            " 52%|█████▏    | 24332/46619 [00:11<00:10, 2118.79it/s]\u001b[A\n",
            " 53%|█████▎    | 24551/46619 [00:11<00:10, 2138.68it/s]\u001b[A\n",
            " 53%|█████▎    | 24771/46619 [00:11<00:10, 2155.56it/s]\u001b[A\n",
            " 54%|█████▎    | 24987/46619 [00:11<00:10, 2150.22it/s]\u001b[A\n",
            " 54%|█████▍    | 25214/46619 [00:11<00:09, 2183.65it/s]\u001b[A\n",
            " 55%|█████▍    | 25440/46619 [00:11<00:09, 2205.63it/s]\u001b[A\n",
            " 55%|█████▌    | 25665/46619 [00:11<00:09, 2217.88it/s]\u001b[A\n",
            " 56%|█████▌    | 25887/46619 [00:11<00:09, 2185.89it/s]\u001b[A\n",
            " 56%|█████▌    | 26106/46619 [00:12<00:09, 2146.60it/s]\u001b[A\n",
            " 56%|█████▋    | 26325/46619 [00:12<00:09, 2156.88it/s]\u001b[A\n",
            " 57%|█████▋    | 26542/46619 [00:12<00:09, 2160.47it/s]\u001b[A\n",
            " 57%|█████▋    | 26759/46619 [00:12<00:09, 2148.46it/s]\u001b[A\n",
            " 58%|█████▊    | 26974/46619 [00:12<00:09, 2148.14it/s]\u001b[A\n",
            " 58%|█████▊    | 27201/46619 [00:12<00:08, 2181.99it/s]\u001b[A\n",
            " 59%|█████▉    | 27423/46619 [00:12<00:08, 2191.88it/s]\u001b[A\n",
            " 59%|█████▉    | 27652/46619 [00:12<00:08, 2220.19it/s]\u001b[A\n",
            " 60%|█████▉    | 27875/46619 [00:12<00:08, 2174.47it/s]\u001b[A\n",
            " 60%|██████    | 28098/46619 [00:12<00:08, 2190.21it/s]\u001b[A\n",
            " 61%|██████    | 28318/46619 [00:13<00:08, 2150.25it/s]\u001b[A\n",
            " 61%|██████    | 28544/46619 [00:13<00:08, 2180.65it/s]\u001b[A\n",
            " 62%|██████▏   | 28768/46619 [00:13<00:08, 2195.99it/s]\u001b[A\n",
            " 62%|██████▏   | 28993/46619 [00:13<00:07, 2209.87it/s]\u001b[A\n",
            " 63%|██████▎   | 29215/46619 [00:13<00:08, 2169.83it/s]\u001b[A\n",
            " 63%|██████▎   | 29433/46619 [00:13<00:08, 2143.82it/s]\u001b[A\n",
            " 64%|██████▎   | 29648/46619 [00:13<00:07, 2134.14it/s]\u001b[A\n",
            " 64%|██████▍   | 29868/46619 [00:13<00:07, 2150.36it/s]\u001b[A\n",
            " 65%|██████▍   | 30084/46619 [00:13<00:07, 2138.17it/s]\u001b[A\n",
            " 65%|██████▌   | 30307/46619 [00:14<00:07, 2164.10it/s]\u001b[A\n",
            " 65%|██████▌   | 30524/46619 [00:14<00:07, 2149.93it/s]\u001b[A\n",
            " 66%|██████▌   | 30740/46619 [00:14<00:07, 2083.91it/s]\u001b[A\n",
            " 66%|██████▋   | 30949/46619 [00:14<00:07, 2077.13it/s]\u001b[A\n",
            " 67%|██████▋   | 31177/46619 [00:14<00:07, 2131.78it/s]\u001b[A\n",
            " 67%|██████▋   | 31402/46619 [00:14<00:07, 2160.29it/s]\u001b[A\n",
            " 68%|██████▊   | 31629/46619 [00:14<00:06, 2188.81it/s]\u001b[A\n",
            " 68%|██████▊   | 31849/46619 [00:14<00:06, 2167.01it/s]\u001b[A\n",
            " 69%|██████▉   | 32073/46619 [00:14<00:06, 2186.73it/s]\u001b[A\n",
            " 69%|██████▉   | 32298/46619 [00:14<00:06, 2204.96it/s]\u001b[A\n",
            " 70%|██████▉   | 32522/46619 [00:15<00:06, 2213.86it/s]\u001b[A\n",
            " 70%|███████   | 32744/46619 [00:15<00:06, 2161.42it/s]\u001b[A\n",
            " 71%|███████   | 32965/46619 [00:15<00:06, 2173.16it/s]\u001b[A\n",
            " 71%|███████   | 33184/46619 [00:15<00:06, 2177.82it/s]\u001b[A\n",
            " 72%|███████▏  | 33402/46619 [00:15<00:06, 2123.46it/s]\u001b[A\n",
            " 72%|███████▏  | 33615/46619 [00:15<00:06, 2060.82it/s]\u001b[A\n",
            " 73%|███████▎  | 33832/46619 [00:15<00:06, 2092.06it/s]\u001b[A\n",
            " 73%|███████▎  | 34052/46619 [00:15<00:05, 2120.56it/s]\u001b[A\n",
            " 74%|███████▎  | 34271/46619 [00:15<00:05, 2138.92it/s]\u001b[A\n",
            " 74%|███████▍  | 34486/46619 [00:15<00:05, 2126.66it/s]\u001b[A\n",
            " 74%|███████▍  | 34706/46619 [00:16<00:05, 2144.17it/s]\u001b[A\n",
            " 75%|███████▍  | 34921/46619 [00:16<00:05, 2116.95it/s]\u001b[A\n",
            " 75%|███████▌  | 35144/46619 [00:16<00:05, 2147.30it/s]\u001b[A\n",
            " 76%|███████▌  | 35360/46619 [00:16<00:05, 2147.50it/s]\u001b[A\n",
            " 76%|███████▋  | 35580/46619 [00:16<00:05, 2161.40it/s]\u001b[A\n",
            " 77%|███████▋  | 35797/46619 [00:16<00:05, 2108.30it/s]\u001b[A\n",
            " 77%|███████▋  | 36018/46619 [00:16<00:04, 2136.52it/s]\u001b[A\n",
            " 78%|███████▊  | 36233/46619 [00:16<00:04, 2136.60it/s]\u001b[A\n",
            " 78%|███████▊  | 36455/46619 [00:16<00:04, 2159.23it/s]\u001b[A\n",
            " 79%|███████▊  | 36675/46619 [00:16<00:04, 2169.36it/s]\u001b[A\n",
            " 79%|███████▉  | 36896/46619 [00:17<00:04, 2180.17it/s]\u001b[A\n",
            " 80%|███████▉  | 37115/46619 [00:17<00:04, 2134.02it/s]\u001b[A\n",
            " 80%|████████  | 37329/46619 [00:17<00:04, 2128.60it/s]\u001b[A\n",
            " 81%|████████  | 37551/46619 [00:17<00:04, 2153.07it/s]\u001b[A\n",
            " 81%|████████  | 37772/46619 [00:17<00:04, 2167.89it/s]\u001b[A\n",
            " 81%|████████▏ | 37989/46619 [00:17<00:04, 2092.50it/s]\u001b[A\n",
            " 82%|████████▏ | 38210/46619 [00:17<00:03, 2123.11it/s]\u001b[A\n",
            " 82%|████████▏ | 38435/46619 [00:17<00:03, 2157.85it/s]\u001b[A\n",
            " 83%|████████▎ | 38660/46619 [00:17<00:03, 2182.07it/s]\u001b[A\n",
            " 83%|████████▎ | 38883/46619 [00:18<00:03, 2195.32it/s]\u001b[A\n",
            " 84%|████████▍ | 39103/46619 [00:18<00:03, 2123.96it/s]\u001b[A\n",
            " 84%|████████▍ | 39317/46619 [00:18<00:03, 2106.11it/s]\u001b[A\n",
            " 85%|████████▍ | 39538/46619 [00:18<00:03, 2134.33it/s]\u001b[A\n",
            " 85%|████████▌ | 39761/46619 [00:18<00:03, 2160.98it/s]\u001b[A\n",
            " 86%|████████▌ | 39978/46619 [00:18<00:03, 2090.38it/s]\u001b[A\n",
            " 86%|████████▌ | 40198/46619 [00:18<00:03, 2119.07it/s]\u001b[A\n",
            " 87%|████████▋ | 40421/46619 [00:18<00:02, 2149.93it/s]\u001b[A\n",
            " 87%|████████▋ | 40646/46619 [00:18<00:02, 2177.70it/s]\u001b[A\n",
            " 88%|████████▊ | 40870/46619 [00:18<00:02, 2195.22it/s]\u001b[A\n",
            " 88%|████████▊ | 41090/46619 [00:19<00:02, 2160.45it/s]\u001b[A\n",
            " 89%|████████▊ | 41307/46619 [00:19<00:02, 2162.18it/s]\u001b[A\n",
            " 89%|████████▉ | 41524/46619 [00:19<00:02, 2136.07it/s]\u001b[A\n",
            " 90%|████████▉ | 41738/46619 [00:19<00:02, 2136.52it/s]\u001b[A\n",
            " 90%|████████▉ | 41952/46619 [00:19<00:02, 2136.26it/s]\u001b[A\n",
            " 90%|█████████ | 42166/46619 [00:19<00:02, 2083.03it/s]\u001b[A\n",
            " 91%|█████████ | 42390/46619 [00:19<00:01, 2126.87it/s]\u001b[A\n",
            " 91%|█████████▏| 42616/46619 [00:19<00:01, 2164.17it/s]\u001b[A\n",
            " 92%|█████████▏| 42833/46619 [00:19<00:01, 2135.57it/s]\u001b[A\n",
            " 92%|█████████▏| 43055/46619 [00:19<00:01, 2156.41it/s]\u001b[A\n",
            " 93%|█████████▎| 43280/46619 [00:20<00:01, 2180.25it/s]\u001b[A\n",
            " 93%|█████████▎| 43499/46619 [00:20<00:01, 2161.76it/s]\u001b[A\n",
            " 94%|█████████▍| 43716/46619 [00:20<00:01, 2068.02it/s]\u001b[A\n",
            " 94%|█████████▍| 43937/46619 [00:20<00:01, 2106.59it/s]\u001b[A\n",
            " 95%|█████████▍| 44151/46619 [00:20<00:01, 2115.33it/s]\u001b[A\n",
            " 95%|█████████▌| 44375/46619 [00:20<00:01, 2151.05it/s]\u001b[A\n",
            " 96%|█████████▌| 44598/46619 [00:20<00:00, 2171.92it/s]\u001b[A\n",
            " 96%|█████████▌| 44824/46619 [00:20<00:00, 2196.34it/s]\u001b[A\n",
            " 97%|█████████▋| 45047/46619 [00:20<00:00, 2205.29it/s]\u001b[A\n",
            " 97%|█████████▋| 45268/46619 [00:20<00:00, 2148.92it/s]\u001b[A\n",
            " 98%|█████████▊| 45484/46619 [00:21<00:00, 2084.10it/s]\u001b[A\n",
            " 98%|█████████▊| 45698/46619 [00:21<00:00, 2099.63it/s]\u001b[A\n",
            " 98%|█████████▊| 45918/46619 [00:21<00:00, 2128.64it/s]\u001b[A\n",
            " 99%|█████████▉| 46143/46619 [00:21<00:00, 2162.17it/s]\u001b[A\n",
            " 99%|█████████▉| 46360/46619 [00:21<00:00, 2155.71it/s]\u001b[A\n",
            "100%|██████████| 46619/46619 [00:21<00:00, 2156.05it/s]\n",
            "\n",
            "  0%|          | 0/46620 [00:00<?, ?it/s]\u001b[A\n",
            "  0%|          | 208/46620 [00:00<00:22, 2079.30it/s]\u001b[A\n",
            "  1%|          | 422/46620 [00:00<00:22, 2096.42it/s]\u001b[A\n",
            "  1%|▏         | 639/46620 [00:00<00:21, 2117.79it/s]\u001b[A\n",
            "  2%|▏         | 848/46620 [00:00<00:21, 2109.09it/s]\u001b[A\n",
            "  2%|▏         | 1075/46620 [00:00<00:21, 2153.73it/s]\u001b[A\n",
            "  3%|▎         | 1280/46620 [00:00<00:21, 2119.65it/s]\u001b[A\n",
            "  3%|▎         | 1502/46620 [00:00<00:21, 2147.62it/s]\u001b[A\n",
            "  4%|▎         | 1700/46620 [00:00<00:21, 2088.13it/s]\u001b[A\n",
            "  4%|▍         | 1910/46620 [00:00<00:21, 2090.64it/s]\u001b[A\n",
            "  5%|▍         | 2136/46620 [00:01<00:20, 2137.78it/s]\u001b[A\n",
            "  5%|▌         | 2363/46620 [00:01<00:20, 2174.21it/s]\u001b[A\n",
            "  6%|▌         | 2591/46620 [00:01<00:19, 2203.12it/s]\u001b[A\n",
            "  6%|▌         | 2809/46620 [00:01<00:19, 2191.00it/s]\u001b[A\n",
            "  7%|▋         | 3034/46620 [00:01<00:19, 2205.56it/s]\u001b[A\n",
            "  7%|▋         | 3254/46620 [00:01<00:20, 2155.19it/s]\u001b[A\n",
            "  7%|▋         | 3469/46620 [00:01<00:20, 2144.86it/s]\u001b[A\n",
            "  8%|▊         | 3689/46620 [00:01<00:19, 2159.77it/s]\u001b[A\n",
            "  8%|▊         | 3905/46620 [00:01<00:19, 2141.29it/s]\u001b[A\n",
            "  9%|▉         | 4119/46620 [00:01<00:19, 2126.01it/s]\u001b[A\n",
            "  9%|▉         | 4345/46620 [00:02<00:19, 2162.66it/s]\u001b[A\n",
            " 10%|▉         | 4572/46620 [00:02<00:19, 2192.73it/s]\u001b[A\n",
            " 10%|█         | 4792/46620 [00:02<00:19, 2165.79it/s]\u001b[A\n",
            " 11%|█         | 5009/46620 [00:02<00:19, 2134.84it/s]\u001b[A\n",
            " 11%|█         | 5223/46620 [00:02<00:19, 2093.58it/s]\u001b[A\n",
            " 12%|█▏        | 5441/46620 [00:02<00:19, 2116.54it/s]\u001b[A\n",
            " 12%|█▏        | 5653/46620 [00:02<00:19, 2093.42it/s]\u001b[A\n",
            " 13%|█▎        | 5863/46620 [00:02<00:19, 2083.23it/s]\u001b[A\n",
            " 13%|█▎        | 6079/46620 [00:02<00:19, 2105.16it/s]\u001b[A\n",
            " 14%|█▎        | 6295/46620 [00:02<00:19, 2120.27it/s]\u001b[A\n",
            " 14%|█▍        | 6508/46620 [00:03<00:19, 2097.53it/s]\u001b[A\n",
            " 14%|█▍        | 6718/46620 [00:03<00:19, 2092.79it/s]\u001b[A\n",
            " 15%|█▍        | 6929/46620 [00:03<00:18, 2094.14it/s]\u001b[A\n",
            " 15%|█▌        | 7150/46620 [00:03<00:18, 2126.23it/s]\u001b[A\n",
            " 16%|█▌        | 7363/46620 [00:03<00:18, 2124.92it/s]\u001b[A\n",
            " 16%|█▋        | 7576/46620 [00:03<00:19, 2040.17it/s]\u001b[A\n",
            " 17%|█▋        | 7781/46620 [00:03<00:19, 2017.72it/s]\u001b[A\n",
            " 17%|█▋        | 7999/46620 [00:03<00:18, 2061.70it/s]\u001b[A\n",
            " 18%|█▊        | 8206/46620 [00:03<00:18, 2052.37it/s]\u001b[A\n",
            " 18%|█▊        | 8422/46620 [00:03<00:18, 2081.34it/s]\u001b[A\n",
            " 19%|█▊        | 8647/46620 [00:04<00:17, 2127.93it/s]\u001b[A\n",
            " 19%|█▉        | 8861/46620 [00:04<00:18, 2068.85it/s]\u001b[A\n",
            " 19%|█▉        | 9069/46620 [00:04<00:18, 2030.09it/s]\u001b[A\n",
            " 20%|█▉        | 9274/46620 [00:04<00:18, 2034.93it/s]\u001b[A\n",
            " 20%|██        | 9478/46620 [00:04<00:18, 2027.12it/s]\u001b[A\n",
            " 21%|██        | 9685/46620 [00:04<00:18, 2038.65it/s]\u001b[A\n",
            " 21%|██        | 9890/46620 [00:04<00:18, 2019.90it/s]\u001b[A\n",
            " 22%|██▏       | 10093/46620 [00:04<00:18, 1982.60it/s]\u001b[A\n",
            " 22%|██▏       | 10308/46620 [00:04<00:17, 2028.33it/s]\u001b[A\n",
            " 23%|██▎       | 10514/46620 [00:04<00:17, 2036.59it/s]\u001b[A\n",
            " 23%|██▎       | 10736/46620 [00:05<00:17, 2087.22it/s]\u001b[A\n",
            " 24%|██▎       | 10961/46620 [00:05<00:16, 2132.29it/s]\u001b[A\n",
            " 24%|██▍       | 11180/46620 [00:05<00:16, 2149.18it/s]\u001b[A\n",
            " 24%|██▍       | 11396/46620 [00:05<00:16, 2083.61it/s]\u001b[A\n",
            " 25%|██▍       | 11615/46620 [00:05<00:16, 2114.31it/s]\u001b[A\n",
            " 25%|██▌       | 11828/46620 [00:05<00:16, 2113.42it/s]\u001b[A\n",
            " 26%|██▌       | 12040/46620 [00:05<00:16, 2094.28it/s]\u001b[A\n",
            " 26%|██▋       | 12255/46620 [00:05<00:16, 2107.52it/s]\u001b[A\n",
            " 27%|██▋       | 12467/46620 [00:05<00:16, 2035.37it/s]\u001b[A\n",
            " 27%|██▋       | 12682/46620 [00:06<00:16, 2066.01it/s]\u001b[A\n",
            " 28%|██▊       | 12890/46620 [00:06<00:16, 2067.63it/s]\u001b[A\n",
            " 28%|██▊       | 13102/46620 [00:06<00:16, 2081.71it/s]\u001b[A\n",
            " 29%|██▊       | 13326/46620 [00:06<00:15, 2126.51it/s]\u001b[A\n",
            " 29%|██▉       | 13540/46620 [00:06<00:15, 2082.75it/s]\u001b[A\n",
            " 30%|██▉       | 13760/46620 [00:06<00:15, 2112.74it/s]\u001b[A\n",
            " 30%|██▉       | 13979/46620 [00:06<00:15, 2133.95it/s]\u001b[A\n",
            " 30%|███       | 14193/46620 [00:06<00:15, 2069.13it/s]\u001b[A\n",
            " 31%|███       | 14409/46620 [00:06<00:15, 2093.76it/s]\u001b[A\n",
            " 31%|███▏      | 14619/46620 [00:06<00:15, 2043.21it/s]\u001b[A\n",
            " 32%|███▏      | 14840/46620 [00:07<00:15, 2088.45it/s]\u001b[A\n",
            " 32%|███▏      | 15065/46620 [00:07<00:14, 2134.05it/s]\u001b[A\n",
            " 33%|███▎      | 15289/46620 [00:07<00:14, 2163.50it/s]\u001b[A\n",
            " 33%|███▎      | 15506/46620 [00:07<00:14, 2154.24it/s]\u001b[A\n",
            " 34%|███▎      | 15722/46620 [00:07<00:14, 2115.34it/s]\u001b[A\n",
            " 34%|███▍      | 15942/46620 [00:07<00:14, 2139.38it/s]\u001b[A\n",
            " 35%|███▍      | 16157/46620 [00:07<00:14, 2133.75it/s]\u001b[A\n",
            " 35%|███▌      | 16371/46620 [00:07<00:14, 2108.66it/s]\u001b[A\n",
            " 36%|███▌      | 16583/46620 [00:07<00:14, 2089.65it/s]\u001b[A\n",
            " 36%|███▌      | 16793/46620 [00:07<00:14, 2065.68it/s]\u001b[A\n",
            " 36%|███▋      | 17003/46620 [00:08<00:14, 2073.98it/s]\u001b[A\n",
            " 37%|███▋      | 17226/46620 [00:08<00:13, 2117.64it/s]\u001b[A\n",
            " 37%|███▋      | 17439/46620 [00:08<00:13, 2101.06it/s]\u001b[A\n",
            " 38%|███▊      | 17650/46620 [00:08<00:14, 2067.23it/s]\u001b[A\n",
            " 38%|███▊      | 17858/46620 [00:08<00:13, 2058.28it/s]\u001b[A\n",
            " 39%|███▉      | 18067/46620 [00:08<00:13, 2067.41it/s]\u001b[A\n",
            " 39%|███▉      | 18287/46620 [00:08<00:13, 2104.84it/s]\u001b[A\n",
            " 40%|███▉      | 18498/46620 [00:08<00:13, 2105.77it/s]\u001b[A\n",
            " 40%|████      | 18709/46620 [00:08<00:13, 2085.67it/s]\u001b[A\n",
            " 41%|████      | 18931/46620 [00:08<00:13, 2122.57it/s]\u001b[A\n",
            " 41%|████      | 19144/46620 [00:09<00:12, 2118.31it/s]\u001b[A\n",
            " 42%|████▏     | 19362/46620 [00:09<00:12, 2133.33it/s]\u001b[A\n",
            " 42%|████▏     | 19585/46620 [00:09<00:12, 2158.46it/s]\u001b[A\n",
            " 42%|████▏     | 19802/46620 [00:09<00:12, 2093.83it/s]\u001b[A\n",
            " 43%|████▎     | 20024/46620 [00:09<00:12, 2127.84it/s]\u001b[A\n",
            " 43%|████▎     | 20250/46620 [00:09<00:12, 2164.64it/s]\u001b[A\n",
            " 44%|████▍     | 20467/46620 [00:09<00:12, 2145.07it/s]\u001b[A\n",
            " 44%|████▍     | 20682/46620 [00:09<00:12, 2066.83it/s]\u001b[A\n",
            " 45%|████▍     | 20902/46620 [00:09<00:12, 2104.33it/s]\u001b[A\n",
            " 45%|████▌     | 21126/46620 [00:10<00:11, 2142.28it/s]\u001b[A\n",
            " 46%|████▌     | 21349/46620 [00:10<00:11, 2165.52it/s]\u001b[A\n",
            " 46%|████▋     | 21567/46620 [00:10<00:11, 2097.89it/s]\u001b[A\n",
            " 47%|████▋     | 21778/46620 [00:10<00:11, 2098.52it/s]\u001b[A\n",
            " 47%|████▋     | 21998/46620 [00:10<00:11, 2127.36it/s]\u001b[A\n",
            " 48%|████▊     | 22220/46620 [00:10<00:11, 2152.92it/s]\u001b[A\n",
            " 48%|████▊     | 22438/46620 [00:10<00:11, 2160.45it/s]\u001b[A\n",
            " 49%|████▊     | 22655/46620 [00:10<00:11, 2060.36it/s]\u001b[A\n",
            " 49%|████▉     | 22865/46620 [00:10<00:11, 2071.73it/s]\u001b[A\n",
            " 50%|████▉     | 23085/46620 [00:10<00:11, 2107.39it/s]\u001b[A\n",
            " 50%|████▉     | 23305/46620 [00:11<00:10, 2133.65it/s]\u001b[A\n",
            " 50%|█████     | 23522/46620 [00:11<00:10, 2142.28it/s]\u001b[A\n",
            " 51%|█████     | 23737/46620 [00:11<00:10, 2144.39it/s]\u001b[A\n",
            " 51%|█████▏    | 23952/46620 [00:11<00:10, 2144.50it/s]\u001b[A\n",
            " 52%|█████▏    | 24168/46620 [00:11<00:10, 2148.72it/s]\u001b[A\n",
            " 52%|█████▏    | 24384/46620 [00:11<00:10, 2077.84it/s]\u001b[A\n",
            " 53%|█████▎    | 24603/46620 [00:11<00:10, 2110.19it/s]\u001b[A\n",
            " 53%|█████▎    | 24815/46620 [00:11<00:10, 2106.66it/s]\u001b[A\n",
            " 54%|█████▎    | 25040/46620 [00:11<00:10, 2145.84it/s]\u001b[A\n",
            " 54%|█████▍    | 25261/46620 [00:11<00:09, 2163.69it/s]\u001b[A\n",
            " 55%|█████▍    | 25478/46620 [00:12<00:09, 2124.75it/s]\u001b[A\n",
            " 55%|█████▌    | 25691/46620 [00:12<00:09, 2113.48it/s]\u001b[A\n",
            " 56%|█████▌    | 25916/46620 [00:12<00:09, 2152.50it/s]\u001b[A\n",
            " 56%|█████▌    | 26139/46620 [00:12<00:09, 2174.17it/s]\u001b[A\n",
            " 57%|█████▋    | 26357/46620 [00:12<00:09, 2143.48it/s]\u001b[A\n",
            " 57%|█████▋    | 26581/46620 [00:12<00:09, 2169.05it/s]\u001b[A\n",
            " 57%|█████▋    | 26799/46620 [00:12<00:09, 2152.68it/s]\u001b[A\n",
            " 58%|█████▊    | 27015/46620 [00:12<00:09, 2134.95it/s]\u001b[A\n",
            " 58%|█████▊    | 27229/46620 [00:12<00:09, 2103.25it/s]\u001b[A\n",
            " 59%|█████▉    | 27440/46620 [00:12<00:09, 2104.57it/s]\u001b[A\n",
            " 59%|█████▉    | 27663/46620 [00:13<00:08, 2139.59it/s]\u001b[A\n",
            " 60%|█████▉    | 27886/46620 [00:13<00:08, 2164.44it/s]\u001b[A\n",
            " 60%|██████    | 28103/46620 [00:13<00:08, 2117.63it/s]\u001b[A\n",
            " 61%|██████    | 28322/46620 [00:13<00:08, 2137.82it/s]\u001b[A\n",
            " 61%|██████    | 28546/46620 [00:13<00:08, 2166.17it/s]\u001b[A\n",
            " 62%|██████▏   | 28769/46620 [00:13<00:08, 2183.44it/s]\u001b[A\n",
            " 62%|██████▏   | 28988/46620 [00:13<00:08, 2167.69it/s]\u001b[A\n",
            " 63%|██████▎   | 29205/46620 [00:13<00:08, 2146.15it/s]\u001b[A\n",
            " 63%|██████▎   | 29420/46620 [00:13<00:08, 2140.06it/s]\u001b[A\n",
            " 64%|██████▎   | 29636/46620 [00:14<00:07, 2143.54it/s]\u001b[A\n",
            " 64%|██████▍   | 29851/46620 [00:14<00:07, 2122.24it/s]\u001b[A\n",
            " 64%|██████▍   | 30064/46620 [00:14<00:07, 2121.96it/s]\u001b[A\n",
            " 65%|██████▍   | 30290/46620 [00:14<00:07, 2159.94it/s]\u001b[A\n",
            " 65%|██████▌   | 30511/46620 [00:14<00:07, 2174.31it/s]\u001b[A\n",
            " 66%|██████▌   | 30729/46620 [00:14<00:07, 2151.23it/s]\u001b[A\n",
            " 66%|██████▋   | 30945/46620 [00:14<00:07, 2050.44it/s]\u001b[A\n",
            " 67%|██████▋   | 31152/46620 [00:14<00:09, 1588.84it/s]\u001b[A\n",
            " 67%|██████▋   | 31374/46620 [00:14<00:08, 1736.99it/s]\u001b[A\n",
            " 68%|██████▊   | 31600/46620 [00:15<00:08, 1866.46it/s]\u001b[A\n",
            " 68%|██████▊   | 31807/46620 [00:15<00:07, 1922.07it/s]\u001b[A\n",
            " 69%|██████▊   | 32010/46620 [00:15<00:07, 1937.54it/s]\u001b[A\n",
            " 69%|██████▉   | 32232/46620 [00:15<00:07, 2013.46it/s]\u001b[A\n",
            " 70%|██████▉   | 32440/46620 [00:15<00:07, 1982.91it/s]\u001b[A\n",
            " 70%|███████   | 32652/46620 [00:15<00:06, 2019.90it/s]\u001b[A\n",
            " 70%|███████   | 32863/46620 [00:15<00:06, 2044.70it/s]\u001b[A\n",
            " 71%|███████   | 33072/46620 [00:15<00:06, 2057.80it/s]\u001b[A\n",
            " 71%|███████▏  | 33280/46620 [00:15<00:06, 1979.50it/s]\u001b[A\n",
            " 72%|███████▏  | 33502/46620 [00:15<00:06, 2045.28it/s]\u001b[A\n",
            " 72%|███████▏  | 33728/46620 [00:16<00:06, 2103.28it/s]\u001b[A\n",
            " 73%|███████▎  | 33953/46620 [00:16<00:05, 2145.03it/s]\u001b[A\n",
            " 73%|███████▎  | 34169/46620 [00:16<00:05, 2119.00it/s]\u001b[A\n",
            " 74%|███████▍  | 34393/46620 [00:16<00:05, 2153.28it/s]\u001b[A\n",
            " 74%|███████▍  | 34610/46620 [00:16<00:05, 2152.71it/s]\u001b[A\n",
            " 75%|███████▍  | 34833/46620 [00:16<00:05, 2174.16it/s]\u001b[A\n",
            " 75%|███████▌  | 35051/46620 [00:16<00:05, 2115.13it/s]\u001b[A\n",
            " 76%|███████▌  | 35265/46620 [00:16<00:05, 2120.67it/s]\u001b[A\n",
            " 76%|███████▌  | 35478/46620 [00:16<00:05, 2077.34it/s]\u001b[A\n",
            " 77%|███████▋  | 35702/46620 [00:16<00:05, 2122.60it/s]\u001b[A\n",
            " 77%|███████▋  | 35915/46620 [00:17<00:05, 2099.38it/s]\u001b[A\n",
            " 78%|███████▊  | 36138/46620 [00:17<00:04, 2135.02it/s]\u001b[A\n",
            " 78%|███████▊  | 36366/46620 [00:17<00:04, 2175.82it/s]\u001b[A\n",
            " 78%|███████▊  | 36592/46620 [00:17<00:04, 2198.11it/s]\u001b[A\n",
            " 79%|███████▉  | 36813/46620 [00:17<00:04, 2142.10it/s]\u001b[A\n",
            " 79%|███████▉  | 37032/46620 [00:17<00:04, 2155.59it/s]\u001b[A\n",
            " 80%|███████▉  | 37256/46620 [00:17<00:04, 2177.76it/s]\u001b[A\n",
            " 80%|████████  | 37475/46620 [00:17<00:04, 2162.12it/s]\u001b[A\n",
            " 81%|████████  | 37692/46620 [00:17<00:04, 2095.37it/s]\u001b[A\n",
            " 81%|████████▏ | 37920/46620 [00:18<00:04, 2146.87it/s]\u001b[A\n",
            " 82%|████████▏ | 38144/46620 [00:18<00:03, 2171.99it/s]\u001b[A\n",
            " 82%|████████▏ | 38366/46620 [00:18<00:03, 2186.14it/s]\u001b[A\n",
            " 83%|████████▎ | 38586/46620 [00:18<00:03, 2186.36it/s]\u001b[A\n",
            " 83%|████████▎ | 38809/46620 [00:18<00:03, 2197.51it/s]\u001b[A\n",
            " 84%|████████▎ | 39032/46620 [00:18<00:03, 2206.26it/s]\u001b[A\n",
            " 84%|████████▍ | 39253/46620 [00:18<00:03, 2166.86it/s]\u001b[A\n",
            " 85%|████████▍ | 39473/46620 [00:18<00:03, 2176.46it/s]\u001b[A\n",
            " 85%|████████▌ | 39691/46620 [00:18<00:03, 2097.69it/s]\u001b[A\n",
            " 86%|████████▌ | 39902/46620 [00:18<00:03, 2060.77it/s]\u001b[A\n",
            " 86%|████████▌ | 40124/46620 [00:19<00:03, 2105.49it/s]\u001b[A\n",
            " 87%|████████▋ | 40343/46620 [00:19<00:02, 2129.69it/s]\u001b[A\n",
            " 87%|████████▋ | 40561/46620 [00:19<00:02, 2144.43it/s]\u001b[A\n",
            " 87%|████████▋ | 40783/46620 [00:19<00:02, 2165.19it/s]\u001b[A\n",
            " 88%|████████▊ | 41008/46620 [00:19<00:02, 2188.28it/s]\u001b[A\n",
            " 88%|████████▊ | 41228/46620 [00:19<00:02, 2141.53it/s]\u001b[A\n",
            " 89%|████████▉ | 41443/46620 [00:19<00:02, 2088.01it/s]\u001b[A\n",
            " 89%|████████▉ | 41653/46620 [00:19<00:02, 2053.75it/s]\u001b[A\n",
            " 90%|████████▉ | 41862/46620 [00:19<00:02, 2063.18it/s]\u001b[A\n",
            " 90%|█████████ | 42069/46620 [00:19<00:02, 2003.17it/s]\u001b[A\n",
            " 91%|█████████ | 42290/46620 [00:20<00:02, 2059.72it/s]\u001b[A\n",
            " 91%|█████████ | 42510/46620 [00:20<00:01, 2097.70it/s]\u001b[A\n",
            " 92%|█████████▏| 42731/46620 [00:20<00:01, 2130.10it/s]\u001b[A\n",
            " 92%|█████████▏| 42945/46620 [00:20<00:01, 2126.38it/s]\u001b[A\n",
            " 93%|█████████▎| 43167/46620 [00:20<00:01, 2151.83it/s]\u001b[A\n",
            " 93%|█████████▎| 43383/46620 [00:20<00:01, 2154.01it/s]\u001b[A\n",
            " 94%|█████████▎| 43599/46620 [00:20<00:01, 2133.90it/s]\u001b[A\n",
            " 94%|█████████▍| 43813/46620 [00:20<00:01, 2093.81it/s]\u001b[A\n",
            " 94%|█████████▍| 44030/46620 [00:20<00:01, 2115.04it/s]\u001b[A\n",
            " 95%|█████████▍| 44242/46620 [00:20<00:01, 2103.89it/s]\u001b[A\n",
            " 95%|█████████▌| 44456/46620 [00:21<00:01, 2112.74it/s]\u001b[A\n",
            " 96%|█████████▌| 44668/46620 [00:21<00:00, 2064.96it/s]\u001b[A\n",
            " 96%|█████████▋| 44884/46620 [00:21<00:00, 2090.73it/s]\u001b[A\n",
            " 97%|█████████▋| 45110/46620 [00:21<00:00, 2136.18it/s]\u001b[A\n",
            " 97%|█████████▋| 45330/46620 [00:21<00:00, 2154.65it/s]\u001b[A\n",
            " 98%|█████████▊| 45546/46620 [00:21<00:00, 2094.60it/s]\u001b[A\n",
            " 98%|█████████▊| 45766/46620 [00:21<00:00, 2122.70it/s]\u001b[A\n",
            " 99%|█████████▊| 45992/46620 [00:21<00:00, 2159.74it/s]\u001b[A\n",
            " 99%|█████████▉| 46210/46620 [00:21<00:00, 2163.44it/s]\u001b[A\n",
            "100%|██████████| 46620/46620 [00:22<00:00, 2109.21it/s]\n"
          ],
          "name": "stderr"
        }
      ]
    },
    {
      "cell_type": "code",
      "metadata": {
        "id": "DfafwUe3bn4B",
        "colab": {
          "base_uri": "https://localhost:8080/"
        },
        "outputId": "c77516d9-0e7e-441e-95a8-1601a8ba634c"
      },
      "source": [
        "nltk.download('vader_lexicon')"
      ],
      "execution_count": null,
      "outputs": [
        {
          "output_type": "stream",
          "text": [
            "[nltk_data] Downloading package vader_lexicon to /root/nltk_data...\n",
            "[nltk_data]   Package vader_lexicon is already up-to-date!\n"
          ],
          "name": "stdout"
        },
        {
          "output_type": "execute_result",
          "data": {
            "text/plain": [
              "True"
            ]
          },
          "metadata": {
            "tags": []
          },
          "execution_count": 39
        }
      ]
    },
    {
      "cell_type": "code",
      "metadata": {
        "id": "0scgRta5awul",
        "colab": {
          "base_uri": "https://localhost:8080/",
          "height": 241
        },
        "outputId": "3a9b28b6-d675-4aa9-bfb5-63bf57ef3b26"
      },
      "source": [
        "from nltk.sentiment.vader import SentimentIntensityAnalyzer as SIA\n",
        "\n",
        "sia = SIA()\n",
        "results = []\n",
        "\n",
        "for line in X_test:\n",
        "    pol_score = sia.polarity_scores(line)\n",
        "    pol_score['headline'] = line\n",
        "    results.append(pol_score)\n",
        "\n",
        "print(results[:3])\n",
        "\n",
        "df = pd.DataFrame.from_records(results)\n",
        "df.head()"
      ],
      "execution_count": null,
      "outputs": [
        {
          "output_type": "stream",
          "text": [
            "[{'neg': 0.453, 'neu': 0.547, 'pos': 0.0, 'compound': -0.7003, 'headline': 'obama nerd president needs get right star wars fans'}, {'neg': 0.0, 'neu': 0.741, 'pos': 0.259, 'compound': 0.2732, 'headline': 'johannesburg committed developing job intensive economy says'}, {'neg': 0.0, 'neu': 1.0, 'pos': 0.0, 'compound': 0.0, 'headline': 'whose president'}]\n"
          ],
          "name": "stdout"
        },
        {
          "output_type": "execute_result",
          "data": {
            "text/html": [
              "<div>\n",
              "<style scoped>\n",
              "    .dataframe tbody tr th:only-of-type {\n",
              "        vertical-align: middle;\n",
              "    }\n",
              "\n",
              "    .dataframe tbody tr th {\n",
              "        vertical-align: top;\n",
              "    }\n",
              "\n",
              "    .dataframe thead th {\n",
              "        text-align: right;\n",
              "    }\n",
              "</style>\n",
              "<table border=\"1\" class=\"dataframe\">\n",
              "  <thead>\n",
              "    <tr style=\"text-align: right;\">\n",
              "      <th></th>\n",
              "      <th>neg</th>\n",
              "      <th>neu</th>\n",
              "      <th>pos</th>\n",
              "      <th>compound</th>\n",
              "      <th>headline</th>\n",
              "    </tr>\n",
              "  </thead>\n",
              "  <tbody>\n",
              "    <tr>\n",
              "      <th>0</th>\n",
              "      <td>0.453</td>\n",
              "      <td>0.547</td>\n",
              "      <td>0.000</td>\n",
              "      <td>-0.7003</td>\n",
              "      <td>obama nerd president needs get right star wars...</td>\n",
              "    </tr>\n",
              "    <tr>\n",
              "      <th>1</th>\n",
              "      <td>0.000</td>\n",
              "      <td>0.741</td>\n",
              "      <td>0.259</td>\n",
              "      <td>0.2732</td>\n",
              "      <td>johannesburg committed developing job intensiv...</td>\n",
              "    </tr>\n",
              "    <tr>\n",
              "      <th>2</th>\n",
              "      <td>0.000</td>\n",
              "      <td>1.000</td>\n",
              "      <td>0.000</td>\n",
              "      <td>0.0000</td>\n",
              "      <td>whose president</td>\n",
              "    </tr>\n",
              "    <tr>\n",
              "      <th>3</th>\n",
              "      <td>0.000</td>\n",
              "      <td>0.682</td>\n",
              "      <td>0.318</td>\n",
              "      <td>0.4215</td>\n",
              "      <td>argentina pays holdout bondholders elevating h...</td>\n",
              "    </tr>\n",
              "    <tr>\n",
              "      <th>4</th>\n",
              "      <td>0.272</td>\n",
              "      <td>0.543</td>\n",
              "      <td>0.185</td>\n",
              "      <td>-0.2023</td>\n",
              "      <td>obama trump displays ignorance seeks tweets so...</td>\n",
              "    </tr>\n",
              "  </tbody>\n",
              "</table>\n",
              "</div>"
            ],
            "text/plain": [
              "     neg    neu  ...  compound                                           headline\n",
              "0  0.453  0.547  ...   -0.7003  obama nerd president needs get right star wars...\n",
              "1  0.000  0.741  ...    0.2732  johannesburg committed developing job intensiv...\n",
              "2  0.000  1.000  ...    0.0000                                    whose president\n",
              "3  0.000  0.682  ...    0.4215  argentina pays holdout bondholders elevating h...\n",
              "4  0.272  0.543  ...   -0.2023  obama trump displays ignorance seeks tweets so...\n",
              "\n",
              "[5 rows x 5 columns]"
            ]
          },
          "metadata": {
            "tags": []
          },
          "execution_count": 44
        }
      ]
    },
    {
      "cell_type": "code",
      "metadata": {
        "id": "yzAMDP-4d1MD",
        "colab": {
          "base_uri": "https://localhost:8080/",
          "height": 204
        },
        "outputId": "f6715283-bbf2-441c-b5ea-0be30f1966d9"
      },
      "source": [
        "df['label'] = 0\n",
        "df.loc[df['compound'] > 0.2, 'label'] = 1\n",
        "df.loc[df['compound'] < -0.2, 'label'] = 0\n",
        "df.head()"
      ],
      "execution_count": null,
      "outputs": [
        {
          "output_type": "execute_result",
          "data": {
            "text/html": [
              "<div>\n",
              "<style scoped>\n",
              "    .dataframe tbody tr th:only-of-type {\n",
              "        vertical-align: middle;\n",
              "    }\n",
              "\n",
              "    .dataframe tbody tr th {\n",
              "        vertical-align: top;\n",
              "    }\n",
              "\n",
              "    .dataframe thead th {\n",
              "        text-align: right;\n",
              "    }\n",
              "</style>\n",
              "<table border=\"1\" class=\"dataframe\">\n",
              "  <thead>\n",
              "    <tr style=\"text-align: right;\">\n",
              "      <th></th>\n",
              "      <th>neg</th>\n",
              "      <th>neu</th>\n",
              "      <th>pos</th>\n",
              "      <th>compound</th>\n",
              "      <th>headline</th>\n",
              "      <th>label</th>\n",
              "    </tr>\n",
              "  </thead>\n",
              "  <tbody>\n",
              "    <tr>\n",
              "      <th>0</th>\n",
              "      <td>0.453</td>\n",
              "      <td>0.547</td>\n",
              "      <td>0.000</td>\n",
              "      <td>-0.7003</td>\n",
              "      <td>obama nerd president needs get right star wars...</td>\n",
              "      <td>0</td>\n",
              "    </tr>\n",
              "    <tr>\n",
              "      <th>1</th>\n",
              "      <td>0.000</td>\n",
              "      <td>0.741</td>\n",
              "      <td>0.259</td>\n",
              "      <td>0.2732</td>\n",
              "      <td>johannesburg committed developing job intensiv...</td>\n",
              "      <td>1</td>\n",
              "    </tr>\n",
              "    <tr>\n",
              "      <th>2</th>\n",
              "      <td>0.000</td>\n",
              "      <td>1.000</td>\n",
              "      <td>0.000</td>\n",
              "      <td>0.0000</td>\n",
              "      <td>whose president</td>\n",
              "      <td>0</td>\n",
              "    </tr>\n",
              "    <tr>\n",
              "      <th>3</th>\n",
              "      <td>0.000</td>\n",
              "      <td>0.682</td>\n",
              "      <td>0.318</td>\n",
              "      <td>0.4215</td>\n",
              "      <td>argentina pays holdout bondholders elevating h...</td>\n",
              "      <td>1</td>\n",
              "    </tr>\n",
              "    <tr>\n",
              "      <th>4</th>\n",
              "      <td>0.272</td>\n",
              "      <td>0.543</td>\n",
              "      <td>0.185</td>\n",
              "      <td>-0.2023</td>\n",
              "      <td>obama trump displays ignorance seeks tweets so...</td>\n",
              "      <td>0</td>\n",
              "    </tr>\n",
              "  </tbody>\n",
              "</table>\n",
              "</div>"
            ],
            "text/plain": [
              "     neg    neu  ...                                           headline  label\n",
              "0  0.453  0.547  ...  obama nerd president needs get right star wars...      0\n",
              "1  0.000  0.741  ...  johannesburg committed developing job intensiv...      1\n",
              "2  0.000  1.000  ...                                    whose president      0\n",
              "3  0.000  0.682  ...  argentina pays holdout bondholders elevating h...      1\n",
              "4  0.272  0.543  ...  obama trump displays ignorance seeks tweets so...      0\n",
              "\n",
              "[5 rows x 6 columns]"
            ]
          },
          "metadata": {
            "tags": []
          },
          "execution_count": 46
        }
      ]
    },
    {
      "cell_type": "code",
      "metadata": {
        "id": "GJuPH18mg_Ge"
      },
      "source": [
        "df"
      ],
      "execution_count": null,
      "outputs": []
    },
    {
      "cell_type": "code",
      "metadata": {
        "id": "HWjoZfR8g5XQ",
        "colab": {
          "base_uri": "https://localhost:8080/"
        },
        "outputId": "72d1d5a3-7a29-45d5-bb8e-8ecb5e1f1a77"
      },
      "source": [
        "print(classification_report(y_test, df.label))"
      ],
      "execution_count": null,
      "outputs": [
        {
          "output_type": "stream",
          "text": [
            "              precision    recall  f1-score   support\n",
            "\n",
            "           0       0.64      0.78      0.70     28363\n",
            "           1       0.49      0.32      0.39     18257\n",
            "\n",
            "    accuracy                           0.60     46620\n",
            "   macro avg       0.56      0.55      0.55     46620\n",
            "weighted avg       0.58      0.60      0.58     46620\n",
            "\n"
          ],
          "name": "stdout"
        }
      ]
    }
  ]
}