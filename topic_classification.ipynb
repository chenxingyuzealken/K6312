{
  "nbformat": 4,
  "nbformat_minor": 0,
  "metadata": {
    "colab": {
      "name": "topic classification.ipynb",
      "provenance": [],
      "collapsed_sections": [],
      "include_colab_link": true
    },
    "kernelspec": {
      "name": "python3",
      "display_name": "Python 3"
    },
    "widgets": {
      "application/vnd.jupyter.widget-state+json": {
        "30a88164665e4dd8b44e5878d01c6d26": {
          "model_module": "@jupyter-widgets/controls",
          "model_name": "HBoxModel",
          "state": {
            "_view_name": "HBoxView",
            "_dom_classes": [],
            "_model_name": "HBoxModel",
            "_view_module": "@jupyter-widgets/controls",
            "_model_module_version": "1.5.0",
            "_view_count": null,
            "_view_module_version": "1.5.0",
            "box_style": "",
            "layout": "IPY_MODEL_841750a1e6b14bedb87b3a4fd9311a8c",
            "_model_module": "@jupyter-widgets/controls",
            "children": [
              "IPY_MODEL_6669e116e1bf4108ae78af9f93f36bbc",
              "IPY_MODEL_41cf94f8817e469493f6529f27a73c96"
            ]
          }
        },
        "841750a1e6b14bedb87b3a4fd9311a8c": {
          "model_module": "@jupyter-widgets/base",
          "model_name": "LayoutModel",
          "state": {
            "_view_name": "LayoutView",
            "grid_template_rows": null,
            "right": null,
            "justify_content": null,
            "_view_module": "@jupyter-widgets/base",
            "overflow": null,
            "_model_module_version": "1.2.0",
            "_view_count": null,
            "flex_flow": null,
            "width": null,
            "min_width": null,
            "border": null,
            "align_items": null,
            "bottom": null,
            "_model_module": "@jupyter-widgets/base",
            "top": null,
            "grid_column": null,
            "overflow_y": null,
            "overflow_x": null,
            "grid_auto_flow": null,
            "grid_area": null,
            "grid_template_columns": null,
            "flex": null,
            "_model_name": "LayoutModel",
            "justify_items": null,
            "grid_row": null,
            "max_height": null,
            "align_content": null,
            "visibility": null,
            "align_self": null,
            "height": null,
            "min_height": null,
            "padding": null,
            "grid_auto_rows": null,
            "grid_gap": null,
            "max_width": null,
            "order": null,
            "_view_module_version": "1.2.0",
            "grid_template_areas": null,
            "object_position": null,
            "object_fit": null,
            "grid_auto_columns": null,
            "margin": null,
            "display": null,
            "left": null
          }
        },
        "6669e116e1bf4108ae78af9f93f36bbc": {
          "model_module": "@jupyter-widgets/controls",
          "model_name": "FloatProgressModel",
          "state": {
            "_view_name": "ProgressView",
            "style": "IPY_MODEL_70035834001d4056bc1cdeb02ace715b",
            "_dom_classes": [],
            "description": "100%",
            "_model_name": "FloatProgressModel",
            "bar_style": "success",
            "max": 1749,
            "_view_module": "@jupyter-widgets/controls",
            "_model_module_version": "1.5.0",
            "value": 1749,
            "_view_count": null,
            "_view_module_version": "1.5.0",
            "orientation": "horizontal",
            "min": 0,
            "description_tooltip": null,
            "_model_module": "@jupyter-widgets/controls",
            "layout": "IPY_MODEL_9859de8109cf46eea575f86005e73d40"
          }
        },
        "41cf94f8817e469493f6529f27a73c96": {
          "model_module": "@jupyter-widgets/controls",
          "model_name": "HTMLModel",
          "state": {
            "_view_name": "HTMLView",
            "style": "IPY_MODEL_2bf4058adb6e4c0b9b6c8d5db961474e",
            "_dom_classes": [],
            "description": "",
            "_model_name": "HTMLModel",
            "placeholder": "​",
            "_view_module": "@jupyter-widgets/controls",
            "_model_module_version": "1.5.0",
            "value": " 1749/1749 [00:00&lt;00:00, 1987.01it/s]",
            "_view_count": null,
            "_view_module_version": "1.5.0",
            "description_tooltip": null,
            "_model_module": "@jupyter-widgets/controls",
            "layout": "IPY_MODEL_8ba0025037c04694b62ada4b757b3f59"
          }
        },
        "70035834001d4056bc1cdeb02ace715b": {
          "model_module": "@jupyter-widgets/controls",
          "model_name": "ProgressStyleModel",
          "state": {
            "_view_name": "StyleView",
            "_model_name": "ProgressStyleModel",
            "description_width": "initial",
            "_view_module": "@jupyter-widgets/base",
            "_model_module_version": "1.5.0",
            "_view_count": null,
            "_view_module_version": "1.2.0",
            "bar_color": null,
            "_model_module": "@jupyter-widgets/controls"
          }
        },
        "9859de8109cf46eea575f86005e73d40": {
          "model_module": "@jupyter-widgets/base",
          "model_name": "LayoutModel",
          "state": {
            "_view_name": "LayoutView",
            "grid_template_rows": null,
            "right": null,
            "justify_content": null,
            "_view_module": "@jupyter-widgets/base",
            "overflow": null,
            "_model_module_version": "1.2.0",
            "_view_count": null,
            "flex_flow": null,
            "width": null,
            "min_width": null,
            "border": null,
            "align_items": null,
            "bottom": null,
            "_model_module": "@jupyter-widgets/base",
            "top": null,
            "grid_column": null,
            "overflow_y": null,
            "overflow_x": null,
            "grid_auto_flow": null,
            "grid_area": null,
            "grid_template_columns": null,
            "flex": null,
            "_model_name": "LayoutModel",
            "justify_items": null,
            "grid_row": null,
            "max_height": null,
            "align_content": null,
            "visibility": null,
            "align_self": null,
            "height": null,
            "min_height": null,
            "padding": null,
            "grid_auto_rows": null,
            "grid_gap": null,
            "max_width": null,
            "order": null,
            "_view_module_version": "1.2.0",
            "grid_template_areas": null,
            "object_position": null,
            "object_fit": null,
            "grid_auto_columns": null,
            "margin": null,
            "display": null,
            "left": null
          }
        },
        "2bf4058adb6e4c0b9b6c8d5db961474e": {
          "model_module": "@jupyter-widgets/controls",
          "model_name": "DescriptionStyleModel",
          "state": {
            "_view_name": "StyleView",
            "_model_name": "DescriptionStyleModel",
            "description_width": "",
            "_view_module": "@jupyter-widgets/base",
            "_model_module_version": "1.5.0",
            "_view_count": null,
            "_view_module_version": "1.2.0",
            "_model_module": "@jupyter-widgets/controls"
          }
        },
        "8ba0025037c04694b62ada4b757b3f59": {
          "model_module": "@jupyter-widgets/base",
          "model_name": "LayoutModel",
          "state": {
            "_view_name": "LayoutView",
            "grid_template_rows": null,
            "right": null,
            "justify_content": null,
            "_view_module": "@jupyter-widgets/base",
            "overflow": null,
            "_model_module_version": "1.2.0",
            "_view_count": null,
            "flex_flow": null,
            "width": null,
            "min_width": null,
            "border": null,
            "align_items": null,
            "bottom": null,
            "_model_module": "@jupyter-widgets/base",
            "top": null,
            "grid_column": null,
            "overflow_y": null,
            "overflow_x": null,
            "grid_auto_flow": null,
            "grid_area": null,
            "grid_template_columns": null,
            "flex": null,
            "_model_name": "LayoutModel",
            "justify_items": null,
            "grid_row": null,
            "max_height": null,
            "align_content": null,
            "visibility": null,
            "align_self": null,
            "height": null,
            "min_height": null,
            "padding": null,
            "grid_auto_rows": null,
            "grid_gap": null,
            "max_width": null,
            "order": null,
            "_view_module_version": "1.2.0",
            "grid_template_areas": null,
            "object_position": null,
            "object_fit": null,
            "grid_auto_columns": null,
            "margin": null,
            "display": null,
            "left": null
          }
        },
        "e83df94d7ef746c4b79b05495a63001b": {
          "model_module": "@jupyter-widgets/controls",
          "model_name": "HBoxModel",
          "state": {
            "_view_name": "HBoxView",
            "_dom_classes": [],
            "_model_name": "HBoxModel",
            "_view_module": "@jupyter-widgets/controls",
            "_model_module_version": "1.5.0",
            "_view_count": null,
            "_view_module_version": "1.5.0",
            "box_style": "",
            "layout": "IPY_MODEL_4f928a8b859146759cdff8499e0403a8",
            "_model_module": "@jupyter-widgets/controls",
            "children": [
              "IPY_MODEL_2f17c5e13f574fd19051b6aa98a2054e",
              "IPY_MODEL_6e18588616b641b0a22eb5a2e8654269"
            ]
          }
        },
        "4f928a8b859146759cdff8499e0403a8": {
          "model_module": "@jupyter-widgets/base",
          "model_name": "LayoutModel",
          "state": {
            "_view_name": "LayoutView",
            "grid_template_rows": null,
            "right": null,
            "justify_content": null,
            "_view_module": "@jupyter-widgets/base",
            "overflow": null,
            "_model_module_version": "1.2.0",
            "_view_count": null,
            "flex_flow": null,
            "width": null,
            "min_width": null,
            "border": null,
            "align_items": null,
            "bottom": null,
            "_model_module": "@jupyter-widgets/base",
            "top": null,
            "grid_column": null,
            "overflow_y": null,
            "overflow_x": null,
            "grid_auto_flow": null,
            "grid_area": null,
            "grid_template_columns": null,
            "flex": null,
            "_model_name": "LayoutModel",
            "justify_items": null,
            "grid_row": null,
            "max_height": null,
            "align_content": null,
            "visibility": null,
            "align_self": null,
            "height": null,
            "min_height": null,
            "padding": null,
            "grid_auto_rows": null,
            "grid_gap": null,
            "max_width": null,
            "order": null,
            "_view_module_version": "1.2.0",
            "grid_template_areas": null,
            "object_position": null,
            "object_fit": null,
            "grid_auto_columns": null,
            "margin": null,
            "display": null,
            "left": null
          }
        },
        "2f17c5e13f574fd19051b6aa98a2054e": {
          "model_module": "@jupyter-widgets/controls",
          "model_name": "FloatProgressModel",
          "state": {
            "_view_name": "ProgressView",
            "style": "IPY_MODEL_ae6921d56ca741099fcd67170b8b5af4",
            "_dom_classes": [],
            "description": "100%",
            "_model_name": "FloatProgressModel",
            "bar_style": "success",
            "max": 1750,
            "_view_module": "@jupyter-widgets/controls",
            "_model_module_version": "1.5.0",
            "value": 1750,
            "_view_count": null,
            "_view_module_version": "1.5.0",
            "orientation": "horizontal",
            "min": 0,
            "description_tooltip": null,
            "_model_module": "@jupyter-widgets/controls",
            "layout": "IPY_MODEL_182b642065da4dceb26c26107ff4d310"
          }
        },
        "6e18588616b641b0a22eb5a2e8654269": {
          "model_module": "@jupyter-widgets/controls",
          "model_name": "HTMLModel",
          "state": {
            "_view_name": "HTMLView",
            "style": "IPY_MODEL_88a7d23dc2304c92a74fff04c5a4325e",
            "_dom_classes": [],
            "description": "",
            "_model_name": "HTMLModel",
            "placeholder": "​",
            "_view_module": "@jupyter-widgets/controls",
            "_model_module_version": "1.5.0",
            "value": " 1750/1750 [00:00&lt;00:00, 1957.25it/s]",
            "_view_count": null,
            "_view_module_version": "1.5.0",
            "description_tooltip": null,
            "_model_module": "@jupyter-widgets/controls",
            "layout": "IPY_MODEL_cbf94fe2efd842c88402ee4121758823"
          }
        },
        "ae6921d56ca741099fcd67170b8b5af4": {
          "model_module": "@jupyter-widgets/controls",
          "model_name": "ProgressStyleModel",
          "state": {
            "_view_name": "StyleView",
            "_model_name": "ProgressStyleModel",
            "description_width": "initial",
            "_view_module": "@jupyter-widgets/base",
            "_model_module_version": "1.5.0",
            "_view_count": null,
            "_view_module_version": "1.2.0",
            "bar_color": null,
            "_model_module": "@jupyter-widgets/controls"
          }
        },
        "182b642065da4dceb26c26107ff4d310": {
          "model_module": "@jupyter-widgets/base",
          "model_name": "LayoutModel",
          "state": {
            "_view_name": "LayoutView",
            "grid_template_rows": null,
            "right": null,
            "justify_content": null,
            "_view_module": "@jupyter-widgets/base",
            "overflow": null,
            "_model_module_version": "1.2.0",
            "_view_count": null,
            "flex_flow": null,
            "width": null,
            "min_width": null,
            "border": null,
            "align_items": null,
            "bottom": null,
            "_model_module": "@jupyter-widgets/base",
            "top": null,
            "grid_column": null,
            "overflow_y": null,
            "overflow_x": null,
            "grid_auto_flow": null,
            "grid_area": null,
            "grid_template_columns": null,
            "flex": null,
            "_model_name": "LayoutModel",
            "justify_items": null,
            "grid_row": null,
            "max_height": null,
            "align_content": null,
            "visibility": null,
            "align_self": null,
            "height": null,
            "min_height": null,
            "padding": null,
            "grid_auto_rows": null,
            "grid_gap": null,
            "max_width": null,
            "order": null,
            "_view_module_version": "1.2.0",
            "grid_template_areas": null,
            "object_position": null,
            "object_fit": null,
            "grid_auto_columns": null,
            "margin": null,
            "display": null,
            "left": null
          }
        },
        "88a7d23dc2304c92a74fff04c5a4325e": {
          "model_module": "@jupyter-widgets/controls",
          "model_name": "DescriptionStyleModel",
          "state": {
            "_view_name": "StyleView",
            "_model_name": "DescriptionStyleModel",
            "description_width": "",
            "_view_module": "@jupyter-widgets/base",
            "_model_module_version": "1.5.0",
            "_view_count": null,
            "_view_module_version": "1.2.0",
            "_model_module": "@jupyter-widgets/controls"
          }
        },
        "cbf94fe2efd842c88402ee4121758823": {
          "model_module": "@jupyter-widgets/base",
          "model_name": "LayoutModel",
          "state": {
            "_view_name": "LayoutView",
            "grid_template_rows": null,
            "right": null,
            "justify_content": null,
            "_view_module": "@jupyter-widgets/base",
            "overflow": null,
            "_model_module_version": "1.2.0",
            "_view_count": null,
            "flex_flow": null,
            "width": null,
            "min_width": null,
            "border": null,
            "align_items": null,
            "bottom": null,
            "_model_module": "@jupyter-widgets/base",
            "top": null,
            "grid_column": null,
            "overflow_y": null,
            "overflow_x": null,
            "grid_auto_flow": null,
            "grid_area": null,
            "grid_template_columns": null,
            "flex": null,
            "_model_name": "LayoutModel",
            "justify_items": null,
            "grid_row": null,
            "max_height": null,
            "align_content": null,
            "visibility": null,
            "align_self": null,
            "height": null,
            "min_height": null,
            "padding": null,
            "grid_auto_rows": null,
            "grid_gap": null,
            "max_width": null,
            "order": null,
            "_view_module_version": "1.2.0",
            "grid_template_areas": null,
            "object_position": null,
            "object_fit": null,
            "grid_auto_columns": null,
            "margin": null,
            "display": null,
            "left": null
          }
        },
        "2e2cd0ee07cf4ea9ae6255f884dcd8ee": {
          "model_module": "@jupyter-widgets/controls",
          "model_name": "HBoxModel",
          "state": {
            "_view_name": "HBoxView",
            "_dom_classes": [],
            "_model_name": "HBoxModel",
            "_view_module": "@jupyter-widgets/controls",
            "_model_module_version": "1.5.0",
            "_view_count": null,
            "_view_module_version": "1.5.0",
            "box_style": "",
            "layout": "IPY_MODEL_57055bb4ffb64c589c2ef9dac287240b",
            "_model_module": "@jupyter-widgets/controls",
            "children": [
              "IPY_MODEL_0b6cd7797d9742f795da115b58a3743f",
              "IPY_MODEL_653a5decf3f54ddb8c2327cd2ec676ba"
            ]
          }
        },
        "57055bb4ffb64c589c2ef9dac287240b": {
          "model_module": "@jupyter-widgets/base",
          "model_name": "LayoutModel",
          "state": {
            "_view_name": "LayoutView",
            "grid_template_rows": null,
            "right": null,
            "justify_content": null,
            "_view_module": "@jupyter-widgets/base",
            "overflow": null,
            "_model_module_version": "1.2.0",
            "_view_count": null,
            "flex_flow": null,
            "width": null,
            "min_width": null,
            "border": null,
            "align_items": null,
            "bottom": null,
            "_model_module": "@jupyter-widgets/base",
            "top": null,
            "grid_column": null,
            "overflow_y": null,
            "overflow_x": null,
            "grid_auto_flow": null,
            "grid_area": null,
            "grid_template_columns": null,
            "flex": null,
            "_model_name": "LayoutModel",
            "justify_items": null,
            "grid_row": null,
            "max_height": null,
            "align_content": null,
            "visibility": null,
            "align_self": null,
            "height": null,
            "min_height": null,
            "padding": null,
            "grid_auto_rows": null,
            "grid_gap": null,
            "max_width": null,
            "order": null,
            "_view_module_version": "1.2.0",
            "grid_template_areas": null,
            "object_position": null,
            "object_fit": null,
            "grid_auto_columns": null,
            "margin": null,
            "display": null,
            "left": null
          }
        },
        "0b6cd7797d9742f795da115b58a3743f": {
          "model_module": "@jupyter-widgets/controls",
          "model_name": "FloatProgressModel",
          "state": {
            "_view_name": "ProgressView",
            "style": "IPY_MODEL_e1860d70e6414ffe893ad97c5c992278",
            "_dom_classes": [],
            "description": "100%",
            "_model_name": "FloatProgressModel",
            "bar_style": "success",
            "max": 290479,
            "_view_module": "@jupyter-widgets/controls",
            "_model_module_version": "1.5.0",
            "value": 290479,
            "_view_count": null,
            "_view_module_version": "1.5.0",
            "orientation": "horizontal",
            "min": 0,
            "description_tooltip": null,
            "_model_module": "@jupyter-widgets/controls",
            "layout": "IPY_MODEL_1ec0db2f787b4df08818c5c493504091"
          }
        },
        "653a5decf3f54ddb8c2327cd2ec676ba": {
          "model_module": "@jupyter-widgets/controls",
          "model_name": "HTMLModel",
          "state": {
            "_view_name": "HTMLView",
            "style": "IPY_MODEL_2394a2ee7cf5439091bdd3313f43d767",
            "_dom_classes": [],
            "description": "",
            "_model_name": "HTMLModel",
            "placeholder": "​",
            "_view_module": "@jupyter-widgets/controls",
            "_model_module_version": "1.5.0",
            "value": " 290479/290479 [02:51&lt;00:00, 1693.71it/s]",
            "_view_count": null,
            "_view_module_version": "1.5.0",
            "description_tooltip": null,
            "_model_module": "@jupyter-widgets/controls",
            "layout": "IPY_MODEL_9c76a6878a4f488587b38278c17811d8"
          }
        },
        "e1860d70e6414ffe893ad97c5c992278": {
          "model_module": "@jupyter-widgets/controls",
          "model_name": "ProgressStyleModel",
          "state": {
            "_view_name": "StyleView",
            "_model_name": "ProgressStyleModel",
            "description_width": "initial",
            "_view_module": "@jupyter-widgets/base",
            "_model_module_version": "1.5.0",
            "_view_count": null,
            "_view_module_version": "1.2.0",
            "bar_color": null,
            "_model_module": "@jupyter-widgets/controls"
          }
        },
        "1ec0db2f787b4df08818c5c493504091": {
          "model_module": "@jupyter-widgets/base",
          "model_name": "LayoutModel",
          "state": {
            "_view_name": "LayoutView",
            "grid_template_rows": null,
            "right": null,
            "justify_content": null,
            "_view_module": "@jupyter-widgets/base",
            "overflow": null,
            "_model_module_version": "1.2.0",
            "_view_count": null,
            "flex_flow": null,
            "width": null,
            "min_width": null,
            "border": null,
            "align_items": null,
            "bottom": null,
            "_model_module": "@jupyter-widgets/base",
            "top": null,
            "grid_column": null,
            "overflow_y": null,
            "overflow_x": null,
            "grid_auto_flow": null,
            "grid_area": null,
            "grid_template_columns": null,
            "flex": null,
            "_model_name": "LayoutModel",
            "justify_items": null,
            "grid_row": null,
            "max_height": null,
            "align_content": null,
            "visibility": null,
            "align_self": null,
            "height": null,
            "min_height": null,
            "padding": null,
            "grid_auto_rows": null,
            "grid_gap": null,
            "max_width": null,
            "order": null,
            "_view_module_version": "1.2.0",
            "grid_template_areas": null,
            "object_position": null,
            "object_fit": null,
            "grid_auto_columns": null,
            "margin": null,
            "display": null,
            "left": null
          }
        },
        "2394a2ee7cf5439091bdd3313f43d767": {
          "model_module": "@jupyter-widgets/controls",
          "model_name": "DescriptionStyleModel",
          "state": {
            "_view_name": "StyleView",
            "_model_name": "DescriptionStyleModel",
            "description_width": "",
            "_view_module": "@jupyter-widgets/base",
            "_model_module_version": "1.5.0",
            "_view_count": null,
            "_view_module_version": "1.2.0",
            "_model_module": "@jupyter-widgets/controls"
          }
        },
        "9c76a6878a4f488587b38278c17811d8": {
          "model_module": "@jupyter-widgets/base",
          "model_name": "LayoutModel",
          "state": {
            "_view_name": "LayoutView",
            "grid_template_rows": null,
            "right": null,
            "justify_content": null,
            "_view_module": "@jupyter-widgets/base",
            "overflow": null,
            "_model_module_version": "1.2.0",
            "_view_count": null,
            "flex_flow": null,
            "width": null,
            "min_width": null,
            "border": null,
            "align_items": null,
            "bottom": null,
            "_model_module": "@jupyter-widgets/base",
            "top": null,
            "grid_column": null,
            "overflow_y": null,
            "overflow_x": null,
            "grid_auto_flow": null,
            "grid_area": null,
            "grid_template_columns": null,
            "flex": null,
            "_model_name": "LayoutModel",
            "justify_items": null,
            "grid_row": null,
            "max_height": null,
            "align_content": null,
            "visibility": null,
            "align_self": null,
            "height": null,
            "min_height": null,
            "padding": null,
            "grid_auto_rows": null,
            "grid_gap": null,
            "max_width": null,
            "order": null,
            "_view_module_version": "1.2.0",
            "grid_template_areas": null,
            "object_position": null,
            "object_fit": null,
            "grid_auto_columns": null,
            "margin": null,
            "display": null,
            "left": null
          }
        },
        "dcbfe3c3e1b04e889f846bc6f2aca178": {
          "model_module": "@jupyter-widgets/controls",
          "model_name": "HBoxModel",
          "state": {
            "_view_name": "HBoxView",
            "_dom_classes": [],
            "_model_name": "HBoxModel",
            "_view_module": "@jupyter-widgets/controls",
            "_model_module_version": "1.5.0",
            "_view_count": null,
            "_view_module_version": "1.5.0",
            "box_style": "",
            "layout": "IPY_MODEL_343523497cb94e0abf4c31671ea7de7f",
            "_model_module": "@jupyter-widgets/controls",
            "children": [
              "IPY_MODEL_dd0600bb520d45a184ed935f8a5d9262",
              "IPY_MODEL_7d5f74f5a1054ebd8bb981e6ed4b26cf"
            ]
          }
        },
        "343523497cb94e0abf4c31671ea7de7f": {
          "model_module": "@jupyter-widgets/base",
          "model_name": "LayoutModel",
          "state": {
            "_view_name": "LayoutView",
            "grid_template_rows": null,
            "right": null,
            "justify_content": null,
            "_view_module": "@jupyter-widgets/base",
            "overflow": null,
            "_model_module_version": "1.2.0",
            "_view_count": null,
            "flex_flow": null,
            "width": null,
            "min_width": null,
            "border": null,
            "align_items": null,
            "bottom": null,
            "_model_module": "@jupyter-widgets/base",
            "top": null,
            "grid_column": null,
            "overflow_y": null,
            "overflow_x": null,
            "grid_auto_flow": null,
            "grid_area": null,
            "grid_template_columns": null,
            "flex": null,
            "_model_name": "LayoutModel",
            "justify_items": null,
            "grid_row": null,
            "max_height": null,
            "align_content": null,
            "visibility": null,
            "align_self": null,
            "height": null,
            "min_height": null,
            "padding": null,
            "grid_auto_rows": null,
            "grid_gap": null,
            "max_width": null,
            "order": null,
            "_view_module_version": "1.2.0",
            "grid_template_areas": null,
            "object_position": null,
            "object_fit": null,
            "grid_auto_columns": null,
            "margin": null,
            "display": null,
            "left": null
          }
        },
        "dd0600bb520d45a184ed935f8a5d9262": {
          "model_module": "@jupyter-widgets/controls",
          "model_name": "FloatProgressModel",
          "state": {
            "_view_name": "ProgressView",
            "style": "IPY_MODEL_ecfa8c5c050544c19439f20fac4c4fff",
            "_dom_classes": [],
            "description": "100%",
            "_model_name": "FloatProgressModel",
            "bar_style": "success",
            "max": 290479,
            "_view_module": "@jupyter-widgets/controls",
            "_model_module_version": "1.5.0",
            "value": 290479,
            "_view_count": null,
            "_view_module_version": "1.5.0",
            "orientation": "horizontal",
            "min": 0,
            "description_tooltip": null,
            "_model_module": "@jupyter-widgets/controls",
            "layout": "IPY_MODEL_f3c5091a527548499ab8e28aa52213c4"
          }
        },
        "7d5f74f5a1054ebd8bb981e6ed4b26cf": {
          "model_module": "@jupyter-widgets/controls",
          "model_name": "HTMLModel",
          "state": {
            "_view_name": "HTMLView",
            "style": "IPY_MODEL_a37578cd52274a3ba782bab8531e2beb",
            "_dom_classes": [],
            "description": "",
            "_model_name": "HTMLModel",
            "placeholder": "​",
            "_view_module": "@jupyter-widgets/controls",
            "_model_module_version": "1.5.0",
            "value": " 290479/290479 [01:37&lt;00:00, 2993.46it/s]",
            "_view_count": null,
            "_view_module_version": "1.5.0",
            "description_tooltip": null,
            "_model_module": "@jupyter-widgets/controls",
            "layout": "IPY_MODEL_e55aecfaf45e410caa71526d301462f4"
          }
        },
        "ecfa8c5c050544c19439f20fac4c4fff": {
          "model_module": "@jupyter-widgets/controls",
          "model_name": "ProgressStyleModel",
          "state": {
            "_view_name": "StyleView",
            "_model_name": "ProgressStyleModel",
            "description_width": "initial",
            "_view_module": "@jupyter-widgets/base",
            "_model_module_version": "1.5.0",
            "_view_count": null,
            "_view_module_version": "1.2.0",
            "bar_color": null,
            "_model_module": "@jupyter-widgets/controls"
          }
        },
        "f3c5091a527548499ab8e28aa52213c4": {
          "model_module": "@jupyter-widgets/base",
          "model_name": "LayoutModel",
          "state": {
            "_view_name": "LayoutView",
            "grid_template_rows": null,
            "right": null,
            "justify_content": null,
            "_view_module": "@jupyter-widgets/base",
            "overflow": null,
            "_model_module_version": "1.2.0",
            "_view_count": null,
            "flex_flow": null,
            "width": null,
            "min_width": null,
            "border": null,
            "align_items": null,
            "bottom": null,
            "_model_module": "@jupyter-widgets/base",
            "top": null,
            "grid_column": null,
            "overflow_y": null,
            "overflow_x": null,
            "grid_auto_flow": null,
            "grid_area": null,
            "grid_template_columns": null,
            "flex": null,
            "_model_name": "LayoutModel",
            "justify_items": null,
            "grid_row": null,
            "max_height": null,
            "align_content": null,
            "visibility": null,
            "align_self": null,
            "height": null,
            "min_height": null,
            "padding": null,
            "grid_auto_rows": null,
            "grid_gap": null,
            "max_width": null,
            "order": null,
            "_view_module_version": "1.2.0",
            "grid_template_areas": null,
            "object_position": null,
            "object_fit": null,
            "grid_auto_columns": null,
            "margin": null,
            "display": null,
            "left": null
          }
        },
        "a37578cd52274a3ba782bab8531e2beb": {
          "model_module": "@jupyter-widgets/controls",
          "model_name": "DescriptionStyleModel",
          "state": {
            "_view_name": "StyleView",
            "_model_name": "DescriptionStyleModel",
            "description_width": "",
            "_view_module": "@jupyter-widgets/base",
            "_model_module_version": "1.5.0",
            "_view_count": null,
            "_view_module_version": "1.2.0",
            "_model_module": "@jupyter-widgets/controls"
          }
        },
        "e55aecfaf45e410caa71526d301462f4": {
          "model_module": "@jupyter-widgets/base",
          "model_name": "LayoutModel",
          "state": {
            "_view_name": "LayoutView",
            "grid_template_rows": null,
            "right": null,
            "justify_content": null,
            "_view_module": "@jupyter-widgets/base",
            "overflow": null,
            "_model_module_version": "1.2.0",
            "_view_count": null,
            "flex_flow": null,
            "width": null,
            "min_width": null,
            "border": null,
            "align_items": null,
            "bottom": null,
            "_model_module": "@jupyter-widgets/base",
            "top": null,
            "grid_column": null,
            "overflow_y": null,
            "overflow_x": null,
            "grid_auto_flow": null,
            "grid_area": null,
            "grid_template_columns": null,
            "flex": null,
            "_model_name": "LayoutModel",
            "justify_items": null,
            "grid_row": null,
            "max_height": null,
            "align_content": null,
            "visibility": null,
            "align_self": null,
            "height": null,
            "min_height": null,
            "padding": null,
            "grid_auto_rows": null,
            "grid_gap": null,
            "max_width": null,
            "order": null,
            "_view_module_version": "1.2.0",
            "grid_template_areas": null,
            "object_position": null,
            "object_fit": null,
            "grid_auto_columns": null,
            "margin": null,
            "display": null,
            "left": null
          }
        }
      }
    }
  },
  "cells": [
    {
      "cell_type": "markdown",
      "metadata": {
        "id": "view-in-github",
        "colab_type": "text"
      },
      "source": [
        "<a href=\"https://colab.research.google.com/github/workhardzy/K6312/blob/main/topic_classification.ipynb\" target=\"_parent\"><img src=\"https://colab.research.google.com/assets/colab-badge.svg\" alt=\"Open In Colab\"/></a>"
      ]
    },
    {
      "cell_type": "code",
      "metadata": {
        "id": "9XqOiEWNWT1d"
      },
      "source": [
        "#https://github.com/susanli2016/Machine-Learning-with-Python/blob/master/Consumer_complaints.ipynb"
      ],
      "execution_count": null,
      "outputs": []
    },
    {
      "cell_type": "markdown",
      "metadata": {
        "id": "Ugjqcj5zYeTM"
      },
      "source": [
        "Exploring the data"
      ]
    },
    {
      "cell_type": "code",
      "metadata": {
        "colab": {
          "base_uri": "https://localhost:8080/"
        },
        "id": "4tqhYa2TSz5Q",
        "outputId": "70293bec-6c54-48aa-8487-793d5795599e"
      },
      "source": [
        "sorry from google.colab import drive\n",
        "drive.mount(\"/content/gdrive\")"
      ],
      "execution_count": null,
      "outputs": [
        {
          "output_type": "stream",
          "text": [
            "Mounted at /content/gdrive\n"
          ],
          "name": "stdout"
        }
      ]
    },
    {
      "cell_type": "code",
      "metadata": {
        "id": "ToppC4wKZa38"
      },
      "source": [
        "from sklearn.metrics import confusion_matrix, classification_report\n",
        "\n",
        "import pandas as pd \n",
        "import re \n",
        "import nltk \n",
        "from nltk.corpus import stopwords \n",
        "from nltk.stem.porter import PorterStemmer \n",
        "from sklearn.feature_extraction.text import CountVectorizer \n",
        "from sklearn.feature_extraction.text import TfidfVectorizer\n",
        "\n",
        "from sklearn.model_selection import train_test_split\n",
        "from sklearn.feature_extraction.text import CountVectorizer\n",
        "from sklearn.feature_extraction.text import TfidfTransformer\n",
        "from sklearn.naive_bayes import MultinomialNB\n"
      ],
      "execution_count": null,
      "outputs": []
    },
    {
      "cell_type": "code",
      "metadata": {
        "colab": {
          "base_uri": "https://localhost:8080/",
          "height": 606
        },
        "id": "fqmAlIL3TJlF",
        "outputId": "d24ea6eb-291d-466d-fe22-1db54e3660ed"
      },
      "source": [
        "path = '/content/gdrive/MyDrive/PROJECT12/1-5.xlsx' #this is from our topic models\n",
        "df = pd.read_excel(path)\n",
        "df"
      ],
      "execution_count": null,
      "outputs": [
        {
          "output_type": "execute_result",
          "data": {
            "text/html": [
              "<div>\n",
              "<style scoped>\n",
              "    .dataframe tbody tr th:only-of-type {\n",
              "        vertical-align: middle;\n",
              "    }\n",
              "\n",
              "    .dataframe tbody tr th {\n",
              "        vertical-align: top;\n",
              "    }\n",
              "\n",
              "    .dataframe thead th {\n",
              "        text-align: right;\n",
              "    }\n",
              "</style>\n",
              "<table border=\"1\" class=\"dataframe\">\n",
              "  <thead>\n",
              "    <tr style=\"text-align: right;\">\n",
              "      <th></th>\n",
              "      <th>month</th>\n",
              "      <th>topic number</th>\n",
              "      <th>topic name</th>\n",
              "      <th>title</th>\n",
              "      <th>date</th>\n",
              "      <th>topic_area</th>\n",
              "    </tr>\n",
              "  </thead>\n",
              "  <tbody>\n",
              "    <tr>\n",
              "      <th>0</th>\n",
              "      <td>January</td>\n",
              "      <td>0</td>\n",
              "      <td>china coronavirus outbreak and stock market</td>\n",
              "      <td>Disease X: Mysterious outbreak in China could ...</td>\n",
              "      <td>2020-01-10 00:00:00</td>\n",
              "      <td>general</td>\n",
              "    </tr>\n",
              "    <tr>\n",
              "      <th>1</th>\n",
              "      <td>January</td>\n",
              "      <td>0</td>\n",
              "      <td>china coronavirus outbreak and stock market</td>\n",
              "      <td>China coronavirus outbreak: First case reporte...</td>\n",
              "      <td>2020-01-15 00:00:00</td>\n",
              "      <td>general</td>\n",
              "    </tr>\n",
              "    <tr>\n",
              "      <th>2</th>\n",
              "      <td>January</td>\n",
              "      <td>0</td>\n",
              "      <td>china coronavirus outbreak and stock market</td>\n",
              "      <td>Coronavirus: China reports 17 new cases of Sar...</td>\n",
              "      <td>2020-01-19 00:00:00</td>\n",
              "      <td>general</td>\n",
              "    </tr>\n",
              "    <tr>\n",
              "      <th>3</th>\n",
              "      <td>January</td>\n",
              "      <td>0</td>\n",
              "      <td>china coronavirus outbreak and stock market</td>\n",
              "      <td>Southeast Asia stocks: Singapore falls on Chin...</td>\n",
              "      <td>2020-01-20 00:00:00</td>\n",
              "      <td>business</td>\n",
              "    </tr>\n",
              "    <tr>\n",
              "      <th>4</th>\n",
              "      <td>January</td>\n",
              "      <td>0</td>\n",
              "      <td>china coronavirus outbreak and stock market</td>\n",
              "      <td>Wuhan virus: Shares of China drugmakers rise a...</td>\n",
              "      <td>2020-01-20 00:00:00</td>\n",
              "      <td>finance</td>\n",
              "    </tr>\n",
              "    <tr>\n",
              "      <th>...</th>\n",
              "      <td>...</td>\n",
              "      <td>...</td>\n",
              "      <td>...</td>\n",
              "      <td>...</td>\n",
              "      <td>...</td>\n",
              "      <td>...</td>\n",
              "    </tr>\n",
              "    <tr>\n",
              "      <th>3494</th>\n",
              "      <td>May</td>\n",
              "      <td>34</td>\n",
              "      <td>NaN</td>\n",
              "      <td>In broadside against China, Trump moves toward...</td>\n",
              "      <td>2020-05-29 00:00:00</td>\n",
              "      <td>business</td>\n",
              "    </tr>\n",
              "    <tr>\n",
              "      <th>3495</th>\n",
              "      <td>May</td>\n",
              "      <td>34</td>\n",
              "      <td>NaN</td>\n",
              "      <td>NatWest launches Dream Bigger free schools ses...</td>\n",
              "      <td>2020-05-29 00:00:00</td>\n",
              "      <td>general</td>\n",
              "    </tr>\n",
              "    <tr>\n",
              "      <th>3496</th>\n",
              "      <td>May</td>\n",
              "      <td>34</td>\n",
              "      <td>NaN</td>\n",
              "      <td>One in six people over 50 could delay retireme...</td>\n",
              "      <td>2020-05-30 00:00:00</td>\n",
              "      <td>business</td>\n",
              "    </tr>\n",
              "    <tr>\n",
              "      <th>3497</th>\n",
              "      <td>May</td>\n",
              "      <td>34</td>\n",
              "      <td>NaN</td>\n",
              "      <td>Timeline: Key dates in Hong Kong's anti-govern...</td>\n",
              "      <td>2020-05-30 00:00:00</td>\n",
              "      <td>business</td>\n",
              "    </tr>\n",
              "    <tr>\n",
              "      <th>3498</th>\n",
              "      <td>May</td>\n",
              "      <td>34</td>\n",
              "      <td>NaN</td>\n",
              "      <td>U.S. Businesses Brace for Damage as Tensions O...</td>\n",
              "      <td>2020-05-31 00:00:00</td>\n",
              "      <td>business</td>\n",
              "    </tr>\n",
              "  </tbody>\n",
              "</table>\n",
              "<p>3499 rows × 6 columns</p>\n",
              "</div>"
            ],
            "text/plain": [
              "        month  topic number  ...                 date topic_area\n",
              "0     January             0  ...  2020-01-10 00:00:00    general\n",
              "1     January             0  ...  2020-01-15 00:00:00    general\n",
              "2     January             0  ...  2020-01-19 00:00:00    general\n",
              "3     January             0  ...  2020-01-20 00:00:00   business\n",
              "4     January             0  ...  2020-01-20 00:00:00    finance\n",
              "...       ...           ...  ...                  ...        ...\n",
              "3494      May            34  ...  2020-05-29 00:00:00   business\n",
              "3495      May            34  ...  2020-05-29 00:00:00    general\n",
              "3496      May            34  ...  2020-05-30 00:00:00   business\n",
              "3497      May            34  ...  2020-05-30 00:00:00   business\n",
              "3498      May            34  ...  2020-05-31 00:00:00   business\n",
              "\n",
              "[3499 rows x 6 columns]"
            ]
          },
          "metadata": {
            "tags": []
          },
          "execution_count": 4
        }
      ]
    },
    {
      "cell_type": "code",
      "metadata": {
        "colab": {
          "base_uri": "https://localhost:8080/",
          "height": 419
        },
        "id": "u_VRl8d_Uz3M",
        "outputId": "4884f422-ac2b-4440-edce-2ecd907dd53f"
      },
      "source": [
        "tdf = df[['topic number','title']]\n",
        "tdf"
      ],
      "execution_count": null,
      "outputs": [
        {
          "output_type": "execute_result",
          "data": {
            "text/html": [
              "<div>\n",
              "<style scoped>\n",
              "    .dataframe tbody tr th:only-of-type {\n",
              "        vertical-align: middle;\n",
              "    }\n",
              "\n",
              "    .dataframe tbody tr th {\n",
              "        vertical-align: top;\n",
              "    }\n",
              "\n",
              "    .dataframe thead th {\n",
              "        text-align: right;\n",
              "    }\n",
              "</style>\n",
              "<table border=\"1\" class=\"dataframe\">\n",
              "  <thead>\n",
              "    <tr style=\"text-align: right;\">\n",
              "      <th></th>\n",
              "      <th>topic number</th>\n",
              "      <th>title</th>\n",
              "    </tr>\n",
              "  </thead>\n",
              "  <tbody>\n",
              "    <tr>\n",
              "      <th>0</th>\n",
              "      <td>0</td>\n",
              "      <td>Disease X: Mysterious outbreak in China could ...</td>\n",
              "    </tr>\n",
              "    <tr>\n",
              "      <th>1</th>\n",
              "      <td>0</td>\n",
              "      <td>China coronavirus outbreak: First case reporte...</td>\n",
              "    </tr>\n",
              "    <tr>\n",
              "      <th>2</th>\n",
              "      <td>0</td>\n",
              "      <td>Coronavirus: China reports 17 new cases of Sar...</td>\n",
              "    </tr>\n",
              "    <tr>\n",
              "      <th>3</th>\n",
              "      <td>0</td>\n",
              "      <td>Southeast Asia stocks: Singapore falls on Chin...</td>\n",
              "    </tr>\n",
              "    <tr>\n",
              "      <th>4</th>\n",
              "      <td>0</td>\n",
              "      <td>Wuhan virus: Shares of China drugmakers rise a...</td>\n",
              "    </tr>\n",
              "    <tr>\n",
              "      <th>...</th>\n",
              "      <td>...</td>\n",
              "      <td>...</td>\n",
              "    </tr>\n",
              "    <tr>\n",
              "      <th>3494</th>\n",
              "      <td>34</td>\n",
              "      <td>In broadside against China, Trump moves toward...</td>\n",
              "    </tr>\n",
              "    <tr>\n",
              "      <th>3495</th>\n",
              "      <td>34</td>\n",
              "      <td>NatWest launches Dream Bigger free schools ses...</td>\n",
              "    </tr>\n",
              "    <tr>\n",
              "      <th>3496</th>\n",
              "      <td>34</td>\n",
              "      <td>One in six people over 50 could delay retireme...</td>\n",
              "    </tr>\n",
              "    <tr>\n",
              "      <th>3497</th>\n",
              "      <td>34</td>\n",
              "      <td>Timeline: Key dates in Hong Kong's anti-govern...</td>\n",
              "    </tr>\n",
              "    <tr>\n",
              "      <th>3498</th>\n",
              "      <td>34</td>\n",
              "      <td>U.S. Businesses Brace for Damage as Tensions O...</td>\n",
              "    </tr>\n",
              "  </tbody>\n",
              "</table>\n",
              "<p>3499 rows × 2 columns</p>\n",
              "</div>"
            ],
            "text/plain": [
              "      topic number                                              title\n",
              "0                0  Disease X: Mysterious outbreak in China could ...\n",
              "1                0  China coronavirus outbreak: First case reporte...\n",
              "2                0  Coronavirus: China reports 17 new cases of Sar...\n",
              "3                0  Southeast Asia stocks: Singapore falls on Chin...\n",
              "4                0  Wuhan virus: Shares of China drugmakers rise a...\n",
              "...            ...                                                ...\n",
              "3494            34  In broadside against China, Trump moves toward...\n",
              "3495            34  NatWest launches Dream Bigger free schools ses...\n",
              "3496            34  One in six people over 50 could delay retireme...\n",
              "3497            34  Timeline: Key dates in Hong Kong's anti-govern...\n",
              "3498            34  U.S. Businesses Brace for Damage as Tensions O...\n",
              "\n",
              "[3499 rows x 2 columns]"
            ]
          },
          "metadata": {
            "tags": []
          },
          "execution_count": 5
        }
      ]
    },
    {
      "cell_type": "code",
      "metadata": {
        "id": "yCCROTglVAAn"
      },
      "source": [
        "tdf.columns = ['label','title']"
      ],
      "execution_count": null,
      "outputs": []
    },
    {
      "cell_type": "code",
      "metadata": {
        "id": "nMrmTZkcWh-5",
        "colab": {
          "base_uri": "https://localhost:8080/",
          "height": 299
        },
        "outputId": "d05f6d8c-859c-464a-f1fc-9033f2b3359e"
      },
      "source": [
        "import matplotlib.pyplot as plt\n",
        "fig = plt.figure(figsize=(8,6))\n",
        "df.groupby('topic number').count().plot.bar(ylim=0) #change this\n",
        "plt.show()"
      ],
      "execution_count": null,
      "outputs": [
        {
          "output_type": "display_data",
          "data": {
            "text/plain": [
              "<Figure size 576x432 with 0 Axes>"
            ]
          },
          "metadata": {
            "tags": []
          }
        },
        {
          "output_type": "display_data",
          "data": {
            "image/png": "[encoded data removed]",
            "text/plain": [
              "<Figure size 432x288 with 1 Axes>"
            ]
          },
          "metadata": {
            "tags": [],
            "needs_background": "light"
          }
        }
      ]
    },
    {
      "cell_type": "markdown",
      "metadata": {
        "id": "hxaDb4NuYaXQ"
      },
      "source": [
        "text preprocessing"
      ]
    },
    {
      "cell_type": "code",
      "metadata": {
        "colab": {
          "base_uri": "https://localhost:8080/"
        },
        "id": "CFes7H7-T-o6",
        "outputId": "26ef4ba4-343e-4b84-a680-38dd64542d19"
      },
      "source": [
        "from bs4 import BeautifulSoup\n",
        "import nltk\n",
        "from nltk.util import ngrams\n",
        "from nltk.stem import WordNetLemmatizer\n",
        "from nltk.corpus import stopwords, wordnet\n",
        "from nltk.stem import PorterStemmer\n",
        "from nltk import word_tokenize\n",
        "import re\n",
        "import pickle\n",
        "\n",
        "\n",
        "nltk.download('wordnet')\n",
        "nltk.download('stopwords')\n",
        "nltk.download('punkt')"
      ],
      "execution_count": null,
      "outputs": [
        {
          "output_type": "stream",
          "text": [
            "[nltk_data] Downloading package wordnet to /root/nltk_data...\n",
            "[nltk_data]   Unzipping corpora/wordnet.zip.\n",
            "[nltk_data] Downloading package stopwords to /root/nltk_data...\n",
            "[nltk_data]   Unzipping corpora/stopwords.zip.\n",
            "[nltk_data] Downloading package punkt to /root/nltk_data...\n",
            "[nltk_data]   Unzipping tokenizers/punkt.zip.\n"
          ],
          "name": "stdout"
        },
        {
          "output_type": "execute_result",
          "data": {
            "text/plain": [
              "True"
            ]
          },
          "metadata": {
            "tags": []
          },
          "execution_count": 8
        }
      ]
    },
    {
      "cell_type": "code",
      "metadata": {
        "id": "eW0LD8BrYcSe",
        "colab": {
          "base_uri": "https://localhost:8080/",
          "height": 174
        },
        "outputId": "4b79a166-7af9-472e-ab9a-0390e79815fa"
      },
      "source": [
        "#to remove html tags, lemmatisation . etc etc\n",
        "additional_stop_words = []                                                      \n",
        "\n",
        "def text_cleanup(text):  \n",
        "    '''\n",
        "    Text pre-processing\n",
        "        return a sentence of cleaned words\n",
        "    '''\n",
        "    text = str(text)\n",
        "    #remove html tags\n",
        "    text_clean = BeautifulSoup(text, \"lxml\").text\n",
        "\n",
        "    ## Convert to lowercase\n",
        "    text_clean = text_clean.lower()\n",
        "    ##Remove non-alphabet\n",
        "    text_clean = re.sub(r'[^a-zA-Z]|(\\w+:\\/\\/\\S+)',' ', text_clean)\n",
        "\n",
        "    ##spliting into tokens\n",
        "    text_clean = text_clean.split()\n",
        "\n",
        "    ##Remove short words (length < 3)\n",
        "    text_clean = [w for w in text_clean if len(w)>2]\n",
        "\n",
        "    ##Lemmatize text ## alternative is to use stemming\n",
        "    #lemmatizer = WordNetLemmatizer()\n",
        "    #text_clean = [lemmatizer.lemmatize(w) for w in text_clean]\n",
        "    \n",
        "    #ps = PorterStemmer()\n",
        "    #text_clean = [ps.stem(w) for w in text_clean]\n",
        "    \n",
        "    ## Filter out stop words in English \n",
        "    stops = set(stopwords.words('english')).union(additional_stop_words)\n",
        "    text_clean = [w for w in text_clean if w not in stops]\n",
        "    \n",
        "    #joining the list into a sentence\n",
        "    mySeparator = \" \"\n",
        "    text_clean = mySeparator.join(text_clean)\n",
        "\n",
        "\n",
        "    return text_clean\n",
        "\n",
        "txt = r\"This movie is not based on the bible. It completely leaves Christ out of the movie. They do not show the rapture or the second coming of Christ. Let alone talk about it. It does not quote from scriptures. The end times are called the great tribulation. The movie does not even show bad times. The seven bowls, seven viles and seven trumpets of judgements are boiled down to a 15 second news cast of the sea changing it's structure. The anti-Christ was killed 3 1/2 years into the tribulation and that is how the movie ended. The only part they got correct was there was two prophets. The did not use there names of course because that would be too close to the truth of scriptures. The worst part of it was I really wanted it to be a good movie. I wanted to take unsaved people to it. I feel that the movie is evil. It is a counterfeit just like everything the devil does. I just hope it does not take away from the upcoming movie based on the left behind books.<br /><br />The second problem with the movie is it was just bad. Bad acting, bad special effects, bad plot and poor character development. I have seen better episodes of Miami vice.\"\n",
        "print('ORIGINAL','\\n', txt)\n",
        "text_cleanup(txt)"
      ],
      "execution_count": null,
      "outputs": [
        {
          "output_type": "stream",
          "text": [
            "ORIGINAL \n",
            " This movie is not based on the bible. It completely leaves Christ out of the movie. They do not show the rapture or the second coming of Christ. Let alone talk about it. It does not quote from scriptures. The end times are called the great tribulation. The movie does not even show bad times. The seven bowls, seven viles and seven trumpets of judgements are boiled down to a 15 second news cast of the sea changing it's structure. The anti-Christ was killed 3 1/2 years into the tribulation and that is how the movie ended. The only part they got correct was there was two prophets. The did not use there names of course because that would be too close to the truth of scriptures. The worst part of it was I really wanted it to be a good movie. I wanted to take unsaved people to it. I feel that the movie is evil. It is a counterfeit just like everything the devil does. I just hope it does not take away from the upcoming movie based on the left behind books.<br /><br />The second problem with the movie is it was just bad. Bad acting, bad special effects, bad plot and poor character development. I have seen better episodes of Miami vice.\n"
          ],
          "name": "stdout"
        },
        {
          "output_type": "execute_result",
          "data": {
            "application/vnd.google.colaboratory.intrinsic+json": {
              "type": "string"
            },
            "text/plain": [
              "'movie based bible completely leaves christ movie show rapture second coming christ let alone talk quote scriptures end times called great tribulation movie even show bad times seven bowls seven viles seven trumpets judgements boiled second news cast sea changing structure anti christ killed years tribulation movie ended part got correct two prophets use names course would close truth scriptures worst part really wanted good movie wanted take unsaved people feel movie evil counterfeit like everything devil hope take away upcoming movie based left behind books second problem movie bad bad acting bad special effects bad plot poor character development seen better episodes miami vice'"
            ]
          },
          "metadata": {
            "tags": []
          },
          "execution_count": 9
        }
      ]
    },
    {
      "cell_type": "code",
      "metadata": {
        "id": "XKJHT3CKXCP2"
      },
      "source": [
        "X = tdf['title'].fillna('').tolist()\n",
        "X = [str(i) for i in X]\n",
        "y = tdf['label'].fillna('').tolist()\n",
        "\n",
        "RANDOM_STATE = 42\n",
        "\n",
        "X_train, X_test, y_train, y_test = train_test_split(X, y, test_size=0.5, random_state=RANDOM_STATE)\n"
      ],
      "execution_count": null,
      "outputs": []
    },
    {
      "cell_type": "code",
      "metadata": {
        "colab": {
          "base_uri": "https://localhost:8080/",
          "height": 115,
          "referenced_widgets": [
            "30a88164665e4dd8b44e5878d01c6d26",
            "841750a1e6b14bedb87b3a4fd9311a8c",
            "6669e116e1bf4108ae78af9f93f36bbc",
            "41cf94f8817e469493f6529f27a73c96",
            "70035834001d4056bc1cdeb02ace715b",
            "9859de8109cf46eea575f86005e73d40",
            "2bf4058adb6e4c0b9b6c8d5db961474e",
            "8ba0025037c04694b62ada4b757b3f59",
            "e83df94d7ef746c4b79b05495a63001b",
            "4f928a8b859146759cdff8499e0403a8",
            "2f17c5e13f574fd19051b6aa98a2054e",
            "6e18588616b641b0a22eb5a2e8654269",
            "ae6921d56ca741099fcd67170b8b5af4",
            "182b642065da4dceb26c26107ff4d310",
            "88a7d23dc2304c92a74fff04c5a4325e",
            "cbf94fe2efd842c88402ee4121758823"
          ]
        },
        "id": "ojmCDcRVUI37",
        "outputId": "95382dd9-51d1-4a58-cdef-cbbf3659d00f"
      },
      "source": [
        "from tqdm.notebook import tqdm\n",
        "#for text preprocessing #you can run without doing so\n",
        "\n",
        "#doing list comprehension\n",
        "X_train = [text_cleanup(txt) for txt in tqdm(X_train)]\n",
        "X_test = [text_cleanup(txt) for txt in tqdm(X_test)]"
      ],
      "execution_count": null,
      "outputs": [
        {
          "output_type": "display_data",
          "data": {
            "application/vnd.jupyter.widget-view+json": {
              "model_id": "30a88164665e4dd8b44e5878d01c6d26",
              "version_minor": 0,
              "version_major": 2
            },
            "text/plain": [
              "HBox(children=(FloatProgress(value=0.0, max=1749.0), HTML(value='')))"
            ]
          },
          "metadata": {
            "tags": []
          }
        },
        {
          "output_type": "stream",
          "text": [
            "\n"
          ],
          "name": "stdout"
        },
        {
          "output_type": "display_data",
          "data": {
            "application/vnd.jupyter.widget-view+json": {
              "model_id": "e83df94d7ef746c4b79b05495a63001b",
              "version_minor": 0,
              "version_major": 2
            },
            "text/plain": [
              "HBox(children=(FloatProgress(value=0.0, max=1750.0), HTML(value='')))"
            ]
          },
          "metadata": {
            "tags": []
          }
        },
        {
          "output_type": "stream",
          "text": [
            "\n"
          ],
          "name": "stdout"
        }
      ]
    },
    {
      "cell_type": "code",
      "metadata": {
        "id": "HCOYTquLWjYR"
      },
      "source": [
        "#vectorising\n",
        "#do use tfidf if you think it helps\n",
        "#if need be, can try to use word embeddings\n",
        "\n",
        "from sklearn.feature_extraction.text import CountVectorizer\n",
        "\n",
        "count_vect = CountVectorizer() \n",
        "X_train = count_vect.fit_transform(X_train)\n",
        "X_test = count_vect.transform(X_test)\n"
      ],
      "execution_count": null,
      "outputs": []
    },
    {
      "cell_type": "code",
      "metadata": {
        "id": "LBDqldQbW0CD"
      },
      "source": [
        "#confusion matrix\n",
        "import seaborn as sns\n",
        "import matplotlib.pyplot as plt\n",
        "from matplotlib import rc\n",
        "\n",
        "def show_confusion_matrix(confusion_matrix):\n",
        "  hmap = sns.heatmap(confusion_matrix, annot=True, fmt=\"d\", cmap=\"Blues\")\n",
        "  hmap.yaxis.set_ticklabels(hmap.yaxis.get_ticklabels(), rotation=0, ha='right')\n",
        "  hmap.xaxis.set_ticklabels(hmap.xaxis.get_ticklabels(), rotation=30, ha='right')\n",
        "  plt.ylabel('Truth')\n",
        "  plt.xlabel('Predicted');"
      ],
      "execution_count": null,
      "outputs": []
    },
    {
      "cell_type": "markdown",
      "metadata": {
        "id": "Pd30lTtjYWrx"
      },
      "source": [
        "Model training"
      ]
    },
    {
      "cell_type": "code",
      "metadata": {
        "id": "Ib7CbVnaXBuK"
      },
      "source": [
        "from sklearn.naive_bayes import MultinomialNB\n",
        "from sklearn.metrics import confusion_matrix, classification_report"
      ],
      "execution_count": null,
      "outputs": []
    },
    {
      "cell_type": "code",
      "metadata": {
        "colab": {
          "base_uri": "https://localhost:8080/"
        },
        "id": "MYU6S8hpUFtq",
        "outputId": "c918428c-85d6-4f11-cc3e-757ba7a66c93"
      },
      "source": [
        "# fitting naive bayes to the training set \n",
        " \n",
        "model = MultinomialNB()\n",
        "%time model.fit(X_train, y_train) \n",
        "  \n",
        "# predicting test set results \n",
        "y_pred = model.predict(X_test) \n",
        "  \n",
        "print(classification_report(y_test, y_pred))"
      ],
      "execution_count": null,
      "outputs": [
        {
          "output_type": "stream",
          "text": [
            "CPU times: user 9.64 ms, sys: 3 ms, total: 12.6 ms\n",
            "Wall time: 18.5 ms\n",
            "              precision    recall  f1-score   support\n",
            "\n",
            "           0       0.33      0.59      0.43        46\n",
            "           1       0.20      0.24      0.21        51\n",
            "           2       0.56      0.62      0.59        58\n",
            "           3       0.23      0.48      0.31        48\n",
            "           4       0.38      0.31      0.34        54\n",
            "           5       0.59      0.32      0.41        53\n",
            "           6       0.45      0.25      0.32        53\n",
            "           7       0.28      0.57      0.37        44\n",
            "           8       0.30      0.34      0.32        50\n",
            "           9       0.51      0.75      0.61        48\n",
            "          10       0.41      0.33      0.36        55\n",
            "          11       0.42      0.35      0.38        49\n",
            "          12       0.44      0.55      0.49        51\n",
            "          13       0.44      0.42      0.43        50\n",
            "          14       0.48      0.25      0.33        56\n",
            "          15       0.38      0.50      0.43        50\n",
            "          16       0.30      0.36      0.33        50\n",
            "          17       0.46      0.31      0.37        54\n",
            "          18       0.42      0.36      0.39        53\n",
            "          19       0.29      0.52      0.38        46\n",
            "          20       0.22      0.28      0.24        47\n",
            "          21       0.36      0.49      0.41        47\n",
            "          22       0.65      0.45      0.53        53\n",
            "          23       0.45      0.47      0.46        38\n",
            "          24       0.80      0.20      0.32        61\n",
            "          25       0.74      0.78      0.76        50\n",
            "          26       0.80      0.78      0.79        51\n",
            "          27       0.34      0.25      0.29        44\n",
            "          28       0.49      0.56      0.52        50\n",
            "          29       0.74      0.63      0.68        49\n",
            "          30       0.43      0.32      0.37        47\n",
            "          31       0.17      0.14      0.15        44\n",
            "          32       0.32      0.22      0.26        50\n",
            "          33       0.64      0.16      0.26        56\n",
            "          34       0.64      0.64      0.64        44\n",
            "\n",
            "    accuracy                           0.42      1750\n",
            "   macro avg       0.45      0.42      0.41      1750\n",
            "weighted avg       0.45      0.42      0.41      1750\n",
            "\n"
          ],
          "name": "stdout"
        }
      ]
    },
    {
      "cell_type": "code",
      "metadata": {
        "id": "6q58N1KDY7XP",
        "colab": {
          "base_uri": "https://localhost:8080/",
          "height": 284
        },
        "outputId": "cff087bd-4df4-405d-b67f-d4923c79995c"
      },
      "source": [
        "cm = confusion_matrix(y_test, y_pred)\n",
        "df_cm = pd.DataFrame(cm)\n",
        "show_confusion_matrix(df_cm)"
      ],
      "execution_count": null,
      "outputs": [
        {
          "output_type": "display_data",
          "data": {
            "image/png": "[encoded data removed]",
            "text/plain": [
              "<Figure size 432x288 with 2 Axes>"
            ]
          },
          "metadata": {
            "tags": [],
            "needs_background": "light"
          }
        }
      ]
    },
    {
      "cell_type": "code",
      "metadata": {
        "id": "Rv-1kZ8MXsw-"
      },
      "source": [
        "filename = '/content/gdrive/My Drive/covid_mining/NB_topic_class_model.h5'\n",
        "pickle.dump(model, open(filename, 'wb'))"
      ],
      "execution_count": null,
      "outputs": []
    },
    {
      "cell_type": "markdown",
      "metadata": {
        "id": "-LVJAIGHY4pb"
      },
      "source": [
        "dataset *labelling* with classifier"
      ]
    },
    {
      "cell_type": "code",
      "metadata": {
        "id": "VtjpYTyUZ3Ua"
      },
      "source": [
        "def label_text(text,model,vect):\n",
        "    text = vect.transform([text])\n",
        "    return model.predict(text).flatten()[0]\n",
        "\n",
        "def label_prob(text,model,vect):\n",
        "    text = vect.transform([text])\n",
        "    return model.predict_proba(text).flatten()"
      ],
      "execution_count": null,
      "outputs": []
    },
    {
      "cell_type": "code",
      "metadata": {
        "id": "7x9elbxrZxeH",
        "colab": {
          "base_uri": "https://localhost:8080/",
          "height": 618,
          "referenced_widgets": [
            "2e2cd0ee07cf4ea9ae6255f884dcd8ee",
            "57055bb4ffb64c589c2ef9dac287240b",
            "0b6cd7797d9742f795da115b58a3743f",
            "653a5decf3f54ddb8c2327cd2ec676ba",
            "e1860d70e6414ffe893ad97c5c992278",
            "1ec0db2f787b4df08818c5c493504091",
            "2394a2ee7cf5439091bdd3313f43d767",
            "9c76a6878a4f488587b38278c17811d8"
          ]
        },
        "outputId": "6618caea-8fba-46b3-a79e-084f26e792a2"
      },
      "source": [
        "tqdm.pandas()\n",
        "\n",
        "news_df = pd.read_csv('/content/gdrive/My Drive/covid_mining/covid19_articles_20200914.csv').drop(['Unnamed: 0'],axis=1)\n",
        "news_df['predicted']  = news_df['title'].progress_apply(lambda x: label_text(x,model,count_vect))\n",
        "news_df"
      ],
      "execution_count": null,
      "outputs": [
        {
          "output_type": "display_data",
          "data": {
            "application/vnd.jupyter.widget-view+json": {
              "model_id": "2e2cd0ee07cf4ea9ae6255f884dcd8ee",
              "version_minor": 0,
              "version_major": 2
            },
            "text/plain": [
              "HBox(children=(FloatProgress(value=0.0, max=290479.0), HTML(value='')))"
            ]
          },
          "metadata": {
            "tags": []
          }
        },
        {
          "output_type": "stream",
          "text": [
            "\n"
          ],
          "name": "stdout"
        },
        {
          "output_type": "execute_result",
          "data": {
            "text/html": [
              "<div>\n",
              "<style scoped>\n",
              "    .dataframe tbody tr th:only-of-type {\n",
              "        vertical-align: middle;\n",
              "    }\n",
              "\n",
              "    .dataframe tbody tr th {\n",
              "        vertical-align: top;\n",
              "    }\n",
              "\n",
              "    .dataframe thead th {\n",
              "        text-align: right;\n",
              "    }\n",
              "</style>\n",
              "<table border=\"1\" class=\"dataframe\">\n",
              "  <thead>\n",
              "    <tr style=\"text-align: right;\">\n",
              "      <th></th>\n",
              "      <th>title</th>\n",
              "      <th>url</th>\n",
              "      <th>crawled_time</th>\n",
              "      <th>date</th>\n",
              "      <th>domain</th>\n",
              "      <th>author</th>\n",
              "      <th>content</th>\n",
              "      <th>topic_area</th>\n",
              "      <th>predicted</th>\n",
              "    </tr>\n",
              "  </thead>\n",
              "  <tbody>\n",
              "    <tr>\n",
              "      <th>0</th>\n",
              "      <td>Three Industrial Giants You Should Own In 2020</td>\n",
              "      <td>https://www.marketbeat.com/originals/three-ind...</td>\n",
              "      <td>2020-05-19</td>\n",
              "      <td>2020-01-02</td>\n",
              "      <td>marketbeat</td>\n",
              "      <td>Thomas Hughes</td>\n",
              "      <td>Posted on Thursday, January 2nd, 2020 by Thoma...</td>\n",
              "      <td>business</td>\n",
              "      <td>4</td>\n",
              "    </tr>\n",
              "    <tr>\n",
              "      <th>1</th>\n",
              "      <td>Tesla (TSLA) Breaks Shipment Record, Beats Est...</td>\n",
              "      <td>https://www.marketbeat.com/originals/teal-brea...</td>\n",
              "      <td>2020-05-19</td>\n",
              "      <td>2020-01-03</td>\n",
              "      <td>marketbeat</td>\n",
              "      <td>Steve Anderson</td>\n",
              "      <td>It could be forgiven, that some might think th...</td>\n",
              "      <td>business</td>\n",
              "      <td>4</td>\n",
              "    </tr>\n",
              "    <tr>\n",
              "      <th>2</th>\n",
              "      <td>Labor Stocks Are Going To Break Out In 2020</td>\n",
              "      <td>https://www.marketbeat.com/originals/labor-sto...</td>\n",
              "      <td>2020-05-19</td>\n",
              "      <td>2020-01-03</td>\n",
              "      <td>marketbeat</td>\n",
              "      <td>Thomas Hughes</td>\n",
              "      <td>Posted on Friday, January 3rd, 2020 by Thomas ...</td>\n",
              "      <td>business</td>\n",
              "      <td>7</td>\n",
              "    </tr>\n",
              "    <tr>\n",
              "      <th>3</th>\n",
              "      <td>Cal-Maine Just Shed 12% - But Is Now The Time ...</td>\n",
              "      <td>https://www.marketbeat.com/originals/cal-maine...</td>\n",
              "      <td>2020-05-19</td>\n",
              "      <td>2020-01-06</td>\n",
              "      <td>marketbeat</td>\n",
              "      <td>Thomas Hughes</td>\n",
              "      <td>Posted on Monday, January 6th, 2020 by Thomas ...</td>\n",
              "      <td>business</td>\n",
              "      <td>1</td>\n",
              "    </tr>\n",
              "    <tr>\n",
              "      <th>4</th>\n",
              "      <td>China pneumonia outbreak: It's not SARS, so wh...</td>\n",
              "      <td>https://www.edition.cnn.com/2020/01/06/health/...</td>\n",
              "      <td>2020-06-22</td>\n",
              "      <td>2020-01-06</td>\n",
              "      <td>edition.cnn</td>\n",
              "      <td>Nectar Gan, CNN</td>\n",
              "      <td>A total of 59 cases of unknown viral pneumonia...</td>\n",
              "      <td>business</td>\n",
              "      <td>12</td>\n",
              "    </tr>\n",
              "    <tr>\n",
              "      <th>...</th>\n",
              "      <td>...</td>\n",
              "      <td>...</td>\n",
              "      <td>...</td>\n",
              "      <td>...</td>\n",
              "      <td>...</td>\n",
              "      <td>...</td>\n",
              "      <td>...</td>\n",
              "      <td>...</td>\n",
              "      <td>...</td>\n",
              "    </tr>\n",
              "    <tr>\n",
              "      <th>290474</th>\n",
              "      <td>Trump signs new, expanded executive order to l...</td>\n",
              "      <td>https://finance.yahoo.com/news/trump-signs-exp...</td>\n",
              "      <td>2020-09-14</td>\n",
              "      <td>2020-09-14</td>\n",
              "      <td>finance.yahoo</td>\n",
              "      <td>NaN</td>\n",
              "      <td>WASHINGTON (Reuters) - President Donald Trump ...</td>\n",
              "      <td>business</td>\n",
              "      <td>4</td>\n",
              "    </tr>\n",
              "    <tr>\n",
              "      <th>290475</th>\n",
              "      <td>Nuggets force Game 7 and D'Antoni leaves HOU</td>\n",
              "      <td>https://finance.yahoo.com/news/nuggets-force-g...</td>\n",
              "      <td>2020-09-14</td>\n",
              "      <td>2020-09-14</td>\n",
              "      <td>finance.yahoo</td>\n",
              "      <td>NaN</td>\n",
              "      <td>After the Lakers knocked out the Rockets in fi...</td>\n",
              "      <td>business</td>\n",
              "      <td>4</td>\n",
              "    </tr>\n",
              "    <tr>\n",
              "      <th>290476</th>\n",
              "      <td>Health Official Out To Manipulate CDC Reports ...</td>\n",
              "      <td>https://finance.yahoo.com/news/michael-caputo-...</td>\n",
              "      <td>2020-09-14</td>\n",
              "      <td>2020-09-14</td>\n",
              "      <td>finance.yahoo</td>\n",
              "      <td>NaN</td>\n",
              "      <td>The Health and Human Services official who has...</td>\n",
              "      <td>business</td>\n",
              "      <td>9</td>\n",
              "    </tr>\n",
              "    <tr>\n",
              "      <th>290477</th>\n",
              "      <td>Global Markets: Asian shares buoyed by coronav...</td>\n",
              "      <td>https://finance.yahoo.com/news/global-markets-...</td>\n",
              "      <td>2020-09-14</td>\n",
              "      <td>2020-09-14</td>\n",
              "      <td>finance.yahoo</td>\n",
              "      <td>NaN</td>\n",
              "      <td>By Swati Pandey SYDNEY (Reuters) - Asian share...</td>\n",
              "      <td>business</td>\n",
              "      <td>4</td>\n",
              "    </tr>\n",
              "    <tr>\n",
              "      <th>290478</th>\n",
              "      <td>Japan’s Suga Wins Ruling Party Race to Replace...</td>\n",
              "      <td>https://uk.finance.yahoo.com/news/japan-suga-s...</td>\n",
              "      <td>2020-09-14</td>\n",
              "      <td>2020-09-14</td>\n",
              "      <td>finance.yahoo</td>\n",
              "      <td>NaN</td>\n",
              "      <td>(Bloomberg) -- Japanese Chief Cabinet Secretar...</td>\n",
              "      <td>business</td>\n",
              "      <td>1</td>\n",
              "    </tr>\n",
              "  </tbody>\n",
              "</table>\n",
              "<p>290479 rows × 9 columns</p>\n",
              "</div>"
            ],
            "text/plain": [
              "                                                    title  ... predicted\n",
              "0          Three Industrial Giants You Should Own In 2020  ...         4\n",
              "1       Tesla (TSLA) Breaks Shipment Record, Beats Est...  ...         4\n",
              "2             Labor Stocks Are Going To Break Out In 2020  ...         7\n",
              "3       Cal-Maine Just Shed 12% - But Is Now The Time ...  ...         1\n",
              "4       China pneumonia outbreak: It's not SARS, so wh...  ...        12\n",
              "...                                                   ...  ...       ...\n",
              "290474  Trump signs new, expanded executive order to l...  ...         4\n",
              "290475       Nuggets force Game 7 and D'Antoni leaves HOU  ...         4\n",
              "290476  Health Official Out To Manipulate CDC Reports ...  ...         9\n",
              "290477  Global Markets: Asian shares buoyed by coronav...  ...         4\n",
              "290478  Japan’s Suga Wins Ruling Party Race to Replace...  ...         1\n",
              "\n",
              "[290479 rows x 9 columns]"
            ]
          },
          "metadata": {
            "tags": []
          },
          "execution_count": 27
        }
      ]
    },
    {
      "cell_type": "code",
      "metadata": {
        "colab": {
          "base_uri": "https://localhost:8080/",
          "height": 66,
          "referenced_widgets": [
            "dcbfe3c3e1b04e889f846bc6f2aca178",
            "343523497cb94e0abf4c31671ea7de7f",
            "dd0600bb520d45a184ed935f8a5d9262",
            "7d5f74f5a1054ebd8bb981e6ed4b26cf",
            "ecfa8c5c050544c19439f20fac4c4fff",
            "f3c5091a527548499ab8e28aa52213c4",
            "a37578cd52274a3ba782bab8531e2beb",
            "e55aecfaf45e410caa71526d301462f4"
          ]
        },
        "id": "lfXvySJVaG8q",
        "outputId": "20ff7bc0-28bb-4752-c7ea-5c29f964629b"
      },
      "source": [
        "news_df['predicted_probability']  = news_df['title'].progress_apply(lambda x: label_prob(x,model,count_vect))\n"
      ],
      "execution_count": null,
      "outputs": [
        {
          "output_type": "display_data",
          "data": {
            "application/vnd.jupyter.widget-view+json": {
              "model_id": "dcbfe3c3e1b04e889f846bc6f2aca178",
              "version_minor": 0,
              "version_major": 2
            },
            "text/plain": [
              "HBox(children=(FloatProgress(value=0.0, max=290479.0), HTML(value='')))"
            ]
          },
          "metadata": {
            "tags": []
          }
        },
        {
          "output_type": "stream",
          "text": [
            "\n"
          ],
          "name": "stdout"
        }
      ]
    },
    {
      "cell_type": "code",
      "metadata": {
        "colab": {
          "base_uri": "https://localhost:8080/",
          "height": 462
        },
        "id": "b1JnXuARbjkz",
        "outputId": "a0438d87-949e-458b-9bd9-f3e3bf05cc05"
      },
      "source": [
        "#attaching label\n",
        "path = '/content/gdrive/MyDrive/covid_mining/Selected/topic_classification.xlsx' #this is from our topic models\n",
        "df = pd.read_excel(path)\n",
        "tdf = df[['topic number','topic name']].drop_duplicates()\n",
        "tdf.columns = ['predicted','topic_label']\n",
        "tdf"
      ],
      "execution_count": null,
      "outputs": [
        {
          "output_type": "execute_result",
          "data": {
            "text/html": [
              "<div>\n",
              "<style scoped>\n",
              "    .dataframe tbody tr th:only-of-type {\n",
              "        vertical-align: middle;\n",
              "    }\n",
              "\n",
              "    .dataframe tbody tr th {\n",
              "        vertical-align: top;\n",
              "    }\n",
              "\n",
              "    .dataframe thead th {\n",
              "        text-align: right;\n",
              "    }\n",
              "</style>\n",
              "<table border=\"1\" class=\"dataframe\">\n",
              "  <thead>\n",
              "    <tr style=\"text-align: right;\">\n",
              "      <th></th>\n",
              "      <th>predicted</th>\n",
              "      <th>topic_label</th>\n",
              "    </tr>\n",
              "  </thead>\n",
              "  <tbody>\n",
              "    <tr>\n",
              "      <th>0</th>\n",
              "      <td>0</td>\n",
              "      <td>oil price and coronavirus update</td>\n",
              "    </tr>\n",
              "    <tr>\n",
              "      <th>100</th>\n",
              "      <td>1</td>\n",
              "      <td>stock market,face masks and</td>\n",
              "    </tr>\n",
              "    <tr>\n",
              "      <th>200</th>\n",
              "      <td>2</td>\n",
              "      <td>Due to covid crisis,people began to work from ...</td>\n",
              "    </tr>\n",
              "    <tr>\n",
              "      <th>300</th>\n",
              "      <td>3</td>\n",
              "      <td>hedge fund</td>\n",
              "    </tr>\n",
              "    <tr>\n",
              "      <th>400</th>\n",
              "      <td>4</td>\n",
              "      <td>economic recovery and  the test of Trump's sta...</td>\n",
              "    </tr>\n",
              "    <tr>\n",
              "      <th>500</th>\n",
              "      <td>5</td>\n",
              "      <td>financial statement</td>\n",
              "    </tr>\n",
              "    <tr>\n",
              "      <th>600</th>\n",
              "      <td>6</td>\n",
              "      <td>New York Stock Exchange and gold price</td>\n",
              "    </tr>\n",
              "    <tr>\n",
              "      <th>700</th>\n",
              "      <td>7</td>\n",
              "      <td>the impact of the virus on Hong Kong</td>\n",
              "    </tr>\n",
              "    <tr>\n",
              "      <th>800</th>\n",
              "      <td>8</td>\n",
              "      <td>white house, clinical trial and jobless claims...</td>\n",
              "    </tr>\n",
              "    <tr>\n",
              "      <th>900</th>\n",
              "      <td>9</td>\n",
              "      <td>the impact of covid vaccine on Asia stock and ...</td>\n",
              "    </tr>\n",
              "    <tr>\n",
              "      <th>1000</th>\n",
              "      <td>10</td>\n",
              "      <td>general meeting</td>\n",
              "    </tr>\n",
              "    <tr>\n",
              "      <th>1100</th>\n",
              "      <td>11</td>\n",
              "      <td>american airline and coronavirus update</td>\n",
              "    </tr>\n",
              "    <tr>\n",
              "      <th>1200</th>\n",
              "      <td>12</td>\n",
              "      <td>conference call</td>\n",
              "    </tr>\n",
              "    <tr>\n",
              "      <th>1300</th>\n",
              "      <td>13</td>\n",
              "      <td>financial condition and management discussion</td>\n",
              "    </tr>\n",
              "  </tbody>\n",
              "</table>\n",
              "</div>"
            ],
            "text/plain": [
              "      predicted                                        topic_label\n",
              "0             0                   oil price and coronavirus update\n",
              "100           1                       stock market,face masks and \n",
              "200           2  Due to covid crisis,people began to work from ...\n",
              "300           3                                         hedge fund\n",
              "400           4  economic recovery and  the test of Trump's sta...\n",
              "500           5                                financial statement\n",
              "600           6             New York Stock Exchange and gold price\n",
              "700           7               the impact of the virus on Hong Kong\n",
              "800           8  white house, clinical trial and jobless claims...\n",
              "900           9  the impact of covid vaccine on Asia stock and ...\n",
              "1000         10                                    general meeting\n",
              "1100         11            american airline and coronavirus update\n",
              "1200         12                                    conference call\n",
              "1300         13      financial condition and management discussion"
            ]
          },
          "metadata": {
            "tags": []
          },
          "execution_count": 29
        }
      ]
    },
    {
      "cell_type": "code",
      "metadata": {
        "id": "bbI7uSXkcKA4"
      },
      "source": [
        "dd = pd.merge(news_df,tdf,on='predicted')"
      ],
      "execution_count": null,
      "outputs": []
    },
    {
      "cell_type": "code",
      "metadata": {
        "colab": {
          "base_uri": "https://localhost:8080/"
        },
        "id": "mNA8mPYCR2fG",
        "outputId": "edf9f100-9168-4b2b-f828-4c90079edf81"
      },
      "source": [
        "dd.predicted.value_counts()"
      ],
      "execution_count": null,
      "outputs": [
        {
          "output_type": "execute_result",
          "data": {
            "text/plain": [
              "0     35460\n",
              "4     33143\n",
              "11    32997\n",
              "1     31176\n",
              "2     23562\n",
              "6     22109\n",
              "10    19446\n",
              "13    16377\n",
              "8     15252\n",
              "3     13673\n",
              "12    13606\n",
              "7     13049\n",
              "5     11078\n",
              "9      9551\n",
              "Name: predicted, dtype: int64"
            ]
          },
          "metadata": {
            "tags": []
          },
          "execution_count": 31
        }
      ]
    },
    {
      "cell_type": "code",
      "metadata": {
        "id": "Yz7ZT1xhcxOb"
      },
      "source": [
        "#exporting to csv\n",
        "pd.merge(news_df,tdf,on='predicted').to_csv('/content/gdrive/MyDrive/covid_mining/Selected/topic_labelled.csv')"
      ],
      "execution_count": null,
      "outputs": []
    }
  ]
}