{
  "nbformat": 4,
  "nbformat_minor": 0,
  "metadata": {
    "colab": {
      "name": "sentiment_analysis_binary_classification.ipynb",
      "provenance": [],
      "collapsed_sections": [
        "UB8aOxBVjRUf"
      ],
      "include_colab_link": true
    },
    "kernelspec": {
      "display_name": "Python 3",
      "name": "python3"
    },
    "widgets": {
      "application/vnd.jupyter.widget-state+json": {
        "393066f1064140edbfb0bc29c470c39f": {
          "model_module": "@jupyter-widgets/controls",
          "model_name": "HBoxModel",
          "state": {
            "_view_name": "HBoxView",
            "_dom_classes": [],
            "_model_name": "HBoxModel",
            "_view_module": "@jupyter-widgets/controls",
            "_model_module_version": "1.5.0",
            "_view_count": null,
            "_view_module_version": "1.5.0",
            "box_style": "",
            "layout": "IPY_MODEL_62288e99ab584ded901e70b7c6821d3a",
            "_model_module": "@jupyter-widgets/controls",
            "children": [
              "IPY_MODEL_6c0b6407928d40c189b2ff579b53e5e8",
              "IPY_MODEL_290f0d9e226e4743a9541f61441563ea"
            ]
          }
        },
        "62288e99ab584ded901e70b7c6821d3a": {
          "model_module": "@jupyter-widgets/base",
          "model_name": "LayoutModel",
          "state": {
            "_view_name": "LayoutView",
            "grid_template_rows": null,
            "right": null,
            "justify_content": null,
            "_view_module": "@jupyter-widgets/base",
            "overflow": null,
            "_model_module_version": "1.2.0",
            "_view_count": null,
            "flex_flow": null,
            "width": null,
            "min_width": null,
            "border": null,
            "align_items": null,
            "bottom": null,
            "_model_module": "@jupyter-widgets/base",
            "top": null,
            "grid_column": null,
            "overflow_y": null,
            "overflow_x": null,
            "grid_auto_flow": null,
            "grid_area": null,
            "grid_template_columns": null,
            "flex": null,
            "_model_name": "LayoutModel",
            "justify_items": null,
            "grid_row": null,
            "max_height": null,
            "align_content": null,
            "visibility": null,
            "align_self": null,
            "height": null,
            "min_height": null,
            "padding": null,
            "grid_auto_rows": null,
            "grid_gap": null,
            "max_width": null,
            "order": null,
            "_view_module_version": "1.2.0",
            "grid_template_areas": null,
            "object_position": null,
            "object_fit": null,
            "grid_auto_columns": null,
            "margin": null,
            "display": null,
            "left": null
          }
        },
        "6c0b6407928d40c189b2ff579b53e5e8": {
          "model_module": "@jupyter-widgets/controls",
          "model_name": "FloatProgressModel",
          "state": {
            "_view_name": "ProgressView",
            "style": "IPY_MODEL_6c592b8a84a749b9a486deb0ddbe5f4a",
            "_dom_classes": [],
            "description": "100%",
            "_model_name": "FloatProgressModel",
            "bar_style": "success",
            "max": 25000,
            "_view_module": "@jupyter-widgets/controls",
            "_model_module_version": "1.5.0",
            "value": 25000,
            "_view_count": null,
            "_view_module_version": "1.5.0",
            "orientation": "horizontal",
            "min": 0,
            "description_tooltip": null,
            "_model_module": "@jupyter-widgets/controls",
            "layout": "IPY_MODEL_ec4cc2642123408b8e97ae47afe00abd"
          }
        },
        "290f0d9e226e4743a9541f61441563ea": {
          "model_module": "@jupyter-widgets/controls",
          "model_name": "HTMLModel",
          "state": {
            "_view_name": "HTMLView",
            "style": "IPY_MODEL_02d2121f584f401d8731da21bf71e5b8",
            "_dom_classes": [],
            "description": "",
            "_model_name": "HTMLModel",
            "placeholder": "​",
            "_view_module": "@jupyter-widgets/controls",
            "_model_module_version": "1.5.0",
            "value": " 25000/25000 [00:55&lt;00:00, 447.50it/s]",
            "_view_count": null,
            "_view_module_version": "1.5.0",
            "description_tooltip": null,
            "_model_module": "@jupyter-widgets/controls",
            "layout": "IPY_MODEL_91669e20e20b40d0a8634c4297ad6685"
          }
        },
        "6c592b8a84a749b9a486deb0ddbe5f4a": {
          "model_module": "@jupyter-widgets/controls",
          "model_name": "ProgressStyleModel",
          "state": {
            "_view_name": "StyleView",
            "_model_name": "ProgressStyleModel",
            "description_width": "initial",
            "_view_module": "@jupyter-widgets/base",
            "_model_module_version": "1.5.0",
            "_view_count": null,
            "_view_module_version": "1.2.0",
            "bar_color": null,
            "_model_module": "@jupyter-widgets/controls"
          }
        },
        "ec4cc2642123408b8e97ae47afe00abd": {
          "model_module": "@jupyter-widgets/base",
          "model_name": "LayoutModel",
          "state": {
            "_view_name": "LayoutView",
            "grid_template_rows": null,
            "right": null,
            "justify_content": null,
            "_view_module": "@jupyter-widgets/base",
            "overflow": null,
            "_model_module_version": "1.2.0",
            "_view_count": null,
            "flex_flow": null,
            "width": null,
            "min_width": null,
            "border": null,
            "align_items": null,
            "bottom": null,
            "_model_module": "@jupyter-widgets/base",
            "top": null,
            "grid_column": null,
            "overflow_y": null,
            "overflow_x": null,
            "grid_auto_flow": null,
            "grid_area": null,
            "grid_template_columns": null,
            "flex": null,
            "_model_name": "LayoutModel",
            "justify_items": null,
            "grid_row": null,
            "max_height": null,
            "align_content": null,
            "visibility": null,
            "align_self": null,
            "height": null,
            "min_height": null,
            "padding": null,
            "grid_auto_rows": null,
            "grid_gap": null,
            "max_width": null,
            "order": null,
            "_view_module_version": "1.2.0",
            "grid_template_areas": null,
            "object_position": null,
            "object_fit": null,
            "grid_auto_columns": null,
            "margin": null,
            "display": null,
            "left": null
          }
        },
        "02d2121f584f401d8731da21bf71e5b8": {
          "model_module": "@jupyter-widgets/controls",
          "model_name": "DescriptionStyleModel",
          "state": {
            "_view_name": "StyleView",
            "_model_name": "DescriptionStyleModel",
            "description_width": "",
            "_view_module": "@jupyter-widgets/base",
            "_model_module_version": "1.5.0",
            "_view_count": null,
            "_view_module_version": "1.2.0",
            "_model_module": "@jupyter-widgets/controls"
          }
        },
        "91669e20e20b40d0a8634c4297ad6685": {
          "model_module": "@jupyter-widgets/base",
          "model_name": "LayoutModel",
          "state": {
            "_view_name": "LayoutView",
            "grid_template_rows": null,
            "right": null,
            "justify_content": null,
            "_view_module": "@jupyter-widgets/base",
            "overflow": null,
            "_model_module_version": "1.2.0",
            "_view_count": null,
            "flex_flow": null,
            "width": null,
            "min_width": null,
            "border": null,
            "align_items": null,
            "bottom": null,
            "_model_module": "@jupyter-widgets/base",
            "top": null,
            "grid_column": null,
            "overflow_y": null,
            "overflow_x": null,
            "grid_auto_flow": null,
            "grid_area": null,
            "grid_template_columns": null,
            "flex": null,
            "_model_name": "LayoutModel",
            "justify_items": null,
            "grid_row": null,
            "max_height": null,
            "align_content": null,
            "visibility": null,
            "align_self": null,
            "height": null,
            "min_height": null,
            "padding": null,
            "grid_auto_rows": null,
            "grid_gap": null,
            "max_width": null,
            "order": null,
            "_view_module_version": "1.2.0",
            "grid_template_areas": null,
            "object_position": null,
            "object_fit": null,
            "grid_auto_columns": null,
            "margin": null,
            "display": null,
            "left": null
          }
        },
        "658f7e1350344e758b65fca297fdbc83": {
          "model_module": "@jupyter-widgets/controls",
          "model_name": "HBoxModel",
          "state": {
            "_view_name": "HBoxView",
            "_dom_classes": [],
            "_model_name": "HBoxModel",
            "_view_module": "@jupyter-widgets/controls",
            "_model_module_version": "1.5.0",
            "_view_count": null,
            "_view_module_version": "1.5.0",
            "box_style": "",
            "layout": "IPY_MODEL_5fc29b362c214e4a899b823fb8554da7",
            "_model_module": "@jupyter-widgets/controls",
            "children": [
              "IPY_MODEL_08f36d5281cc42c093a6ad4a469f2088",
              "IPY_MODEL_31b006d730d64c618394f08287324bf6"
            ]
          }
        },
        "5fc29b362c214e4a899b823fb8554da7": {
          "model_module": "@jupyter-widgets/base",
          "model_name": "LayoutModel",
          "state": {
            "_view_name": "LayoutView",
            "grid_template_rows": null,
            "right": null,
            "justify_content": null,
            "_view_module": "@jupyter-widgets/base",
            "overflow": null,
            "_model_module_version": "1.2.0",
            "_view_count": null,
            "flex_flow": null,
            "width": null,
            "min_width": null,
            "border": null,
            "align_items": null,
            "bottom": null,
            "_model_module": "@jupyter-widgets/base",
            "top": null,
            "grid_column": null,
            "overflow_y": null,
            "overflow_x": null,
            "grid_auto_flow": null,
            "grid_area": null,
            "grid_template_columns": null,
            "flex": null,
            "_model_name": "LayoutModel",
            "justify_items": null,
            "grid_row": null,
            "max_height": null,
            "align_content": null,
            "visibility": null,
            "align_self": null,
            "height": null,
            "min_height": null,
            "padding": null,
            "grid_auto_rows": null,
            "grid_gap": null,
            "max_width": null,
            "order": null,
            "_view_module_version": "1.2.0",
            "grid_template_areas": null,
            "object_position": null,
            "object_fit": null,
            "grid_auto_columns": null,
            "margin": null,
            "display": null,
            "left": null
          }
        },
        "08f36d5281cc42c093a6ad4a469f2088": {
          "model_module": "@jupyter-widgets/controls",
          "model_name": "FloatProgressModel",
          "state": {
            "_view_name": "ProgressView",
            "style": "IPY_MODEL_3c499d23d35f4e0fbbaac54ea9195144",
            "_dom_classes": [],
            "description": "100%",
            "_model_name": "FloatProgressModel",
            "bar_style": "success",
            "max": 25000,
            "_view_module": "@jupyter-widgets/controls",
            "_model_module_version": "1.5.0",
            "value": 25000,
            "_view_count": null,
            "_view_module_version": "1.5.0",
            "orientation": "horizontal",
            "min": 0,
            "description_tooltip": null,
            "_model_module": "@jupyter-widgets/controls",
            "layout": "IPY_MODEL_e198cee20a20430c844a9233eb5013e2"
          }
        },
        "31b006d730d64c618394f08287324bf6": {
          "model_module": "@jupyter-widgets/controls",
          "model_name": "HTMLModel",
          "state": {
            "_view_name": "HTMLView",
            "style": "IPY_MODEL_85cb195cb9a646608d169669b594c89b",
            "_dom_classes": [],
            "description": "",
            "_model_name": "HTMLModel",
            "placeholder": "​",
            "_view_module": "@jupyter-widgets/controls",
            "_model_module_version": "1.5.0",
            "value": " 25000/25000 [00:34&lt;00:00, 718.83it/s]",
            "_view_count": null,
            "_view_module_version": "1.5.0",
            "description_tooltip": null,
            "_model_module": "@jupyter-widgets/controls",
            "layout": "IPY_MODEL_70d64f204e304388a0f11050a23505cf"
          }
        },
        "3c499d23d35f4e0fbbaac54ea9195144": {
          "model_module": "@jupyter-widgets/controls",
          "model_name": "ProgressStyleModel",
          "state": {
            "_view_name": "StyleView",
            "_model_name": "ProgressStyleModel",
            "description_width": "initial",
            "_view_module": "@jupyter-widgets/base",
            "_model_module_version": "1.5.0",
            "_view_count": null,
            "_view_module_version": "1.2.0",
            "bar_color": null,
            "_model_module": "@jupyter-widgets/controls"
          }
        },
        "e198cee20a20430c844a9233eb5013e2": {
          "model_module": "@jupyter-widgets/base",
          "model_name": "LayoutModel",
          "state": {
            "_view_name": "LayoutView",
            "grid_template_rows": null,
            "right": null,
            "justify_content": null,
            "_view_module": "@jupyter-widgets/base",
            "overflow": null,
            "_model_module_version": "1.2.0",
            "_view_count": null,
            "flex_flow": null,
            "width": null,
            "min_width": null,
            "border": null,
            "align_items": null,
            "bottom": null,
            "_model_module": "@jupyter-widgets/base",
            "top": null,
            "grid_column": null,
            "overflow_y": null,
            "overflow_x": null,
            "grid_auto_flow": null,
            "grid_area": null,
            "grid_template_columns": null,
            "flex": null,
            "_model_name": "LayoutModel",
            "justify_items": null,
            "grid_row": null,
            "max_height": null,
            "align_content": null,
            "visibility": null,
            "align_self": null,
            "height": null,
            "min_height": null,
            "padding": null,
            "grid_auto_rows": null,
            "grid_gap": null,
            "max_width": null,
            "order": null,
            "_view_module_version": "1.2.0",
            "grid_template_areas": null,
            "object_position": null,
            "object_fit": null,
            "grid_auto_columns": null,
            "margin": null,
            "display": null,
            "left": null
          }
        },
        "85cb195cb9a646608d169669b594c89b": {
          "model_module": "@jupyter-widgets/controls",
          "model_name": "DescriptionStyleModel",
          "state": {
            "_view_name": "StyleView",
            "_model_name": "DescriptionStyleModel",
            "description_width": "",
            "_view_module": "@jupyter-widgets/base",
            "_model_module_version": "1.5.0",
            "_view_count": null,
            "_view_module_version": "1.2.0",
            "_model_module": "@jupyter-widgets/controls"
          }
        },
        "70d64f204e304388a0f11050a23505cf": {
          "model_module": "@jupyter-widgets/base",
          "model_name": "LayoutModel",
          "state": {
            "_view_name": "LayoutView",
            "grid_template_rows": null,
            "right": null,
            "justify_content": null,
            "_view_module": "@jupyter-widgets/base",
            "overflow": null,
            "_model_module_version": "1.2.0",
            "_view_count": null,
            "flex_flow": null,
            "width": null,
            "min_width": null,
            "border": null,
            "align_items": null,
            "bottom": null,
            "_model_module": "@jupyter-widgets/base",
            "top": null,
            "grid_column": null,
            "overflow_y": null,
            "overflow_x": null,
            "grid_auto_flow": null,
            "grid_area": null,
            "grid_template_columns": null,
            "flex": null,
            "_model_name": "LayoutModel",
            "justify_items": null,
            "grid_row": null,
            "max_height": null,
            "align_content": null,
            "visibility": null,
            "align_self": null,
            "height": null,
            "min_height": null,
            "padding": null,
            "grid_auto_rows": null,
            "grid_gap": null,
            "max_width": null,
            "order": null,
            "_view_module_version": "1.2.0",
            "grid_template_areas": null,
            "object_position": null,
            "object_fit": null,
            "grid_auto_columns": null,
            "margin": null,
            "display": null,
            "left": null
          }
        }
      }
    }
  },
  "cells": [
    {
      "cell_type": "markdown",
      "metadata": {
        "id": "view-in-github",
        "colab_type": "text"
      },
      "source": [
        "<a href=\"https://colab.research.google.com/github/workhardzy/K6312/blob/main/sentiment_analysis_binary_classification.ipynb\" target=\"_parent\"><img src=\"https://colab.research.google.com/assets/colab-badge.svg\" alt=\"Open In Colab\"/></a>"
      ]
    },
    {
      "cell_type": "code",
      "metadata": {
        "colab": {
          "base_uri": "https://localhost:8080/"
        },
        "id": "KRUCXlGReydD",
        "outputId": "666ea500-2c7d-4466-c4f5-c0d8f858870f"
      },
      "source": [
        "from google.colab import drive\n",
        "drive.mount(\"/content/gdrive\")"
      ],
      "execution_count": null,
      "outputs": [
        {
          "output_type": "stream",
          "text": [
            "Mounted at /content/gdrive\n"
          ],
          "name": "stdout"
        }
      ]
    },
    {
      "cell_type": "code",
      "metadata": {
        "id": "QqKj0LoLfY_s"
      },
      "source": [
        "import pandas as pd\n",
        "import numpy as np\n",
        "import time\n",
        "\n",
        "import sklearn\n",
        "from sklearn.model_selection import train_test_split\n",
        "from sklearn.metrics import classification_report, accuracy_score, confusion_matrix\n",
        "\n",
        "from IPython.display import display\n",
        "import pickle\n",
        "from tqdm.notebook import tqdm\n"
      ],
      "execution_count": null,
      "outputs": []
    },
    {
      "cell_type": "markdown",
      "metadata": {
        "id": "QV0XgKDRivav"
      },
      "source": [
        "loading data"
      ]
    },
    {
      "cell_type": "code",
      "metadata": {
        "colab": {
          "base_uri": "https://localhost:8080/",
          "height": 402
        },
        "id": "Mwn2oZoUfMLa",
        "outputId": "994cdedb-0b78-453f-df88-c9d255e386d3"
      },
      "source": [
        "path = '/content/gdrive/My Drive/covid_mining/aclImdb/IMDB Dataset.csv' #this is from kaggle\n",
        "df = pd.read_csv(path,encoding='UTF-8')\n",
        "df.columns = ['Text','Label']\n",
        "\n",
        "def recode_label(label):\n",
        "    if label == 'positive':\n",
        "        return 1\n",
        "    else:\n",
        "        return 0\n",
        "\n",
        "df['Label'] = df['Label'].apply(lambda x: recode_label(x))\n",
        "display(df)\n",
        "df = df[['Text','Label']]\n",
        "X = df['Text'].fillna('').tolist()\n",
        "X = [str(i) for i in X]\n",
        "y = df['Label'].fillna('').tolist()"
      ],
      "execution_count": null,
      "outputs": [
        {
          "output_type": "display_data",
          "data": {
            "text/html": [
              "<div>\n",
              "<style scoped>\n",
              "    .dataframe tbody tr th:only-of-type {\n",
              "        vertical-align: middle;\n",
              "    }\n",
              "\n",
              "    .dataframe tbody tr th {\n",
              "        vertical-align: top;\n",
              "    }\n",
              "\n",
              "    .dataframe thead th {\n",
              "        text-align: right;\n",
              "    }\n",
              "</style>\n",
              "<table border=\"1\" class=\"dataframe\">\n",
              "  <thead>\n",
              "    <tr style=\"text-align: right;\">\n",
              "      <th></th>\n",
              "      <th>Text</th>\n",
              "      <th>Label</th>\n",
              "    </tr>\n",
              "  </thead>\n",
              "  <tbody>\n",
              "    <tr>\n",
              "      <th>0</th>\n",
              "      <td>One of the other reviewers has mentioned that ...</td>\n",
              "      <td>1</td>\n",
              "    </tr>\n",
              "    <tr>\n",
              "      <th>1</th>\n",
              "      <td>A wonderful little production. &lt;br /&gt;&lt;br /&gt;The...</td>\n",
              "      <td>1</td>\n",
              "    </tr>\n",
              "    <tr>\n",
              "      <th>2</th>\n",
              "      <td>I thought this was a wonderful way to spend ti...</td>\n",
              "      <td>1</td>\n",
              "    </tr>\n",
              "    <tr>\n",
              "      <th>3</th>\n",
              "      <td>Basically there's a family where a little boy ...</td>\n",
              "      <td>0</td>\n",
              "    </tr>\n",
              "    <tr>\n",
              "      <th>4</th>\n",
              "      <td>Petter Mattei's \"Love in the Time of Money\" is...</td>\n",
              "      <td>1</td>\n",
              "    </tr>\n",
              "    <tr>\n",
              "      <th>...</th>\n",
              "      <td>...</td>\n",
              "      <td>...</td>\n",
              "    </tr>\n",
              "    <tr>\n",
              "      <th>49995</th>\n",
              "      <td>I thought this movie did a down right good job...</td>\n",
              "      <td>1</td>\n",
              "    </tr>\n",
              "    <tr>\n",
              "      <th>49996</th>\n",
              "      <td>Bad plot, bad dialogue, bad acting, idiotic di...</td>\n",
              "      <td>0</td>\n",
              "    </tr>\n",
              "    <tr>\n",
              "      <th>49997</th>\n",
              "      <td>I am a Catholic taught in parochial elementary...</td>\n",
              "      <td>0</td>\n",
              "    </tr>\n",
              "    <tr>\n",
              "      <th>49998</th>\n",
              "      <td>I'm going to have to disagree with the previou...</td>\n",
              "      <td>0</td>\n",
              "    </tr>\n",
              "    <tr>\n",
              "      <th>49999</th>\n",
              "      <td>No one expects the Star Trek movies to be high...</td>\n",
              "      <td>0</td>\n",
              "    </tr>\n",
              "  </tbody>\n",
              "</table>\n",
              "<p>50000 rows × 2 columns</p>\n",
              "</div>"
            ],
            "text/plain": [
              "                                                    Text  Label\n",
              "0      One of the other reviewers has mentioned that ...      1\n",
              "1      A wonderful little production. <br /><br />The...      1\n",
              "2      I thought this was a wonderful way to spend ti...      1\n",
              "3      Basically there's a family where a little boy ...      0\n",
              "4      Petter Mattei's \"Love in the Time of Money\" is...      1\n",
              "...                                                  ...    ...\n",
              "49995  I thought this movie did a down right good job...      1\n",
              "49996  Bad plot, bad dialogue, bad acting, idiotic di...      0\n",
              "49997  I am a Catholic taught in parochial elementary...      0\n",
              "49998  I'm going to have to disagree with the previou...      0\n",
              "49999  No one expects the Star Trek movies to be high...      0\n",
              "\n",
              "[50000 rows x 2 columns]"
            ]
          },
          "metadata": {
            "tags": []
          }
        }
      ]
    },
    {
      "cell_type": "markdown",
      "metadata": {
        "id": "yFQWu7FVitN1"
      },
      "source": [
        "Train test split"
      ]
    },
    {
      "cell_type": "code",
      "metadata": {
        "id": "YcU7gS3Cg74I"
      },
      "source": [
        "RANDOM_STATE = 42\n",
        "\n",
        "X_train, X_test, y_train, y_test = train_test_split(X, y, test_size=0.5, random_state=RANDOM_STATE)\n"
      ],
      "execution_count": null,
      "outputs": []
    },
    {
      "cell_type": "markdown",
      "metadata": {
        "id": "1xo7QzLye_HF"
      },
      "source": [
        "#text preprocessing"
      ]
    },
    {
      "cell_type": "code",
      "metadata": {
        "colab": {
          "base_uri": "https://localhost:8080/"
        },
        "id": "cIR8t7rbe8JJ",
        "outputId": "e92b8c2b-9d4c-4540-9276-defc9d856233"
      },
      "source": [
        "from bs4 import BeautifulSoup\n",
        "import nltk\n",
        "from nltk.util import ngrams\n",
        "from nltk.stem import WordNetLemmatizer\n",
        "from nltk.corpus import stopwords, wordnet\n",
        "from nltk.stem import PorterStemmer\n",
        "from nltk import word_tokenize\n",
        "import re\n",
        "import pickle\n",
        "\n",
        "\n",
        "nltk.download('wordnet')\n",
        "nltk.download('stopwords')\n",
        "nltk.download('punkt')"
      ],
      "execution_count": null,
      "outputs": [
        {
          "output_type": "stream",
          "text": [
            "[nltk_data] Downloading package wordnet to /root/nltk_data...\n",
            "[nltk_data]   Unzipping corpora/wordnet.zip.\n",
            "[nltk_data] Downloading package stopwords to /root/nltk_data...\n",
            "[nltk_data]   Unzipping corpora/stopwords.zip.\n",
            "[nltk_data] Downloading package punkt to /root/nltk_data...\n",
            "[nltk_data]   Unzipping tokenizers/punkt.zip.\n"
          ],
          "name": "stdout"
        },
        {
          "output_type": "execute_result",
          "data": {
            "text/plain": [
              "True"
            ]
          },
          "metadata": {
            "tags": []
          },
          "execution_count": 7
        }
      ]
    },
    {
      "cell_type": "code",
      "metadata": {
        "colab": {
          "base_uri": "https://localhost:8080/",
          "height": 139
        },
        "id": "cZeGgwQxfBP2",
        "outputId": "7f00f2e5-5bf7-47c1-c657-12f2de34ae06"
      },
      "source": [
        "#to remove html tags, lemmatisation . etc etc\n",
        "additional_stop_words = []                                                      ########调 (optional)\n",
        "\n",
        "def text_cleanup(text):  \n",
        "    '''\n",
        "    Text pre-processing\n",
        "        return a sentence of cleaned words\n",
        "    '''\n",
        "    text = str(text)\n",
        "    #remove html tags\n",
        "    text_clean = BeautifulSoup(text, \"lxml\").text\n",
        "\n",
        "    ## Convert to lowercase\n",
        "    text_clean = text_clean.lower()\n",
        "    ##Remove non-alphabet\n",
        "    text_clean = re.sub(r'[^a-zA-Z]|(\\w+:\\/\\/\\S+)',' ', text_clean)\n",
        "\n",
        "    ##spliting into tokens\n",
        "    text_clean = text_clean.split()\n",
        "\n",
        "    ##Remove short words (length < 3)\n",
        "    text_clean = [w for w in text_clean if len(w)>2]\n",
        "\n",
        "    ##Lemmatize text ## alternative is to use stemming\n",
        "    #lemmatizer = WordNetLemmatizer()\n",
        "    #text_clean = [lemmatizer.lemmatize(w) for w in text_clean]\n",
        "    \n",
        "    #ps = PorterStemmer()\n",
        "    #text_clean = [ps.stem(w) for w in text_clean]\n",
        "    \n",
        "    ## Filter out stop words in English \n",
        "    stops = set(stopwords.words('english')).union(additional_stop_words)\n",
        "    text_clean = [w for w in text_clean if w not in stops]\n",
        "    \n",
        "    #joining the list into a sentence\n",
        "    mySeparator = \" \"\n",
        "    text_clean = mySeparator.join(text_clean)\n",
        "\n",
        "\n",
        "    return text_clean\n",
        "\n",
        "txt = r\"This movie is not based on the bible. It completely leaves Christ out of the movie. They do not show the rapture or the second coming of Christ. Let alone talk about it. It does not quote from scriptures. The end times are called the great tribulation. The movie does not even show bad times. The seven bowls, seven viles and seven trumpets of judgements are boiled down to a 15 second news cast of the sea changing it's structure. The anti-Christ was killed 3 1/2 years into the tribulation and that is how the movie ended. The only part they got correct was there was two prophets. The did not use there names of course because that would be too close to the truth of scriptures. The worst part of it was I really wanted it to be a good movie. I wanted to take unsaved people to it. I feel that the movie is evil. It is a counterfeit just like everything the devil does. I just hope it does not take away from the upcoming movie based on the left behind books.<br /><br />The second problem with the movie is it was just bad. Bad acting, bad special effects, bad plot and poor character development. I have seen better episodes of Miami vice.\"\n",
        "print('ORIGINAL','\\n', txt)\n",
        "text_cleanup(txt)"
      ],
      "execution_count": null,
      "outputs": [
        {
          "output_type": "stream",
          "text": [
            "ORIGINAL \n",
            " This movie is not based on the bible. It completely leaves Christ out of the movie. They do not show the rapture or the second coming of Christ. Let alone talk about it. It does not quote from scriptures. The end times are called the great tribulation. The movie does not even show bad times. The seven bowls, seven viles and seven trumpets of judgements are boiled down to a 15 second news cast of the sea changing it's structure. The anti-Christ was killed 3 1/2 years into the tribulation and that is how the movie ended. The only part they got correct was there was two prophets. The did not use there names of course because that would be too close to the truth of scriptures. The worst part of it was I really wanted it to be a good movie. I wanted to take unsaved people to it. I feel that the movie is evil. It is a counterfeit just like everything the devil does. I just hope it does not take away from the upcoming movie based on the left behind books.<br /><br />The second problem with the movie is it was just bad. Bad acting, bad special effects, bad plot and poor character development. I have seen better episodes of Miami vice.\n"
          ],
          "name": "stdout"
        },
        {
          "output_type": "execute_result",
          "data": {
            "application/vnd.google.colaboratory.intrinsic+json": {
              "type": "string"
            },
            "text/plain": [
              "'movie based bible completely leaves christ movie show rapture second coming christ let alone talk quote scriptures end times called great tribulation movie even show bad times seven bowls seven viles seven trumpets judgements boiled second news cast sea changing structure anti christ killed years tribulation movie ended part got correct two prophets use names course would close truth scriptures worst part really wanted good movie wanted take unsaved people feel movie evil counterfeit like everything devil hope take away upcoming movie based left behind books second problem movie bad bad acting bad special effects bad plot poor character development seen better episodes miami vice'"
            ]
          },
          "metadata": {
            "tags": []
          },
          "execution_count": 8
        }
      ]
    },
    {
      "cell_type": "code",
      "metadata": {
        "colab": {
          "base_uri": "https://localhost:8080/",
          "height": 114,
          "referenced_widgets": [
            "393066f1064140edbfb0bc29c470c39f",
            "62288e99ab584ded901e70b7c6821d3a",
            "6c0b6407928d40c189b2ff579b53e5e8",
            "290f0d9e226e4743a9541f61441563ea",
            "6c592b8a84a749b9a486deb0ddbe5f4a",
            "ec4cc2642123408b8e97ae47afe00abd",
            "02d2121f584f401d8731da21bf71e5b8",
            "91669e20e20b40d0a8634c4297ad6685",
            "658f7e1350344e758b65fca297fdbc83",
            "5fc29b362c214e4a899b823fb8554da7",
            "08f36d5281cc42c093a6ad4a469f2088",
            "31b006d730d64c618394f08287324bf6",
            "3c499d23d35f4e0fbbaac54ea9195144",
            "e198cee20a20430c844a9233eb5013e2",
            "85cb195cb9a646608d169669b594c89b",
            "70d64f204e304388a0f11050a23505cf"
          ]
        },
        "id": "0wW8UUt5fD8-",
        "outputId": "a74e4a66-e02a-4aa5-f76d-65ad0ba76d4d"
      },
      "source": [
        "from tqdm.notebook import tqdm\n",
        "#for text preprocessing #you can run without doing so\n",
        "\n",
        "#doing list comprehension\n",
        "X_train = [text_cleanup(txt) for txt in tqdm(X_train)]\n",
        "X_test = [text_cleanup(txt) for txt in tqdm(X_test)]"
      ],
      "execution_count": null,
      "outputs": [
        {
          "output_type": "display_data",
          "data": {
            "application/vnd.jupyter.widget-view+json": {
              "model_id": "393066f1064140edbfb0bc29c470c39f",
              "version_minor": 0,
              "version_major": 2
            },
            "text/plain": [
              "HBox(children=(FloatProgress(value=0.0, max=25000.0), HTML(value='')))"
            ]
          },
          "metadata": {
            "tags": []
          }
        },
        {
          "output_type": "stream",
          "text": [
            "\n"
          ],
          "name": "stdout"
        },
        {
          "output_type": "display_data",
          "data": {
            "application/vnd.jupyter.widget-view+json": {
              "model_id": "658f7e1350344e758b65fca297fdbc83",
              "version_minor": 0,
              "version_major": 2
            },
            "text/plain": [
              "HBox(children=(FloatProgress(value=0.0, max=25000.0), HTML(value='')))"
            ]
          },
          "metadata": {
            "tags": []
          }
        },
        {
          "output_type": "stream",
          "text": [
            "\n"
          ],
          "name": "stdout"
        }
      ]
    },
    {
      "cell_type": "code",
      "metadata": {
        "colab": {
          "base_uri": "https://localhost:8080/"
        },
        "id": "yWH8C4g6vL1n",
        "outputId": "2ec71441-09e5-426f-b112-36cdec4f508c"
      },
      "source": [
        "X_train[:5]"
      ],
      "execution_count": null,
      "outputs": [
        {
          "output_type": "execute_result",
          "data": {
            "text/plain": [
              "['congo based best selling novel michael crichton thought lacked crichton usual charm smart characters punch well sorry say goes film plot greed bad simple morality tale cautions megalomaniacal joe baker sends son dangerous african congo quest source diamonds large enough pure enough function powerful laser communications transmitter laser weapons contact lost son team daughter law laura linney former cia operative computer freak sent quest accompanied gee whiz gadgetry eccentric characters including mercenary ernie hudson researcher talking gorilla dylan walsh nutty indiana jones type looking king solomon mines tim curry narrow escapes surface air missiles african wildlife discover often want turns source downfall actors movie talented dylan walsh acts like pathetic crybaby especially end ernie hudson unconvincing wonder went star films laura linney nothing special think safely say talented actors film small roles joe baker tim curry always enjoyable actor although sometimes scarred life constantly reminded rocky horror picture days movie also problems including awful direction style cheesy dialogue plain boring plot completely hashed compared crichton novel even stan winston creature effects could save movie disaster deeply disappointed movie even campy quality redeem plain awful cheesy boring ridiculous proves one worst crichton book film productions stars john ulmer',\n",
              " 'wow finally action movie without action real low budget setting miss hilarious flying saucers flying times future seattle find brain hardbody seeking avenge childhood nothing even remotely original interesting plot actors performance rivalled stupidity attempts steal movies mainly matrix without money right yes get see running walls slow motion shoot outs secs approx scenes cool stupid hardbody attempts making jokes male incompetence yes also served number leads lead absolutely nowhere script thought previously unseen cast shooting scenes believe bad possibly get fact deserve taken seriously perhaps make rent save money',\n",
              " 'identity part surroundings became separate able make differentiations clearly lets identity inside identity everything ever happened ntozake shange qtd fires mirror pieces like decalogue used intimidate felt accepted would compromising something thought really worth getting understand naturalism trying say experienced tangible katharsis one fell existence piecemeal one still alive still reckon still working inside film sympathetic per need say death penalty wicked thing certainly wicked people whether die another film decalogue shows good beautiful people exists kill people society primal urges jack science naturalism helped appreciate decalogue worth writing space would let see worth making art like make people perhaps make people something method lazar compromise light much meaning makes sense retrospect strange idea much respectable science gain meaning retrospect wince say naturalism seems much productive much less nihilistic power say ruin process natural process makes want buck system think naturalism painting doomsday portrait humanity telling give powdered wigs head woods instead think cataloging proofs experiments course free ignore ignore want want give naturalists corpses bury surely despite aesthetic specifically designed without sympathy towards characters likely catastrophic fate impassioned readerly inaction writerly snobisme see delightful risk hope audience understand done see mentioned danger hopeless seeing fate immortalized stone danger hopeful disparaging natural correspond world view think hopeful need either wealthy fortunate seen seems film american beauty proves inadequacy circumstance provider vision comfort ascetics well gluttons well beggars wonder within humanity grieve find anything separates landscape landscapes powerfully beautifully portrayed reality landscapes enact change sure dramatically large set natural law one truly power cannot changed',\n",
              " 'sir john gielgud must become senile star mess movie like one one films suppose considered art fooled garbage stick art admire frame films labeled usually unintelligible forgeries like masterpiece giegud recites shakespeare tempest camera pans away nude people one little kid urinating swimming pool wow heady stuff real art one example story makes sense impossible follow hence one liberal critics afraid say understand give high marks save phony egos want shakespeare read books',\n",
              " 'average movie poor music considering movie based music ordinary script direction full blunders salman khan usual acting ajay performance deteriorating time looks especially styles rock star pathetic asin showpiece overall felt like wasting money cinema salman khan remains immature years ago compared aamir khan many songs movie boring except man ati important song impress music sponsor unimpressive khanabadosh easily understood english music sponsor movie saw last week wake sid simple slow love story good direction acting despite average music']"
            ]
          },
          "metadata": {
            "tags": []
          },
          "execution_count": 10
        }
      ]
    },
    {
      "cell_type": "code",
      "metadata": {
        "id": "AM8HtTzwhIJS"
      },
      "source": [
        "#do use tfidf if you think it helps\n",
        "#if need be, can try to use word embeddings\n",
        "\n",
        "from sklearn.feature_extraction.text import CountVectorizer\n",
        "\n",
        "count_vect = CountVectorizer() \n",
        "X_train = count_vect.fit_transform(X_train)\n",
        "X_test = count_vect.transform(X_test)\n"
      ],
      "execution_count": null,
      "outputs": []
    },
    {
      "cell_type": "code",
      "metadata": {
        "colab": {
          "base_uri": "https://localhost:8080/"
        },
        "id": "iTc6Tw9yW6T7",
        "outputId": "75021e0f-2761-4942-893f-5683173b38f4"
      },
      "source": [
        "X_train[0]"
      ],
      "execution_count": null,
      "outputs": [
        {
          "output_type": "execute_result",
          "data": {
            "text/plain": [
              "<1x75377 sparse matrix of type '<class 'numpy.int64'>'\n",
              "\twith 160 stored elements in Compressed Sparse Row format>"
            ]
          },
          "metadata": {
            "tags": []
          },
          "execution_count": 12
        }
      ]
    },
    {
      "cell_type": "code",
      "metadata": {
        "id": "dMebLOSMMp0C"
      },
      "source": [
        "#confusion matrix\n",
        "import seaborn as sns\n",
        "import matplotlib.pyplot as plt\n",
        "from matplotlib import rc\n",
        "\n",
        "def show_confusion_matrix(confusion_matrix):\n",
        "  hmap = sns.heatmap(confusion_matrix, annot=True, fmt=\"d\", cmap=\"Blues\")\n",
        "  hmap.yaxis.set_ticklabels(hmap.yaxis.get_ticklabels(), rotation=0, ha='right')\n",
        "  hmap.xaxis.set_ticklabels(hmap.xaxis.get_ticklabels(), rotation=30, ha='right')\n",
        "  plt.ylabel('Truth')\n",
        "  plt.xlabel('Predicted');\n"
      ],
      "execution_count": null,
      "outputs": []
    },
    {
      "cell_type": "markdown",
      "metadata": {
        "id": "TYIOs10whULt"
      },
      "source": [
        "# Testing Machine Learning approaches"
      ]
    },
    {
      "cell_type": "markdown",
      "metadata": {
        "id": "k1jdRNQ6hWc_"
      },
      "source": [
        "Logistic Regression"
      ]
    },
    {
      "cell_type": "code",
      "metadata": {
        "colab": {
          "base_uri": "https://localhost:8080/"
        },
        "id": "iDwGtFT0hPML",
        "outputId": "c46c54e2-f9af-4b1e-bbae-ce545cc71bbd"
      },
      "source": [
        "#LR\n",
        "from sklearn.metrics import confusion_matrix, classification_report\n",
        "\n",
        "from sklearn.linear_model import LogisticRegression\n",
        "model = LogisticRegression(solver='lbfgs', max_iter=400,random_state=42)\n",
        "model.fit(X_train, y_train)\n",
        "print('accuracy:',model.score(X_test,y_test))\n",
        "\n",
        "#classification report\n",
        "y_pred = model.predict(X_test) \n",
        "\n",
        "print(classification_report(y_test, y_pred))\n"
      ],
      "execution_count": null,
      "outputs": [
        {
          "output_type": "stream",
          "text": [
            "accuracy: 0.8784\n",
            "              precision    recall  f1-score   support\n",
            "\n",
            "           0       0.88      0.87      0.88     12483\n",
            "           1       0.87      0.89      0.88     12517\n",
            "\n",
            "    accuracy                           0.88     25000\n",
            "   macro avg       0.88      0.88      0.88     25000\n",
            "weighted avg       0.88      0.88      0.88     25000\n",
            "\n"
          ],
          "name": "stdout"
        }
      ]
    },
    {
      "cell_type": "code",
      "metadata": {
        "colab": {
          "base_uri": "https://localhost:8080/",
          "height": 281
        },
        "id": "sfNbsM7ghpRF",
        "outputId": "8496ff91-4ffa-4682-caa6-4c862648c4b6"
      },
      "source": [
        "cm = confusion_matrix(y_test, y_pred)\n",
        "df_cm = pd.DataFrame(cm)\n",
        "show_confusion_matrix(df_cm)"
      ],
      "execution_count": null,
      "outputs": [
        {
          "output_type": "display_data",
          "data": {
            "image/png": "[encoded data removed]",
            "text/plain": [
              "<Figure size 432x288 with 2 Axes>"
            ]
          },
          "metadata": {
            "tags": [],
            "needs_background": "light"
          }
        }
      ]
    },
    {
      "cell_type": "code",
      "metadata": {
        "id": "jZB8rPKWkYbH"
      },
      "source": [
        "filename = '/content/gdrive/My Drive/covid_mining/LR_model.h5'\n",
        "pickle.dump(model, open(filename, 'wb'))"
      ],
      "execution_count": null,
      "outputs": []
    },
    {
      "cell_type": "markdown",
      "metadata": {
        "id": "Kgs4OqDE2Ngv"
      },
      "source": [
        "SVM"
      ]
    },
    {
      "cell_type": "code",
      "metadata": {
        "id": "Wc3OyVlm2NEw"
      },
      "source": [
        "import numpy as np\n",
        "from sklearn import svm\n",
        "import matplotlib.pyplot as plt"
      ],
      "execution_count": null,
      "outputs": []
    },
    {
      "cell_type": "code",
      "metadata": {
        "id": "V7kyQRLvwNMg",
        "colab": {
          "base_uri": "https://localhost:8080/"
        },
        "outputId": "6e531388-990a-49ff-cc75-e67a2d2a0178"
      },
      "source": [
        "svmModel = svm.SVC(C = 1,kernel = 'linear')\n",
        "svmModel.fit(X_train,y_train)\n",
        "print('accuracy:',svmModel.score(X_test,y_test))\n",
        "\n",
        "#classification report\n",
        "y_pred = svmModel.predict(X_test) \n",
        "\n",
        "print(classification_report(y_test, y_pred))"
      ],
      "execution_count": null,
      "outputs": [
        {
          "output_type": "stream",
          "text": [
            "accuracy: 0.85588\n",
            "              precision    recall  f1-score   support\n",
            "\n",
            "           0       0.86      0.85      0.85     12483\n",
            "           1       0.85      0.86      0.86     12517\n",
            "\n",
            "    accuracy                           0.86     25000\n",
            "   macro avg       0.86      0.86      0.86     25000\n",
            "weighted avg       0.86      0.86      0.86     25000\n",
            "\n"
          ],
          "name": "stdout"
        }
      ]
    },
    {
      "cell_type": "code",
      "metadata": {
        "id": "sHEHKcbtyCr8",
        "colab": {
          "base_uri": "https://localhost:8080/",
          "height": 281
        },
        "outputId": "3930666b-2e65-485f-e16d-6988fd33f0ff"
      },
      "source": [
        "#confusion matrix\n",
        "cm = confusion_matrix(y_test, y_pred)\n",
        "df_cm = pd.DataFrame(cm)\n",
        "show_confusion_matrix(df_cm)"
      ],
      "execution_count": null,
      "outputs": [
        {
          "output_type": "display_data",
          "data": {
            "image/png": "[encoded data removed]",
            "text/plain": [
              "<Figure size 432x288 with 2 Axes>"
            ]
          },
          "metadata": {
            "tags": [],
            "needs_background": "light"
          }
        }
      ]
    },
    {
      "cell_type": "code",
      "metadata": {
        "id": "cdUTKiZvkMIz"
      },
      "source": [
        "filename = '/content/gdrive/My Drive/covid_mining/SVM_model.h5'\n",
        "pickle.dump(svmModel, open(filename, 'wb'))"
      ],
      "execution_count": null,
      "outputs": []
    },
    {
      "cell_type": "markdown",
      "metadata": {
        "id": "POtqUJhUsW4C"
      },
      "source": [
        "Ensemble Learning AdaBoostClassifier\n"
      ]
    },
    {
      "cell_type": "code",
      "metadata": {
        "id": "7giOMeKJsRyK",
        "colab": {
          "base_uri": "https://localhost:8080/"
        },
        "outputId": "10a314c9-78e9-4f6f-d448-d17c46018558"
      },
      "source": [
        "#source: https://machinelearningmastery.com/adaboost-ensemble-in-python/\n",
        "from sklearn.ensemble import AdaBoostClassifier\n",
        "\n",
        "model= AdaBoostClassifier(random_state=1)            \n",
        "model.fit(X_train, y_train)\n",
        "print('accuracy:',model.score(X_test,y_test))\n",
        "\n",
        "#classification report\n",
        "y_pred = model.predict(X_test) \n",
        "\n",
        "cm = confusion_matrix(y_test, y_pred) \n",
        "print(cm) \n",
        "\n",
        "print(classification_report(y_test, y_pred))\n",
        "\n",
        "# without text preprocessing 0.69824\n",
        "# with text preprocessing 0.69844"
      ],
      "execution_count": null,
      "outputs": [
        {
          "output_type": "stream",
          "text": [
            "accuracy: 0.80316\n",
            "[[ 9455  3028]\n",
            " [ 1893 10624]]\n",
            "              precision    recall  f1-score   support\n",
            "\n",
            "           0       0.83      0.76      0.79     12483\n",
            "           1       0.78      0.85      0.81     12517\n",
            "\n",
            "    accuracy                           0.80     25000\n",
            "   macro avg       0.81      0.80      0.80     25000\n",
            "weighted avg       0.81      0.80      0.80     25000\n",
            "\n"
          ],
          "name": "stdout"
        }
      ]
    },
    {
      "cell_type": "code",
      "metadata": {
        "id": "kjtj6peBsR5E",
        "colab": {
          "base_uri": "https://localhost:8080/",
          "height": 281
        },
        "outputId": "9de9ad3c-2768-4665-ff61-9c987b090711"
      },
      "source": [
        "#confusion matrix\n",
        "cm = confusion_matrix(y_test, y_pred)\n",
        "df_cm = pd.DataFrame(cm)\n",
        "show_confusion_matrix(df_cm)"
      ],
      "execution_count": null,
      "outputs": [
        {
          "output_type": "display_data",
          "data": {
            "image/png": "[encoded data removed]",
            "text/plain": [
              "<Figure size 432x288 with 2 Axes>"
            ]
          },
          "metadata": {
            "tags": [],
            "needs_background": "light"
          }
        }
      ]
    },
    {
      "cell_type": "code",
      "metadata": {
        "id": "WfFjRn2ssSBw"
      },
      "source": [
        "filename = '/content/gdrive/My Drive/covid_mining/Ada_model.h5'\n",
        "pickle.dump(model, open(filename, 'wb'))"
      ],
      "execution_count": null,
      "outputs": []
    },
    {
      "cell_type": "markdown",
      "metadata": {
        "id": "_HfwgRz2xhOi"
      },
      "source": [
        "Gradient Boosting"
      ]
    },
    {
      "cell_type": "code",
      "metadata": {
        "id": "ECw67VUsxdUU",
        "colab": {
          "base_uri": "https://localhost:8080/"
        },
        "outputId": "0090efd9-031b-4adc-afe1-1b47f7e4d6c8"
      },
      "source": [
        "#source: https://machinelearningmastery.com/adaboost-ensemble-in-python/\n",
        "from sklearn.ensemble import GradientBoostingClassifier\n",
        "\n",
        "model= GradientBoostingClassifier(random_state=1)            \n",
        "model.fit(X_train, y_train)\n",
        "print('accuracy:',model.score(X_test,y_test))\n",
        "\n",
        "#classification report\n",
        "y_pred = model.predict(X_test) \n",
        "\n",
        "cm = confusion_matrix(y_test, y_pred) \n",
        "print(cm) \n",
        "\n",
        "print(classification_report(y_test, y_pred))\n",
        "\n",
        "# without text preprocessing 0.69824\n",
        "# with text preprocessing 0.69844"
      ],
      "execution_count": null,
      "outputs": [
        {
          "output_type": "stream",
          "text": [
            "accuracy: 0.80576\n",
            "[[ 9301  3182]\n",
            " [ 1674 10843]]\n",
            "              precision    recall  f1-score   support\n",
            "\n",
            "           0       0.85      0.75      0.79     12483\n",
            "           1       0.77      0.87      0.82     12517\n",
            "\n",
            "    accuracy                           0.81     25000\n",
            "   macro avg       0.81      0.81      0.81     25000\n",
            "weighted avg       0.81      0.81      0.81     25000\n",
            "\n"
          ],
          "name": "stdout"
        }
      ]
    },
    {
      "cell_type": "code",
      "metadata": {
        "id": "TbBbKjXNxv60",
        "colab": {
          "base_uri": "https://localhost:8080/",
          "height": 281
        },
        "outputId": "12fd552d-2e53-4406-a703-acad1ca289c5"
      },
      "source": [
        "#confusion matrix\n",
        "\n",
        "cm = confusion_matrix(y_test, y_pred)\n",
        "df_cm = pd.DataFrame(cm)\n",
        "show_confusion_matrix(df_cm)"
      ],
      "execution_count": null,
      "outputs": [
        {
          "output_type": "display_data",
          "data": {
            "image/png": "[encoded data removed]",
            "text/plain": [
              "<Figure size 432x288 with 2 Axes>"
            ]
          },
          "metadata": {
            "tags": [],
            "needs_background": "light"
          }
        }
      ]
    },
    {
      "cell_type": "code",
      "metadata": {
        "id": "tsH8EWIU2-Xf"
      },
      "source": [
        "filename = '/content/gdrive/My Drive/covid_mining/GB_model.h5'\n",
        "pickle.dump(model, open(filename, 'wb'))"
      ],
      "execution_count": null,
      "outputs": []
    },
    {
      "cell_type": "markdown",
      "metadata": {
        "id": "UB8aOxBVjRUf"
      },
      "source": [
        "#Manually annotating a sample (completed)"
      ]
    },
    {
      "cell_type": "code",
      "metadata": {
        "colab": {
          "base_uri": "https://localhost:8080/",
          "height": 148
        },
        "id": "ttJ5TzWYjW4l",
        "outputId": "43d8491b-c03e-424d-9d0e-4aaebdea2263"
      },
      "source": [
        "# this part is for randomly choose 100 data to annotate manually, and has completed\n",
        "'''\n",
        "news_df = pd.read_csv('/content/gdrive/My Drive/covid_mining/covid19_articles_20200914.csv').drop(['Unnamed: 0'],axis=1)\n",
        "news_df.head()\n",
        "'''"
      ],
      "execution_count": null,
      "outputs": [
        {
          "output_type": "error",
          "ename": "SyntaxError",
          "evalue": "ignored",
          "traceback": [
            "\u001b[0;36m  File \u001b[0;32m\"<ipython-input-24-f07a9b17ef32>\"\u001b[0;36m, line \u001b[0;32m3\u001b[0m\n\u001b[0;31m    news_df.head()\u001b[0m\n\u001b[0m                  \n^\u001b[0m\n\u001b[0;31mSyntaxError\u001b[0m\u001b[0;31m:\u001b[0m EOF while scanning triple-quoted string literal\n"
          ]
        }
      ]
    },
    {
      "cell_type": "code",
      "metadata": {
        "id": "-xdONYVhjdVO"
      },
      "source": [
        "#news_df_sample = news_df.sample(100)"
      ],
      "execution_count": null,
      "outputs": []
    },
    {
      "cell_type": "code",
      "metadata": {
        "id": "4pki7dj4ka9L"
      },
      "source": [
        "#loading model\n",
        "'''\n",
        "filename = '/content/gdrive/My Drive/covid_mining/LR_model.h5'\n",
        "LR_model = pickle.load(open(filename, 'rb'))\n",
        "\n",
        "filename = '/content/gdrive/My Drive/covid_mining/Ada_model.h5'\n",
        "ada_model = pickle.load(open(filename, 'rb'))\n"
      ],
      "execution_count": null,
      "outputs": []
    },
    {
      "cell_type": "code",
      "metadata": {
        "id": "rQ4Dr1bWk7Bn"
      },
      "source": [
        "'''\n",
        "def label_text(text,model,vect):\n",
        "    text = vect.transform([text])\n",
        "    return model.predict(text).flatten()[0]\n",
        "\n",
        "def label_prob(text,model,vect):\n",
        "    text = vect.transform([text])\n",
        "    return model.predict_proba(text).flatten()"
      ],
      "execution_count": null,
      "outputs": []
    },
    {
      "cell_type": "code",
      "metadata": {
        "id": "s_JwioMNljWz"
      },
      "source": [
        "'''\n",
        "for i in range(20):\n",
        "    print(label_text(news_df['title'][i],LR_model,count_vect))"
      ],
      "execution_count": null,
      "outputs": []
    },
    {
      "cell_type": "code",
      "metadata": {
        "id": "9qsSC5yJkNZ8"
      },
      "source": [
        "#using LR\n",
        "'''\n",
        "from tqdm import tqdm\n",
        "tqdm.pandas()\n",
        "\n",
        "news_df_sample['predicted']  = news_df_sample['title'].progress_apply(lambda x: label_text(x,LR_model,count_vect))\n",
        "news_df_sample['predicted_proba']  = news_df_sample['title'].progress_apply(lambda x: label_prob(x,LR_model,count_vect))"
      ],
      "execution_count": null,
      "outputs": []
    },
    {
      "cell_type": "code",
      "metadata": {
        "id": "VOcjcs6JXmkF"
      },
      "source": [
        "#news_df_sample"
      ],
      "execution_count": null,
      "outputs": []
    },
    {
      "cell_type": "code",
      "metadata": {
        "id": "fJAFoh0idOY0"
      },
      "source": [
        "'''\n",
        "news_df_sample = news_df_sample[['title','url','date','predicted','predicted_proba']]\n",
        "news_df_sample"
      ],
      "execution_count": null,
      "outputs": []
    },
    {
      "cell_type": "code",
      "metadata": {
        "id": "VYweuejxlBvb"
      },
      "source": [
        "'''\n",
        "news_df_sample.to_csv('/content/gdrive/My Drive/covid_mining/sentiment_manual_validation_set.csv')"
      ],
      "execution_count": null,
      "outputs": []
    },
    {
      "cell_type": "markdown",
      "metadata": {
        "id": "Ow910ApKczvz"
      },
      "source": [
        "Creating a proper gold standard dataset"
      ]
    },
    {
      "cell_type": "markdown",
      "metadata": {
        "id": "qtEe1n_XlClJ"
      },
      "source": [
        "#Evaluating model's performance on the out-of-distribution set\n"
      ]
    },
    {
      "cell_type": "code",
      "metadata": {
        "id": "dikR69xOpSsF"
      },
      "source": [
        "path = '/content/gdrive/My Drive/covid_mining/annotated_sentiment_manual_validation_set.csv' #this is from our manually annotated sentiment set\n",
        "val_df = pd.read_csv(path,encoding='UTF-8')\n"
      ],
      "execution_count": null,
      "outputs": []
    },
    {
      "cell_type": "code",
      "metadata": {
        "id": "x1RsX4UdLJJM"
      },
      "source": [
        "#loading model\n",
        "filename = '/content/gdrive/My Drive/covid_mining/LR_model.h5'\n",
        "LR_model = pickle.load(open(filename, 'rb'))\n",
        "\n",
        "filename = '/content/gdrive/My Drive/covid_mining/Ada_model.h5'\n",
        "ada_model = pickle.load(open(filename, 'rb'))\n",
        "\n",
        "filename = '/content/gdrive/My Drive/covid_mining/GB_model.h5'\n",
        "GB_model = pickle.load(open(filename, 'rb'))\n",
        "\n",
        "filename = '/content/gdrive/My Drive/covid_mining/SVM_model.h5'\n",
        "SVM_model = pickle.load(open(filename, 'rb'))"
      ],
      "execution_count": null,
      "outputs": []
    },
    {
      "cell_type": "code",
      "metadata": {
        "id": "5TQi_EYfLzYF"
      },
      "source": [
        "def label_text(text,model,vect):\n",
        "    text = vect.transform([text])\n",
        "    return model.predict(text).flatten()[0]\n",
        "\n",
        "def label_prob(text,model,vect):\n",
        "    text = vect.transform([text])\n",
        "    return model.predict_proba(text).flatten()"
      ],
      "execution_count": null,
      "outputs": []
    },
    {
      "cell_type": "code",
      "metadata": {
        "id": "Dju-Wk9cpkZc",
        "colab": {
          "base_uri": "https://localhost:8080/"
        },
        "outputId": "0192b44a-6452-4694-90f9-1ffe6613ac88"
      },
      "source": [
        "val_df.columns"
      ],
      "execution_count": null,
      "outputs": [
        {
          "output_type": "execute_result",
          "data": {
            "text/plain": [
              "Index(['Unnamed: 0', 'title', 'url', 'date', 'predicted', 'predicted_proba',\n",
              "       'xy_predict', 'zy_predict', 'vote_label', 'Unnamed: 9', 'is_correct'],\n",
              "      dtype='object')"
            ]
          },
          "metadata": {
            "tags": []
          },
          "execution_count": 62
        }
      ]
    },
    {
      "cell_type": "code",
      "metadata": {
        "id": "4mz6W9wmpvN3"
      },
      "source": [
        "val_df = val_df[['title','vote_label']].dropna()\n",
        "val_df.columns = ['X','y']\n",
        "y_test = val_df.y.tolist()"
      ],
      "execution_count": null,
      "outputs": []
    },
    {
      "cell_type": "code",
      "metadata": {
        "id": "lJP_UT2UqpYn",
        "colab": {
          "base_uri": "https://localhost:8080/"
        },
        "outputId": "01b078f9-ddcd-4fea-912a-3d42d8b2a32d"
      },
      "source": [
        "#classification report for LR\n",
        "y_pred = [label_text(x,LR_model,count_vect) for x in val_df.X]\n",
        "print(classification_report(y_test, y_pred))"
      ],
      "execution_count": null,
      "outputs": [
        {
          "output_type": "stream",
          "text": [
            "              precision    recall  f1-score   support\n",
            "\n",
            "         0.0       0.64      0.38      0.47        56\n",
            "         1.0       0.48      0.73      0.58        44\n",
            "\n",
            "    accuracy                           0.53       100\n",
            "   macro avg       0.56      0.55      0.52       100\n",
            "weighted avg       0.57      0.53      0.52       100\n",
            "\n"
          ],
          "name": "stdout"
        }
      ]
    },
    {
      "cell_type": "code",
      "metadata": {
        "id": "XpUUB8rp5SeN",
        "colab": {
          "base_uri": "https://localhost:8080/",
          "height": 285
        },
        "outputId": "3a77cced-0082-41f0-a45b-16c923d7cab1"
      },
      "source": [
        "cm = confusion_matrix(y_test, y_pred)\n",
        "df_cm = pd.DataFrame(cm)\n",
        "show_confusion_matrix(df_cm)"
      ],
      "execution_count": null,
      "outputs": [
        {
          "output_type": "display_data",
          "data": {
            "image/png": "[encoded data removed]",
            "text/plain": [
              "<Figure size 432x288 with 2 Axes>"
            ]
          },
          "metadata": {
            "tags": [],
            "needs_background": "light"
          }
        }
      ]
    },
    {
      "cell_type": "code",
      "metadata": {
        "id": "fR8lrQ2Ilyv3",
        "colab": {
          "base_uri": "https://localhost:8080/"
        },
        "outputId": "dde7f0b3-8c67-4dfc-ef37-70ba21034126"
      },
      "source": [
        "#classification report for SVM\n",
        "y_pred = [label_text(x,SVM_model,count_vect) for x in val_df.X]\n",
        "print(classification_report(y_test, y_pred))"
      ],
      "execution_count": null,
      "outputs": [
        {
          "output_type": "stream",
          "text": [
            "              precision    recall  f1-score   support\n",
            "\n",
            "         0.0       0.65      0.36      0.46        56\n",
            "         1.0       0.48      0.75      0.58        44\n",
            "\n",
            "    accuracy                           0.53       100\n",
            "   macro avg       0.56      0.55      0.52       100\n",
            "weighted avg       0.57      0.53      0.51       100\n",
            "\n"
          ],
          "name": "stdout"
        }
      ]
    },
    {
      "cell_type": "code",
      "metadata": {
        "id": "KXLMTixnlzJ1",
        "colab": {
          "base_uri": "https://localhost:8080/",
          "height": 281
        },
        "outputId": "8aaa12b0-80c9-4f49-d7bd-fbf9d33e9ed9"
      },
      "source": [
        "cm = confusion_matrix(y_test, y_pred)\n",
        "df_cm = pd.DataFrame(cm)\n",
        "show_confusion_matrix(df_cm)"
      ],
      "execution_count": null,
      "outputs": [
        {
          "output_type": "display_data",
          "data": {
            "image/png": "[encoded data removed]",
            "text/plain": [
              "<Figure size 432x288 with 2 Axes>"
            ]
          },
          "metadata": {
            "tags": [],
            "needs_background": "light"
          }
        }
      ]
    },
    {
      "cell_type": "code",
      "metadata": {
        "id": "gGwPIXFZtb4V",
        "colab": {
          "base_uri": "https://localhost:8080/"
        },
        "outputId": "ae7946c1-dcb3-42d7-a160-6ea8e1fec8ed"
      },
      "source": [
        "#classification report for ada\n",
        "y_pred = [label_text(x,ada_model,count_vect) for x in val_df.X]\n",
        "print(classification_report(y_test, y_pred))"
      ],
      "execution_count": null,
      "outputs": [
        {
          "output_type": "stream",
          "text": [
            "              precision    recall  f1-score   support\n",
            "\n",
            "         0.0       1.00      0.02      0.04        56\n",
            "         1.0       0.44      1.00      0.62        44\n",
            "\n",
            "    accuracy                           0.45       100\n",
            "   macro avg       0.72      0.51      0.33       100\n",
            "weighted avg       0.76      0.45      0.29       100\n",
            "\n"
          ],
          "name": "stdout"
        }
      ]
    },
    {
      "cell_type": "code",
      "metadata": {
        "id": "Un2RGTrC5XtC",
        "colab": {
          "base_uri": "https://localhost:8080/",
          "height": 281
        },
        "outputId": "765c7491-6579-4178-8b43-cfe96ba7e9f0"
      },
      "source": [
        "cm = confusion_matrix(y_test, y_pred)\n",
        "df_cm = pd.DataFrame(cm)\n",
        "show_confusion_matrix(df_cm)"
      ],
      "execution_count": null,
      "outputs": [
        {
          "output_type": "display_data",
          "data": {
            "image/png": "[encoded data removed]",
            "text/plain": [
              "<Figure size 432x288 with 2 Axes>"
            ]
          },
          "metadata": {
            "tags": [],
            "needs_background": "light"
          }
        }
      ]
    },
    {
      "cell_type": "code",
      "metadata": {
        "id": "36suvZB23aWc",
        "colab": {
          "base_uri": "https://localhost:8080/"
        },
        "outputId": "ff0671b4-aa65-4d39-e0a0-cb38124ff560"
      },
      "source": [
        "#classification report for GB\n",
        "y_pred = [label_text(x,GB_model,count_vect) for x in val_df.X]\n",
        "print(classification_report(y_test, y_pred))"
      ],
      "execution_count": null,
      "outputs": [
        {
          "output_type": "stream",
          "text": [
            "              precision    recall  f1-score   support\n",
            "\n",
            "         0.0       1.00      0.02      0.04        56\n",
            "         1.0       0.44      1.00      0.62        44\n",
            "\n",
            "    accuracy                           0.45       100\n",
            "   macro avg       0.72      0.51      0.33       100\n",
            "weighted avg       0.76      0.45      0.29       100\n",
            "\n"
          ],
          "name": "stdout"
        }
      ]
    },
    {
      "cell_type": "code",
      "metadata": {
        "id": "jLIRyaNr3ib8",
        "colab": {
          "base_uri": "https://localhost:8080/",
          "height": 281
        },
        "outputId": "7c7fa487-2b79-4755-f336-2aca76ad50c3"
      },
      "source": [
        "cm = confusion_matrix(y_test, y_pred)\n",
        "df_cm = pd.DataFrame(cm)\n",
        "show_confusion_matrix(df_cm)"
      ],
      "execution_count": null,
      "outputs": [
        {
          "output_type": "display_data",
          "data": {
            "image/png": "[encoded data removed]",
            "text/plain": [
              "<Figure size 432x288 with 2 Axes>"
            ]
          },
          "metadata": {
            "tags": [],
            "needs_background": "light"
          }
        }
      ]
    },
    {
      "cell_type": "code",
      "metadata": {
        "id": "3mz6PWTwdprx",
        "colab": {
          "base_uri": "https://localhost:8080/"
        },
        "outputId": "34fd222c-7cf3-4ffc-f5f3-a288591f2059"
      },
      "source": [
        "#classification report for CNN model (done in a different script)\n",
        "from keras import layers\n",
        "from keras.models import Sequential\n",
        "from keras.layers import Dense, Activation\n",
        "from keras.preprocessing.text import Tokenizer, one_hot\n",
        "from keras.preprocessing.sequence import pad_sequences\n",
        "\n",
        "import pickle\n",
        "from keras.models import load_model\n",
        "\n",
        "maxlen = max(len(x) for x in X) # longest text in X\n",
        "\n",
        "with open('/content/gdrive/My Drive/covid_mining/tokenizer.pickle', 'rb') as handle:\n",
        "    cnn_tokenizer = pickle.load(handle)\n",
        "\n",
        "model_load = load_model('/content/gdrive/My Drive/covid_mining/CNN_model.h5')\n",
        "\n",
        "def cnn_label_text(text,model,tokenizer):\n",
        "    X_sample = [text]\n",
        "    X_sample = tokenizer.texts_to_sequences(X_sample)\n",
        "    X_sample = pad_sequences(X_sample, padding='post', maxlen=maxlen)\n",
        "\n",
        "    pred = int(model.predict(X_sample).flatten()[0] > 0.5)\n",
        "    \n",
        "    return pred\n",
        "\n",
        "y_pred = [cnn_label_text(x,model_load,cnn_tokenizer) for x in val_df.X]\n",
        "print(classification_report(y_test, y_pred))"
      ],
      "execution_count": null,
      "outputs": [
        {
          "output_type": "stream",
          "text": [
            "              precision    recall  f1-score   support\n",
            "\n",
            "         0.0       0.63      0.39      0.48        56\n",
            "         1.0       0.48      0.70      0.57        44\n",
            "\n",
            "    accuracy                           0.53       100\n",
            "   macro avg       0.55      0.55      0.53       100\n",
            "weighted avg       0.56      0.53      0.52       100\n",
            "\n"
          ],
          "name": "stdout"
        }
      ]
    },
    {
      "cell_type": "markdown",
      "metadata": {
        "id": "UqsbAi9Yigpn"
      },
      "source": [
        "implementing Vader lexicon"
      ]
    },
    {
      "cell_type": "code",
      "metadata": {
        "id": "_bxxY-YyjMa8"
      },
      "source": [
        "path = '/content/gdrive/My Drive/covid_mining/annotated_sentiment_manual_validation_set.csv' #this is from our manually annotated sentiment set\n",
        "val_df = pd.read_csv(path,encoding='UTF-8')\n",
        "\n",
        "val_df = val_df[['title','vote_label']].dropna()\n",
        "val_df.columns = ['X','y']\n",
        "y_test = val_df.y.tolist()\n",
        "X_test = val_df.X.tolist()"
      ],
      "execution_count": null,
      "outputs": []
    },
    {
      "cell_type": "code",
      "metadata": {
        "id": "rQZxWc4ii0bp",
        "colab": {
          "base_uri": "https://localhost:8080/"
        },
        "outputId": "a403316e-bbff-472c-8773-f284017c412a"
      },
      "source": [
        "nltk.download('vader_lexicon')"
      ],
      "execution_count": null,
      "outputs": [
        {
          "output_type": "stream",
          "text": [
            "[nltk_data] Downloading package vader_lexicon to /root/nltk_data...\n"
          ],
          "name": "stdout"
        },
        {
          "output_type": "execute_result",
          "data": {
            "text/plain": [
              "True"
            ]
          },
          "metadata": {
            "tags": []
          },
          "execution_count": 30
        }
      ]
    },
    {
      "cell_type": "code",
      "metadata": {
        "id": "f-QbY_Yai2fw",
        "colab": {
          "base_uri": "https://localhost:8080/",
          "height": 266
        },
        "outputId": "10b59de5-f0fa-498c-8d24-bdbcd96078a5"
      },
      "source": [
        "from nltk.sentiment.vader import SentimentIntensityAnalyzer as SIA\n",
        "\n",
        "sia = SIA()\n",
        "results = []\n",
        "\n",
        "for line in X_test:\n",
        "    pol_score = sia.polarity_scores(line)\n",
        "    pol_score['headline'] = line\n",
        "    results.append(pol_score)\n",
        "\n",
        "print(results[:3])\n",
        "\n",
        "df = pd.DataFrame.from_records(results)\n",
        "\n",
        "df['label'] = 0\n",
        "df.loc[df['compound'] > 0.2, 'label'] = 1\n",
        "df.loc[df['compound'] < -0.2, 'label'] = 0\n",
        "df.head()"
      ],
      "execution_count": null,
      "outputs": [
        {
          "output_type": "stream",
          "text": [
            "/usr/local/lib/python3.6/dist-packages/nltk/twitter/__init__.py:20: UserWarning: The twython library has not been installed. Some functionality from the twitter package will not be available.\n",
            "  warnings.warn(\"The twython library has not been installed. \"\n"
          ],
          "name": "stderr"
        },
        {
          "output_type": "stream",
          "text": [
            "[{'neg': 0.0, 'neu': 0.645, 'pos': 0.355, 'compound': 0.6705, 'headline': 'How Gen Z is using art and creativity to improve their mental health'}, {'neg': 0.0, 'neu': 1.0, 'pos': 0.0, 'compound': 0.0, 'headline': \"Danny Meyer: 'Restaurants are not going to be back full force by June'\"}, {'neg': 0.358, 'neu': 0.642, 'pos': 0.0, 'compound': -0.5994, 'headline': 'Bolivia’s Covid Death Rate Soared As Politicians Clashed'}]\n"
          ],
          "name": "stdout"
        },
        {
          "output_type": "execute_result",
          "data": {
            "text/html": [
              "<div>\n",
              "<style scoped>\n",
              "    .dataframe tbody tr th:only-of-type {\n",
              "        vertical-align: middle;\n",
              "    }\n",
              "\n",
              "    .dataframe tbody tr th {\n",
              "        vertical-align: top;\n",
              "    }\n",
              "\n",
              "    .dataframe thead th {\n",
              "        text-align: right;\n",
              "    }\n",
              "</style>\n",
              "<table border=\"1\" class=\"dataframe\">\n",
              "  <thead>\n",
              "    <tr style=\"text-align: right;\">\n",
              "      <th></th>\n",
              "      <th>neg</th>\n",
              "      <th>neu</th>\n",
              "      <th>pos</th>\n",
              "      <th>compound</th>\n",
              "      <th>headline</th>\n",
              "      <th>label</th>\n",
              "    </tr>\n",
              "  </thead>\n",
              "  <tbody>\n",
              "    <tr>\n",
              "      <th>0</th>\n",
              "      <td>0.000</td>\n",
              "      <td>0.645</td>\n",
              "      <td>0.355</td>\n",
              "      <td>0.6705</td>\n",
              "      <td>How Gen Z is using art and creativity to impro...</td>\n",
              "      <td>1</td>\n",
              "    </tr>\n",
              "    <tr>\n",
              "      <th>1</th>\n",
              "      <td>0.000</td>\n",
              "      <td>1.000</td>\n",
              "      <td>0.000</td>\n",
              "      <td>0.0000</td>\n",
              "      <td>Danny Meyer: 'Restaurants are not going to be ...</td>\n",
              "      <td>0</td>\n",
              "    </tr>\n",
              "    <tr>\n",
              "      <th>2</th>\n",
              "      <td>0.358</td>\n",
              "      <td>0.642</td>\n",
              "      <td>0.000</td>\n",
              "      <td>-0.5994</td>\n",
              "      <td>Bolivia’s Covid Death Rate Soared As Politicia...</td>\n",
              "      <td>0</td>\n",
              "    </tr>\n",
              "    <tr>\n",
              "      <th>3</th>\n",
              "      <td>0.000</td>\n",
              "      <td>1.000</td>\n",
              "      <td>0.000</td>\n",
              "      <td>0.0000</td>\n",
              "      <td>The ‘Green Shoots’ at PVH</td>\n",
              "      <td>0</td>\n",
              "    </tr>\n",
              "    <tr>\n",
              "      <th>4</th>\n",
              "      <td>0.000</td>\n",
              "      <td>0.704</td>\n",
              "      <td>0.296</td>\n",
              "      <td>0.2732</td>\n",
              "      <td>Nexera Energy : Q2 2020 Remarks | MarketScreener</td>\n",
              "      <td>1</td>\n",
              "    </tr>\n",
              "  </tbody>\n",
              "</table>\n",
              "</div>"
            ],
            "text/plain": [
              "     neg    neu  ...                                           headline  label\n",
              "0  0.000  0.645  ...  How Gen Z is using art and creativity to impro...      1\n",
              "1  0.000  1.000  ...  Danny Meyer: 'Restaurants are not going to be ...      0\n",
              "2  0.358  0.642  ...  Bolivia’s Covid Death Rate Soared As Politicia...      0\n",
              "3  0.000  1.000  ...                          The ‘Green Shoots’ at PVH      0\n",
              "4  0.000  0.704  ...   Nexera Energy : Q2 2020 Remarks | MarketScreener      1\n",
              "\n",
              "[5 rows x 6 columns]"
            ]
          },
          "metadata": {
            "tags": []
          },
          "execution_count": 31
        }
      ]
    },
    {
      "cell_type": "code",
      "metadata": {
        "id": "1VSvG-_QtHXe",
        "colab": {
          "base_uri": "https://localhost:8080/"
        },
        "outputId": "d9452fa4-cdba-4c5d-c697-f154015bd311"
      },
      "source": [
        "def label_vader(X_test):\n",
        "    sia = SIA()\n",
        "    results = []\n",
        "\n",
        "    for line in X_test:\n",
        "        pol_score = sia.polarity_scores(line)\n",
        "        pol_score['headline'] = line\n",
        "        results.append(pol_score)\n",
        "\n",
        "    #print(results[:3])\n",
        "\n",
        "    df = pd.DataFrame.from_records(results)\n",
        "\n",
        "    df['label'] = 0\n",
        "    df.loc[df['compound'] > 0.2, 'label'] = 1\n",
        "    df.loc[df['compound'] < -0.2, 'label'] = 0\n",
        "    return df.label.tolist()\n",
        "\n",
        "label_vader(X_test)"
      ],
      "execution_count": null,
      "outputs": [
        {
          "output_type": "execute_result",
          "data": {
            "text/plain": [
              "[1,\n",
              " 0,\n",
              " 0,\n",
              " 0,\n",
              " 1,\n",
              " 1,\n",
              " 0,\n",
              " 0,\n",
              " 0,\n",
              " 0,\n",
              " 0,\n",
              " 0,\n",
              " 0,\n",
              " 0,\n",
              " 1,\n",
              " 1,\n",
              " 0,\n",
              " 0,\n",
              " 1,\n",
              " 0,\n",
              " 1,\n",
              " 0,\n",
              " 0,\n",
              " 1,\n",
              " 0,\n",
              " 1,\n",
              " 0,\n",
              " 1,\n",
              " 0,\n",
              " 0,\n",
              " 0,\n",
              " 1,\n",
              " 0,\n",
              " 0,\n",
              " 0,\n",
              " 0,\n",
              " 0,\n",
              " 0,\n",
              " 0,\n",
              " 0,\n",
              " 0,\n",
              " 0,\n",
              " 0,\n",
              " 0,\n",
              " 0,\n",
              " 0,\n",
              " 1,\n",
              " 0,\n",
              " 0,\n",
              " 0,\n",
              " 0,\n",
              " 0,\n",
              " 0,\n",
              " 0,\n",
              " 1,\n",
              " 0,\n",
              " 0,\n",
              " 0,\n",
              " 1,\n",
              " 1,\n",
              " 0,\n",
              " 1,\n",
              " 0,\n",
              " 0,\n",
              " 1,\n",
              " 1,\n",
              " 0,\n",
              " 0,\n",
              " 0,\n",
              " 0,\n",
              " 0,\n",
              " 0,\n",
              " 0,\n",
              " 1,\n",
              " 0,\n",
              " 0,\n",
              " 0,\n",
              " 0,\n",
              " 0,\n",
              " 1,\n",
              " 0,\n",
              " 1,\n",
              " 1,\n",
              " 0,\n",
              " 1,\n",
              " 0,\n",
              " 1,\n",
              " 0,\n",
              " 0,\n",
              " 1,\n",
              " 1,\n",
              " 0,\n",
              " 1,\n",
              " 0,\n",
              " 0,\n",
              " 1,\n",
              " 1,\n",
              " 0,\n",
              " 1,\n",
              " 0]"
            ]
          },
          "metadata": {
            "tags": []
          },
          "execution_count": 32
        }
      ]
    },
    {
      "cell_type": "code",
      "metadata": {
        "id": "eaBNwDE7i8WB",
        "colab": {
          "base_uri": "https://localhost:8080/"
        },
        "outputId": "b4ff3f9e-832f-444e-8398-e0d09035cc61"
      },
      "source": [
        "print(classification_report(y_test, df.label))"
      ],
      "execution_count": null,
      "outputs": [
        {
          "output_type": "stream",
          "text": [
            "              precision    recall  f1-score   support\n",
            "\n",
            "         0.0       0.64      0.80      0.71        56\n",
            "         1.0       0.63      0.43      0.51        44\n",
            "\n",
            "    accuracy                           0.64       100\n",
            "   macro avg       0.64      0.62      0.61       100\n",
            "weighted avg       0.64      0.64      0.63       100\n",
            "\n"
          ],
          "name": "stdout"
        }
      ]
    },
    {
      "cell_type": "code",
      "metadata": {
        "id": "ir5jm7fVrawj",
        "colab": {
          "base_uri": "https://localhost:8080/",
          "height": 285
        },
        "outputId": "7b3668c8-2fc1-4313-93ef-89473f9deeed"
      },
      "source": [
        "cm = confusion_matrix(y_test, df.label)\n",
        "df_cm = pd.DataFrame(cm)\n",
        "show_confusion_matrix(df_cm)"
      ],
      "execution_count": null,
      "outputs": [
        {
          "output_type": "display_data",
          "data": {
            "image/png": "[encoded data removed]",
            "text/plain": [
              "<Figure size 432x288 with 2 Axes>"
            ]
          },
          "metadata": {
            "tags": [],
            "needs_background": "light"
          }
        }
      ]
    },
    {
      "cell_type": "markdown",
      "metadata": {
        "id": "VNisROd8rCFR"
      },
      "source": [
        "Hard voting between LR, Vader, AdaBoost, GB, CNN\n",
        "\n",
        "\n"
      ]
    },
    {
      "cell_type": "code",
      "metadata": {
        "id": "GUoaIHA-rAjZ",
        "colab": {
          "base_uri": "https://localhost:8080/",
          "height": 402
        },
        "outputId": "0e4abb9c-ed43-4e59-f964-dcabffe66d55"
      },
      "source": [
        "LR_y_pred = [label_text(x,LR_model,count_vect) for x in val_df.X]\n",
        "SVM_y_pred = [label_text(x,SVM_model,count_vect) for x in val_df.X]\n",
        "ADA_y_pred = [label_text(x,ada_model,count_vect) for x in val_df.X]\n",
        "vader_y_pred = label_vader(X_test)\n",
        "GB_y_pred = [label_text(x,GB_model,count_vect) for x in val_df.X]\n",
        "cnn_y_pred = [cnn_label_text(x,model_load,cnn_tokenizer) for x in val_df.X]\n",
        "\n",
        "vdf = [pd.Series(LR_y_pred),pd.Series(SVM_y_pred),pd.Series(ADA_y_pred),pd.Series(vader_y_pred),pd.Series(GB_y_pred),pd.Series(cnn_y_pred)]\n",
        "vdf = pd.concat(vdf,axis=1)\n",
        "vdf.columns = ['LR_predict','SVM','ADA','Vader','GB','CNN']\n",
        "vdf"
      ],
      "execution_count": null,
      "outputs": [
        {
          "output_type": "execute_result",
          "data": {
            "text/html": [
              "<div>\n",
              "<style scoped>\n",
              "    .dataframe tbody tr th:only-of-type {\n",
              "        vertical-align: middle;\n",
              "    }\n",
              "\n",
              "    .dataframe tbody tr th {\n",
              "        vertical-align: top;\n",
              "    }\n",
              "\n",
              "    .dataframe thead th {\n",
              "        text-align: right;\n",
              "    }\n",
              "</style>\n",
              "<table border=\"1\" class=\"dataframe\">\n",
              "  <thead>\n",
              "    <tr style=\"text-align: right;\">\n",
              "      <th></th>\n",
              "      <th>LR_predict</th>\n",
              "      <th>SVM</th>\n",
              "      <th>ADA</th>\n",
              "      <th>Vader</th>\n",
              "      <th>GB</th>\n",
              "      <th>CNN</th>\n",
              "    </tr>\n",
              "  </thead>\n",
              "  <tbody>\n",
              "    <tr>\n",
              "      <th>0</th>\n",
              "      <td>0</td>\n",
              "      <td>0</td>\n",
              "      <td>1</td>\n",
              "      <td>1</td>\n",
              "      <td>1</td>\n",
              "      <td>1</td>\n",
              "    </tr>\n",
              "    <tr>\n",
              "      <th>1</th>\n",
              "      <td>0</td>\n",
              "      <td>1</td>\n",
              "      <td>1</td>\n",
              "      <td>0</td>\n",
              "      <td>1</td>\n",
              "      <td>1</td>\n",
              "    </tr>\n",
              "    <tr>\n",
              "      <th>2</th>\n",
              "      <td>1</td>\n",
              "      <td>1</td>\n",
              "      <td>1</td>\n",
              "      <td>0</td>\n",
              "      <td>1</td>\n",
              "      <td>0</td>\n",
              "    </tr>\n",
              "    <tr>\n",
              "      <th>3</th>\n",
              "      <td>1</td>\n",
              "      <td>1</td>\n",
              "      <td>1</td>\n",
              "      <td>0</td>\n",
              "      <td>1</td>\n",
              "      <td>1</td>\n",
              "    </tr>\n",
              "    <tr>\n",
              "      <th>4</th>\n",
              "      <td>0</td>\n",
              "      <td>1</td>\n",
              "      <td>1</td>\n",
              "      <td>1</td>\n",
              "      <td>1</td>\n",
              "      <td>1</td>\n",
              "    </tr>\n",
              "    <tr>\n",
              "      <th>...</th>\n",
              "      <td>...</td>\n",
              "      <td>...</td>\n",
              "      <td>...</td>\n",
              "      <td>...</td>\n",
              "      <td>...</td>\n",
              "      <td>...</td>\n",
              "    </tr>\n",
              "    <tr>\n",
              "      <th>95</th>\n",
              "      <td>1</td>\n",
              "      <td>1</td>\n",
              "      <td>1</td>\n",
              "      <td>1</td>\n",
              "      <td>1</td>\n",
              "      <td>1</td>\n",
              "    </tr>\n",
              "    <tr>\n",
              "      <th>96</th>\n",
              "      <td>1</td>\n",
              "      <td>1</td>\n",
              "      <td>1</td>\n",
              "      <td>1</td>\n",
              "      <td>1</td>\n",
              "      <td>1</td>\n",
              "    </tr>\n",
              "    <tr>\n",
              "      <th>97</th>\n",
              "      <td>0</td>\n",
              "      <td>0</td>\n",
              "      <td>1</td>\n",
              "      <td>0</td>\n",
              "      <td>1</td>\n",
              "      <td>0</td>\n",
              "    </tr>\n",
              "    <tr>\n",
              "      <th>98</th>\n",
              "      <td>1</td>\n",
              "      <td>1</td>\n",
              "      <td>1</td>\n",
              "      <td>1</td>\n",
              "      <td>1</td>\n",
              "      <td>1</td>\n",
              "    </tr>\n",
              "    <tr>\n",
              "      <th>99</th>\n",
              "      <td>1</td>\n",
              "      <td>1</td>\n",
              "      <td>1</td>\n",
              "      <td>0</td>\n",
              "      <td>1</td>\n",
              "      <td>0</td>\n",
              "    </tr>\n",
              "  </tbody>\n",
              "</table>\n",
              "<p>100 rows × 6 columns</p>\n",
              "</div>"
            ],
            "text/plain": [
              "    LR_predict  SVM  ADA  Vader  GB  CNN\n",
              "0            0    0    1      1   1    1\n",
              "1            0    1    1      0   1    1\n",
              "2            1    1    1      0   1    0\n",
              "3            1    1    1      0   1    1\n",
              "4            0    1    1      1   1    1\n",
              "..         ...  ...  ...    ...  ..  ...\n",
              "95           1    1    1      1   1    1\n",
              "96           1    1    1      1   1    1\n",
              "97           0    0    1      0   1    0\n",
              "98           1    1    1      1   1    1\n",
              "99           1    1    1      0   1    0\n",
              "\n",
              "[100 rows x 6 columns]"
            ]
          },
          "metadata": {
            "tags": []
          },
          "execution_count": 79
        }
      ]
    },
    {
      "cell_type": "code",
      "metadata": {
        "id": "I4bYj8TbujJy"
      },
      "source": [
        "y_pred = vdf.mode(axis='columns', numeric_only=True)[0].tolist()"
      ],
      "execution_count": null,
      "outputs": []
    },
    {
      "cell_type": "code",
      "metadata": {
        "id": "6SULXF2ovdtn",
        "colab": {
          "base_uri": "https://localhost:8080/"
        },
        "outputId": "33556395-eb7c-4e2e-d903-c27f36546581"
      },
      "source": [
        "print(classification_report(y_test, y_pred))"
      ],
      "execution_count": null,
      "outputs": [
        {
          "output_type": "stream",
          "text": [
            "              precision    recall  f1-score   support\n",
            "\n",
            "         0.0       0.59      0.29      0.39        56\n",
            "         1.0       0.45      0.75      0.56        44\n",
            "\n",
            "    accuracy                           0.49       100\n",
            "   macro avg       0.52      0.52      0.47       100\n",
            "weighted avg       0.53      0.49      0.46       100\n",
            "\n"
          ],
          "name": "stdout"
        }
      ]
    },
    {
      "cell_type": "code",
      "metadata": {
        "id": "0X4WlaUFBzWR",
        "colab": {
          "base_uri": "https://localhost:8080/",
          "height": 285
        },
        "outputId": "2a6c20fa-ffe1-4a58-d680-251b225caee0"
      },
      "source": [
        "cm = confusion_matrix(y_test, y_pred)\n",
        "df_cm = pd.DataFrame(cm)\n",
        "show_confusion_matrix(df_cm)"
      ],
      "execution_count": null,
      "outputs": [
        {
          "output_type": "display_data",
          "data": {
            "image/png": "[encoded data removed]",
            "text/plain": [
              "<Figure size 432x288 with 2 Axes>"
            ]
          },
          "metadata": {
            "tags": [],
            "needs_background": "light"
          }
        }
      ]
    },
    {
      "cell_type": "code",
      "metadata": {
        "id": "LkEXQigj33h8",
        "colab": {
          "base_uri": "https://localhost:8080/",
          "height": 402
        },
        "outputId": "494be28a-5631-4a31-9dfa-ee04091a269f"
      },
      "source": [
        "vdf = [pd.Series(LR_y_pred),pd.Series(vader_y_pred),pd.Series(cnn_y_pred)]\n",
        "vdf = pd.concat(vdf,axis=1)\n",
        "vdf.columns = ['LR_predict','Vader','CNN']\n",
        "vdf"
      ],
      "execution_count": null,
      "outputs": [
        {
          "output_type": "execute_result",
          "data": {
            "text/html": [
              "<div>\n",
              "<style scoped>\n",
              "    .dataframe tbody tr th:only-of-type {\n",
              "        vertical-align: middle;\n",
              "    }\n",
              "\n",
              "    .dataframe tbody tr th {\n",
              "        vertical-align: top;\n",
              "    }\n",
              "\n",
              "    .dataframe thead th {\n",
              "        text-align: right;\n",
              "    }\n",
              "</style>\n",
              "<table border=\"1\" class=\"dataframe\">\n",
              "  <thead>\n",
              "    <tr style=\"text-align: right;\">\n",
              "      <th></th>\n",
              "      <th>LR_predict</th>\n",
              "      <th>Vader</th>\n",
              "      <th>CNN</th>\n",
              "    </tr>\n",
              "  </thead>\n",
              "  <tbody>\n",
              "    <tr>\n",
              "      <th>0</th>\n",
              "      <td>0</td>\n",
              "      <td>1</td>\n",
              "      <td>1</td>\n",
              "    </tr>\n",
              "    <tr>\n",
              "      <th>1</th>\n",
              "      <td>0</td>\n",
              "      <td>0</td>\n",
              "      <td>1</td>\n",
              "    </tr>\n",
              "    <tr>\n",
              "      <th>2</th>\n",
              "      <td>1</td>\n",
              "      <td>0</td>\n",
              "      <td>0</td>\n",
              "    </tr>\n",
              "    <tr>\n",
              "      <th>3</th>\n",
              "      <td>1</td>\n",
              "      <td>0</td>\n",
              "      <td>1</td>\n",
              "    </tr>\n",
              "    <tr>\n",
              "      <th>4</th>\n",
              "      <td>0</td>\n",
              "      <td>1</td>\n",
              "      <td>1</td>\n",
              "    </tr>\n",
              "    <tr>\n",
              "      <th>...</th>\n",
              "      <td>...</td>\n",
              "      <td>...</td>\n",
              "      <td>...</td>\n",
              "    </tr>\n",
              "    <tr>\n",
              "      <th>95</th>\n",
              "      <td>1</td>\n",
              "      <td>1</td>\n",
              "      <td>1</td>\n",
              "    </tr>\n",
              "    <tr>\n",
              "      <th>96</th>\n",
              "      <td>1</td>\n",
              "      <td>1</td>\n",
              "      <td>1</td>\n",
              "    </tr>\n",
              "    <tr>\n",
              "      <th>97</th>\n",
              "      <td>0</td>\n",
              "      <td>0</td>\n",
              "      <td>0</td>\n",
              "    </tr>\n",
              "    <tr>\n",
              "      <th>98</th>\n",
              "      <td>1</td>\n",
              "      <td>1</td>\n",
              "      <td>1</td>\n",
              "    </tr>\n",
              "    <tr>\n",
              "      <th>99</th>\n",
              "      <td>1</td>\n",
              "      <td>0</td>\n",
              "      <td>0</td>\n",
              "    </tr>\n",
              "  </tbody>\n",
              "</table>\n",
              "<p>100 rows × 3 columns</p>\n",
              "</div>"
            ],
            "text/plain": [
              "    LR_predict  Vader  CNN\n",
              "0            0      1    1\n",
              "1            0      0    1\n",
              "2            1      0    0\n",
              "3            1      0    1\n",
              "4            0      1    1\n",
              "..         ...    ...  ...\n",
              "95           1      1    1\n",
              "96           1      1    1\n",
              "97           0      0    0\n",
              "98           1      1    1\n",
              "99           1      0    0\n",
              "\n",
              "[100 rows x 3 columns]"
            ]
          },
          "metadata": {
            "tags": []
          },
          "execution_count": 83
        }
      ]
    },
    {
      "cell_type": "code",
      "metadata": {
        "id": "RTtutbNC4EeU",
        "colab": {
          "base_uri": "https://localhost:8080/"
        },
        "outputId": "8a233e24-6740-4ea9-ce7b-a6649bcc15c8"
      },
      "source": [
        "y_pred = vdf.mode(axis='columns', numeric_only=True)[0].tolist()\n",
        "print(classification_report(y_test, y_pred))"
      ],
      "execution_count": null,
      "outputs": [
        {
          "output_type": "stream",
          "text": [
            "              precision    recall  f1-score   support\n",
            "\n",
            "         0.0       0.64      0.52      0.57        56\n",
            "         1.0       0.51      0.64      0.57        44\n",
            "\n",
            "    accuracy                           0.57       100\n",
            "   macro avg       0.58      0.58      0.57       100\n",
            "weighted avg       0.58      0.57      0.57       100\n",
            "\n"
          ],
          "name": "stdout"
        }
      ]
    },
    {
      "cell_type": "code",
      "metadata": {
        "id": "C2KtCZ3FB4xn",
        "colab": {
          "base_uri": "https://localhost:8080/",
          "height": 281
        },
        "outputId": "390cd521-d233-4f0b-a339-bf2c8e5de5a8"
      },
      "source": [
        "cm = confusion_matrix(y_test, y_pred)\n",
        "df_cm = pd.DataFrame(cm)\n",
        "show_confusion_matrix(df_cm)"
      ],
      "execution_count": null,
      "outputs": [
        {
          "output_type": "display_data",
          "data": {
            "image/png": "[encoded data removed]",
            "text/plain": [
              "<Figure size 432x288 with 2 Axes>"
            ]
          },
          "metadata": {
            "tags": [],
            "needs_background": "light"
          }
        }
      ]
    },
    {
      "cell_type": "code",
      "metadata": {
        "id": "hyYEzLB84bNq",
        "colab": {
          "base_uri": "https://localhost:8080/",
          "height": 402
        },
        "outputId": "161cd24b-54f8-4aef-f7f9-45dabb5b41b2"
      },
      "source": [
        "vdf = [pd.Series(LR_y_pred),pd.Series(vader_y_pred)]\n",
        "vdf = pd.concat(vdf,axis=1)\n",
        "vdf.columns = ['LR_predict','Vader']\n",
        "vdf"
      ],
      "execution_count": null,
      "outputs": [
        {
          "output_type": "execute_result",
          "data": {
            "text/html": [
              "<div>\n",
              "<style scoped>\n",
              "    .dataframe tbody tr th:only-of-type {\n",
              "        vertical-align: middle;\n",
              "    }\n",
              "\n",
              "    .dataframe tbody tr th {\n",
              "        vertical-align: top;\n",
              "    }\n",
              "\n",
              "    .dataframe thead th {\n",
              "        text-align: right;\n",
              "    }\n",
              "</style>\n",
              "<table border=\"1\" class=\"dataframe\">\n",
              "  <thead>\n",
              "    <tr style=\"text-align: right;\">\n",
              "      <th></th>\n",
              "      <th>LR_predict</th>\n",
              "      <th>Vader</th>\n",
              "    </tr>\n",
              "  </thead>\n",
              "  <tbody>\n",
              "    <tr>\n",
              "      <th>0</th>\n",
              "      <td>0</td>\n",
              "      <td>1</td>\n",
              "    </tr>\n",
              "    <tr>\n",
              "      <th>1</th>\n",
              "      <td>0</td>\n",
              "      <td>0</td>\n",
              "    </tr>\n",
              "    <tr>\n",
              "      <th>2</th>\n",
              "      <td>1</td>\n",
              "      <td>0</td>\n",
              "    </tr>\n",
              "    <tr>\n",
              "      <th>3</th>\n",
              "      <td>1</td>\n",
              "      <td>0</td>\n",
              "    </tr>\n",
              "    <tr>\n",
              "      <th>4</th>\n",
              "      <td>0</td>\n",
              "      <td>1</td>\n",
              "    </tr>\n",
              "    <tr>\n",
              "      <th>...</th>\n",
              "      <td>...</td>\n",
              "      <td>...</td>\n",
              "    </tr>\n",
              "    <tr>\n",
              "      <th>95</th>\n",
              "      <td>1</td>\n",
              "      <td>1</td>\n",
              "    </tr>\n",
              "    <tr>\n",
              "      <th>96</th>\n",
              "      <td>1</td>\n",
              "      <td>1</td>\n",
              "    </tr>\n",
              "    <tr>\n",
              "      <th>97</th>\n",
              "      <td>0</td>\n",
              "      <td>0</td>\n",
              "    </tr>\n",
              "    <tr>\n",
              "      <th>98</th>\n",
              "      <td>1</td>\n",
              "      <td>1</td>\n",
              "    </tr>\n",
              "    <tr>\n",
              "      <th>99</th>\n",
              "      <td>1</td>\n",
              "      <td>0</td>\n",
              "    </tr>\n",
              "  </tbody>\n",
              "</table>\n",
              "<p>100 rows × 2 columns</p>\n",
              "</div>"
            ],
            "text/plain": [
              "    LR_predict  Vader\n",
              "0            0      1\n",
              "1            0      0\n",
              "2            1      0\n",
              "3            1      0\n",
              "4            0      1\n",
              "..         ...    ...\n",
              "95           1      1\n",
              "96           1      1\n",
              "97           0      0\n",
              "98           1      1\n",
              "99           1      0\n",
              "\n",
              "[100 rows x 2 columns]"
            ]
          },
          "metadata": {
            "tags": []
          },
          "execution_count": 86
        }
      ]
    },
    {
      "cell_type": "code",
      "metadata": {
        "id": "p0Xag-er4lO2",
        "colab": {
          "base_uri": "https://localhost:8080/"
        },
        "outputId": "aa6f0d4b-d0ca-49b0-bad6-357cad469f70"
      },
      "source": [
        "y_pred = vdf.mode(axis='columns', numeric_only=True)[0].tolist()\n",
        "print(classification_report(y_test, y_pred))"
      ],
      "execution_count": null,
      "outputs": [
        {
          "output_type": "stream",
          "text": [
            "              precision    recall  f1-score   support\n",
            "\n",
            "         0.0       0.63      0.93      0.75        56\n",
            "         1.0       0.78      0.32      0.45        44\n",
            "\n",
            "    accuracy                           0.66       100\n",
            "   macro avg       0.71      0.62      0.60       100\n",
            "weighted avg       0.70      0.66      0.62       100\n",
            "\n"
          ],
          "name": "stdout"
        }
      ]
    },
    {
      "cell_type": "code",
      "metadata": {
        "id": "Rkv-RlN2B8cS",
        "colab": {
          "base_uri": "https://localhost:8080/",
          "height": 281
        },
        "outputId": "91006d8d-a15a-453c-830d-7e23047a5c85"
      },
      "source": [
        "cm = confusion_matrix(y_test, y_pred)\n",
        "df_cm = pd.DataFrame(cm)\n",
        "show_confusion_matrix(df_cm)"
      ],
      "execution_count": null,
      "outputs": [
        {
          "output_type": "display_data",
          "data": {
            "image/png": "[encoded data removed]",
            "text/plain": [
              "<Figure size 432x288 with 2 Axes>"
            ]
          },
          "metadata": {
            "tags": [],
            "needs_background": "light"
          }
        }
      ]
    },
    {
      "cell_type": "code",
      "metadata": {
        "id": "isbDZvrqArjf",
        "colab": {
          "base_uri": "https://localhost:8080/",
          "height": 402
        },
        "outputId": "0bd94932-63d1-42b5-a5e8-a43208444bf0"
      },
      "source": [
        "vdf = [pd.Series(vader_y_pred),pd.Series(cnn_y_pred)]\n",
        "vdf = pd.concat(vdf,axis=1)\n",
        "vdf.columns = ['Vader','cnn']\n",
        "vdf"
      ],
      "execution_count": null,
      "outputs": [
        {
          "output_type": "execute_result",
          "data": {
            "text/html": [
              "<div>\n",
              "<style scoped>\n",
              "    .dataframe tbody tr th:only-of-type {\n",
              "        vertical-align: middle;\n",
              "    }\n",
              "\n",
              "    .dataframe tbody tr th {\n",
              "        vertical-align: top;\n",
              "    }\n",
              "\n",
              "    .dataframe thead th {\n",
              "        text-align: right;\n",
              "    }\n",
              "</style>\n",
              "<table border=\"1\" class=\"dataframe\">\n",
              "  <thead>\n",
              "    <tr style=\"text-align: right;\">\n",
              "      <th></th>\n",
              "      <th>Vader</th>\n",
              "      <th>cnn</th>\n",
              "    </tr>\n",
              "  </thead>\n",
              "  <tbody>\n",
              "    <tr>\n",
              "      <th>0</th>\n",
              "      <td>1</td>\n",
              "      <td>1</td>\n",
              "    </tr>\n",
              "    <tr>\n",
              "      <th>1</th>\n",
              "      <td>0</td>\n",
              "      <td>1</td>\n",
              "    </tr>\n",
              "    <tr>\n",
              "      <th>2</th>\n",
              "      <td>0</td>\n",
              "      <td>0</td>\n",
              "    </tr>\n",
              "    <tr>\n",
              "      <th>3</th>\n",
              "      <td>0</td>\n",
              "      <td>1</td>\n",
              "    </tr>\n",
              "    <tr>\n",
              "      <th>4</th>\n",
              "      <td>1</td>\n",
              "      <td>1</td>\n",
              "    </tr>\n",
              "    <tr>\n",
              "      <th>...</th>\n",
              "      <td>...</td>\n",
              "      <td>...</td>\n",
              "    </tr>\n",
              "    <tr>\n",
              "      <th>95</th>\n",
              "      <td>1</td>\n",
              "      <td>1</td>\n",
              "    </tr>\n",
              "    <tr>\n",
              "      <th>96</th>\n",
              "      <td>1</td>\n",
              "      <td>1</td>\n",
              "    </tr>\n",
              "    <tr>\n",
              "      <th>97</th>\n",
              "      <td>0</td>\n",
              "      <td>0</td>\n",
              "    </tr>\n",
              "    <tr>\n",
              "      <th>98</th>\n",
              "      <td>1</td>\n",
              "      <td>1</td>\n",
              "    </tr>\n",
              "    <tr>\n",
              "      <th>99</th>\n",
              "      <td>0</td>\n",
              "      <td>0</td>\n",
              "    </tr>\n",
              "  </tbody>\n",
              "</table>\n",
              "<p>100 rows × 2 columns</p>\n",
              "</div>"
            ],
            "text/plain": [
              "    Vader  cnn\n",
              "0       1    1\n",
              "1       0    1\n",
              "2       0    0\n",
              "3       0    1\n",
              "4       1    1\n",
              "..    ...  ...\n",
              "95      1    1\n",
              "96      1    1\n",
              "97      0    0\n",
              "98      1    1\n",
              "99      0    0\n",
              "\n",
              "[100 rows x 2 columns]"
            ]
          },
          "metadata": {
            "tags": []
          },
          "execution_count": 89
        }
      ]
    },
    {
      "cell_type": "code",
      "metadata": {
        "id": "GTsjoLEPA6oR",
        "colab": {
          "base_uri": "https://localhost:8080/"
        },
        "outputId": "1f9759d6-e4ac-430b-fac3-1319e09f8080"
      },
      "source": [
        "y_pred = vdf.mode(axis='columns', numeric_only=True)[0].tolist()\n",
        "print(classification_report(y_test, y_pred))"
      ],
      "execution_count": null,
      "outputs": [
        {
          "output_type": "stream",
          "text": [
            "              precision    recall  f1-score   support\n",
            "\n",
            "         0.0       0.64      0.88      0.74        56\n",
            "         1.0       0.70      0.36      0.48        44\n",
            "\n",
            "    accuracy                           0.65       100\n",
            "   macro avg       0.67      0.62      0.61       100\n",
            "weighted avg       0.66      0.65      0.62       100\n",
            "\n"
          ],
          "name": "stdout"
        }
      ]
    },
    {
      "cell_type": "code",
      "metadata": {
        "id": "QvOfPeyHCB1v",
        "colab": {
          "base_uri": "https://localhost:8080/",
          "height": 281
        },
        "outputId": "0684bc55-d29b-472a-c783-000b69ce7ad2"
      },
      "source": [
        "cm = confusion_matrix(y_test, y_pred)\n",
        "df_cm = pd.DataFrame(cm)\n",
        "show_confusion_matrix(df_cm)"
      ],
      "execution_count": null,
      "outputs": [
        {
          "output_type": "display_data",
          "data": {
            "image/png": "[encoded data removed]",
            "text/plain": [
              "<Figure size 432x288 with 2 Axes>"
            ]
          },
          "metadata": {
            "tags": [],
            "needs_background": "light"
          }
        }
      ]
    },
    {
      "cell_type": "code",
      "metadata": {
        "id": "_W0HPl27A9vN",
        "colab": {
          "base_uri": "https://localhost:8080/",
          "height": 402
        },
        "outputId": "b3d94d69-8092-4ad5-bc64-de4cc90507e8"
      },
      "source": [
        "vdf = [pd.Series(LR_y_pred),pd.Series(cnn_y_pred)]\n",
        "vdf = pd.concat(vdf,axis=1)\n",
        "vdf.columns = ['LR_predict','CNN']\n",
        "vdf"
      ],
      "execution_count": null,
      "outputs": [
        {
          "output_type": "execute_result",
          "data": {
            "text/html": [
              "<div>\n",
              "<style scoped>\n",
              "    .dataframe tbody tr th:only-of-type {\n",
              "        vertical-align: middle;\n",
              "    }\n",
              "\n",
              "    .dataframe tbody tr th {\n",
              "        vertical-align: top;\n",
              "    }\n",
              "\n",
              "    .dataframe thead th {\n",
              "        text-align: right;\n",
              "    }\n",
              "</style>\n",
              "<table border=\"1\" class=\"dataframe\">\n",
              "  <thead>\n",
              "    <tr style=\"text-align: right;\">\n",
              "      <th></th>\n",
              "      <th>LR_predict</th>\n",
              "      <th>CNN</th>\n",
              "    </tr>\n",
              "  </thead>\n",
              "  <tbody>\n",
              "    <tr>\n",
              "      <th>0</th>\n",
              "      <td>0</td>\n",
              "      <td>1</td>\n",
              "    </tr>\n",
              "    <tr>\n",
              "      <th>1</th>\n",
              "      <td>0</td>\n",
              "      <td>1</td>\n",
              "    </tr>\n",
              "    <tr>\n",
              "      <th>2</th>\n",
              "      <td>1</td>\n",
              "      <td>0</td>\n",
              "    </tr>\n",
              "    <tr>\n",
              "      <th>3</th>\n",
              "      <td>1</td>\n",
              "      <td>1</td>\n",
              "    </tr>\n",
              "    <tr>\n",
              "      <th>4</th>\n",
              "      <td>0</td>\n",
              "      <td>1</td>\n",
              "    </tr>\n",
              "    <tr>\n",
              "      <th>...</th>\n",
              "      <td>...</td>\n",
              "      <td>...</td>\n",
              "    </tr>\n",
              "    <tr>\n",
              "      <th>95</th>\n",
              "      <td>1</td>\n",
              "      <td>1</td>\n",
              "    </tr>\n",
              "    <tr>\n",
              "      <th>96</th>\n",
              "      <td>1</td>\n",
              "      <td>1</td>\n",
              "    </tr>\n",
              "    <tr>\n",
              "      <th>97</th>\n",
              "      <td>0</td>\n",
              "      <td>0</td>\n",
              "    </tr>\n",
              "    <tr>\n",
              "      <th>98</th>\n",
              "      <td>1</td>\n",
              "      <td>1</td>\n",
              "    </tr>\n",
              "    <tr>\n",
              "      <th>99</th>\n",
              "      <td>1</td>\n",
              "      <td>0</td>\n",
              "    </tr>\n",
              "  </tbody>\n",
              "</table>\n",
              "<p>100 rows × 2 columns</p>\n",
              "</div>"
            ],
            "text/plain": [
              "    LR_predict  CNN\n",
              "0            0    1\n",
              "1            0    1\n",
              "2            1    0\n",
              "3            1    1\n",
              "4            0    1\n",
              "..         ...  ...\n",
              "95           1    1\n",
              "96           1    1\n",
              "97           0    0\n",
              "98           1    1\n",
              "99           1    0\n",
              "\n",
              "[100 rows x 2 columns]"
            ]
          },
          "metadata": {
            "tags": []
          },
          "execution_count": 92
        }
      ]
    },
    {
      "cell_type": "code",
      "metadata": {
        "id": "Y8JscWPMBWe3",
        "colab": {
          "base_uri": "https://localhost:8080/"
        },
        "outputId": "c482c48e-d05c-4afd-9e6d-4258ea3f9f8a"
      },
      "source": [
        "y_pred = vdf.mode(axis='columns', numeric_only=True)[0].tolist()\n",
        "print(classification_report(y_test, y_pred))"
      ],
      "execution_count": null,
      "outputs": [
        {
          "output_type": "stream",
          "text": [
            "              precision    recall  f1-score   support\n",
            "\n",
            "         0.0       0.65      0.61      0.63        56\n",
            "         1.0       0.54      0.59      0.57        44\n",
            "\n",
            "    accuracy                           0.60       100\n",
            "   macro avg       0.60      0.60      0.60       100\n",
            "weighted avg       0.60      0.60      0.60       100\n",
            "\n"
          ],
          "name": "stdout"
        }
      ]
    },
    {
      "cell_type": "code",
      "metadata": {
        "id": "Dn0K2-CCCEha",
        "colab": {
          "base_uri": "https://localhost:8080/",
          "height": 285
        },
        "outputId": "a04e5229-37dc-4831-9dd6-8c4390def8a0"
      },
      "source": [
        "cm = confusion_matrix(y_test, y_pred)\n",
        "df_cm = pd.DataFrame(cm)\n",
        "show_confusion_matrix(df_cm)"
      ],
      "execution_count": null,
      "outputs": [
        {
          "output_type": "display_data",
          "data": {
            "image/png": "[encoded data removed]",
            "text/plain": [
              "<Figure size 432x288 with 2 Axes>"
            ]
          },
          "metadata": {
            "tags": [],
            "needs_background": "light"
          }
        }
      ]
    },
    {
      "cell_type": "code",
      "metadata": {
        "colab": {
          "base_uri": "https://localhost:8080/",
          "height": 402
        },
        "id": "6_VJAbfbBjNQ",
        "outputId": "255e20b6-a8d7-41ad-b099-e974506af9a6"
      },
      "source": [
        "vdf = [pd.Series(LR_y_pred),pd.Series(SVM_y_pred),pd.Series(vader_y_pred),pd.Series(cnn_y_pred)]\n",
        "vdf = pd.concat(vdf,axis=1)\n",
        "vdf.columns = ['LR_predict','SVM','Vader','CNN']\n",
        "vdf"
      ],
      "execution_count": null,
      "outputs": [
        {
          "output_type": "execute_result",
          "data": {
            "text/html": [
              "<div>\n",
              "<style scoped>\n",
              "    .dataframe tbody tr th:only-of-type {\n",
              "        vertical-align: middle;\n",
              "    }\n",
              "\n",
              "    .dataframe tbody tr th {\n",
              "        vertical-align: top;\n",
              "    }\n",
              "\n",
              "    .dataframe thead th {\n",
              "        text-align: right;\n",
              "    }\n",
              "</style>\n",
              "<table border=\"1\" class=\"dataframe\">\n",
              "  <thead>\n",
              "    <tr style=\"text-align: right;\">\n",
              "      <th></th>\n",
              "      <th>LR_predict</th>\n",
              "      <th>SVM</th>\n",
              "      <th>Vader</th>\n",
              "      <th>CNN</th>\n",
              "    </tr>\n",
              "  </thead>\n",
              "  <tbody>\n",
              "    <tr>\n",
              "      <th>0</th>\n",
              "      <td>0</td>\n",
              "      <td>0</td>\n",
              "      <td>1</td>\n",
              "      <td>1</td>\n",
              "    </tr>\n",
              "    <tr>\n",
              "      <th>1</th>\n",
              "      <td>0</td>\n",
              "      <td>1</td>\n",
              "      <td>0</td>\n",
              "      <td>1</td>\n",
              "    </tr>\n",
              "    <tr>\n",
              "      <th>2</th>\n",
              "      <td>1</td>\n",
              "      <td>1</td>\n",
              "      <td>0</td>\n",
              "      <td>0</td>\n",
              "    </tr>\n",
              "    <tr>\n",
              "      <th>3</th>\n",
              "      <td>1</td>\n",
              "      <td>1</td>\n",
              "      <td>0</td>\n",
              "      <td>1</td>\n",
              "    </tr>\n",
              "    <tr>\n",
              "      <th>4</th>\n",
              "      <td>0</td>\n",
              "      <td>1</td>\n",
              "      <td>1</td>\n",
              "      <td>1</td>\n",
              "    </tr>\n",
              "    <tr>\n",
              "      <th>...</th>\n",
              "      <td>...</td>\n",
              "      <td>...</td>\n",
              "      <td>...</td>\n",
              "      <td>...</td>\n",
              "    </tr>\n",
              "    <tr>\n",
              "      <th>95</th>\n",
              "      <td>1</td>\n",
              "      <td>1</td>\n",
              "      <td>1</td>\n",
              "      <td>1</td>\n",
              "    </tr>\n",
              "    <tr>\n",
              "      <th>96</th>\n",
              "      <td>1</td>\n",
              "      <td>1</td>\n",
              "      <td>1</td>\n",
              "      <td>1</td>\n",
              "    </tr>\n",
              "    <tr>\n",
              "      <th>97</th>\n",
              "      <td>0</td>\n",
              "      <td>0</td>\n",
              "      <td>0</td>\n",
              "      <td>0</td>\n",
              "    </tr>\n",
              "    <tr>\n",
              "      <th>98</th>\n",
              "      <td>1</td>\n",
              "      <td>1</td>\n",
              "      <td>1</td>\n",
              "      <td>1</td>\n",
              "    </tr>\n",
              "    <tr>\n",
              "      <th>99</th>\n",
              "      <td>1</td>\n",
              "      <td>1</td>\n",
              "      <td>0</td>\n",
              "      <td>0</td>\n",
              "    </tr>\n",
              "  </tbody>\n",
              "</table>\n",
              "<p>100 rows × 4 columns</p>\n",
              "</div>"
            ],
            "text/plain": [
              "    LR_predict  SVM  Vader  CNN\n",
              "0            0    0      1    1\n",
              "1            0    1      0    1\n",
              "2            1    1      0    0\n",
              "3            1    1      0    1\n",
              "4            0    1      1    1\n",
              "..         ...  ...    ...  ...\n",
              "95           1    1      1    1\n",
              "96           1    1      1    1\n",
              "97           0    0      0    0\n",
              "98           1    1      1    1\n",
              "99           1    1      0    0\n",
              "\n",
              "[100 rows x 4 columns]"
            ]
          },
          "metadata": {
            "tags": []
          },
          "execution_count": 125
        }
      ]
    },
    {
      "cell_type": "code",
      "metadata": {
        "colab": {
          "base_uri": "https://localhost:8080/"
        },
        "id": "RSxI8j3UEyay",
        "outputId": "a9374c1d-3312-4c73-a023-7e37d3d1ecd8"
      },
      "source": [
        "y_pred = vdf.mode(axis='columns', numeric_only=True)[0].tolist()\n",
        "print(classification_report(y_test, y_pred))"
      ],
      "execution_count": null,
      "outputs": [
        {
          "output_type": "stream",
          "text": [
            "              precision    recall  f1-score   support\n",
            "\n",
            "         0.0       0.66      0.59      0.62        56\n",
            "         1.0       0.54      0.61      0.57        44\n",
            "\n",
            "    accuracy                           0.60       100\n",
            "   macro avg       0.60      0.60      0.60       100\n",
            "weighted avg       0.61      0.60      0.60       100\n",
            "\n"
          ],
          "name": "stdout"
        }
      ]
    },
    {
      "cell_type": "code",
      "metadata": {
        "colab": {
          "base_uri": "https://localhost:8080/",
          "height": 281
        },
        "id": "ZfMa52NwE5pO",
        "outputId": "d69b939e-6a89-45f9-c292-71f01f0d27c9"
      },
      "source": [
        "cm = confusion_matrix(y_test, y_pred)\n",
        "df_cm = pd.DataFrame(cm)\n",
        "show_confusion_matrix(df_cm)"
      ],
      "execution_count": null,
      "outputs": [
        {
          "output_type": "display_data",
          "data": {
            "image/png": "[encoded data removed]",
            "text/plain": [
              "<Figure size 432x288 with 2 Axes>"
            ]
          },
          "metadata": {
            "tags": [],
            "needs_background": "light"
          }
        }
      ]
    },
    {
      "cell_type": "markdown",
      "metadata": {
        "id": "ihV2yyQAKi6u"
      },
      "source": [
        "# Using a good performing model strategy to label all data"
      ]
    },
    {
      "cell_type": "code",
      "metadata": {
        "id": "jAhHe7RtK0hZ"
      },
      "source": [
        "path = '/content/gdrive/My Drive/covid_mining/covid19_articles_20200914.csv'\n",
        "df = pd.read_csv(path,encoding='UTF-8')"
      ],
      "execution_count": null,
      "outputs": []
    },
    {
      "cell_type": "code",
      "metadata": {
        "id": "PJ2vKGGoJx4Z"
      },
      "source": [
        "#loading model\n",
        "filename = '/content/gdrive/My Drive/covid_mining/LR_model.h5'\n",
        "LR_model = pickle.load(open(filename, 'rb'))\n",
        "\n",
        "filename = '/content/gdrive/My Drive/covid_mining/SVM_model.h5'\n",
        "SVM_model = pickle.load(open(filename, 'rb'))\n",
        "\n",
        "def label_text(text,model,vect):\n",
        "    text = vect.transform([text])\n",
        "    return model.predict(text).flatten()[0]\n",
        "\n",
        "def label_prob(text,model,vect):\n",
        "    text = vect.transform([text])\n",
        "    return model.predict_proba(text).flatten()"
      ],
      "execution_count": null,
      "outputs": []
    },
    {
      "cell_type": "code",
      "metadata": {
        "colab": {
          "base_uri": "https://localhost:8080/"
        },
        "id": "OSYIrIdBOttK",
        "outputId": "ebffb5a5-8a6e-4066-f900-fc43052b112f"
      },
      "source": [
        "df.columns"
      ],
      "execution_count": null,
      "outputs": [
        {
          "output_type": "execute_result",
          "data": {
            "text/plain": [
              "Index(['Unnamed: 0', 'title', 'url', 'crawled_time', 'date', 'domain',\n",
              "       'author', 'content', 'topic_area'],\n",
              "      dtype='object')"
            ]
          },
          "metadata": {
            "tags": []
          },
          "execution_count": 25
        }
      ]
    },
    {
      "cell_type": "code",
      "metadata": {
        "colab": {
          "base_uri": "https://localhost:8080/",
          "height": 195
        },
        "id": "MtZqxZzYSwME",
        "outputId": "fcb341c0-e6af-435d-b57c-af822976970a"
      },
      "source": [
        "lab_df = df[['title','date','topic_area']].dropna()\n",
        "lab_df.columns = ['X','date','topic_area']\n",
        "lab_df[:5]"
      ],
      "execution_count": null,
      "outputs": [
        {
          "output_type": "execute_result",
          "data": {
            "text/html": [
              "<div>\n",
              "<style scoped>\n",
              "    .dataframe tbody tr th:only-of-type {\n",
              "        vertical-align: middle;\n",
              "    }\n",
              "\n",
              "    .dataframe tbody tr th {\n",
              "        vertical-align: top;\n",
              "    }\n",
              "\n",
              "    .dataframe thead th {\n",
              "        text-align: right;\n",
              "    }\n",
              "</style>\n",
              "<table border=\"1\" class=\"dataframe\">\n",
              "  <thead>\n",
              "    <tr style=\"text-align: right;\">\n",
              "      <th></th>\n",
              "      <th>X</th>\n",
              "      <th>date</th>\n",
              "      <th>topic_area</th>\n",
              "    </tr>\n",
              "  </thead>\n",
              "  <tbody>\n",
              "    <tr>\n",
              "      <th>0</th>\n",
              "      <td>Three Industrial Giants You Should Own In 2020</td>\n",
              "      <td>2020-01-02</td>\n",
              "      <td>business</td>\n",
              "    </tr>\n",
              "    <tr>\n",
              "      <th>1</th>\n",
              "      <td>Tesla (TSLA) Breaks Shipment Record, Beats Est...</td>\n",
              "      <td>2020-01-03</td>\n",
              "      <td>business</td>\n",
              "    </tr>\n",
              "    <tr>\n",
              "      <th>2</th>\n",
              "      <td>Labor Stocks Are Going To Break Out In 2020</td>\n",
              "      <td>2020-01-03</td>\n",
              "      <td>business</td>\n",
              "    </tr>\n",
              "    <tr>\n",
              "      <th>3</th>\n",
              "      <td>Cal-Maine Just Shed 12% - But Is Now The Time ...</td>\n",
              "      <td>2020-01-06</td>\n",
              "      <td>business</td>\n",
              "    </tr>\n",
              "    <tr>\n",
              "      <th>4</th>\n",
              "      <td>China pneumonia outbreak: It's not SARS, so wh...</td>\n",
              "      <td>2020-01-06</td>\n",
              "      <td>business</td>\n",
              "    </tr>\n",
              "  </tbody>\n",
              "</table>\n",
              "</div>"
            ],
            "text/plain": [
              "                                                   X        date topic_area\n",
              "0     Three Industrial Giants You Should Own In 2020  2020-01-02   business\n",
              "1  Tesla (TSLA) Breaks Shipment Record, Beats Est...  2020-01-03   business\n",
              "2        Labor Stocks Are Going To Break Out In 2020  2020-01-03   business\n",
              "3  Cal-Maine Just Shed 12% - But Is Now The Time ...  2020-01-06   business\n",
              "4  China pneumonia outbreak: It's not SARS, so wh...  2020-01-06   business"
            ]
          },
          "metadata": {
            "tags": []
          },
          "execution_count": 26
        }
      ]
    },
    {
      "cell_type": "code",
      "metadata": {
        "colab": {
          "base_uri": "https://localhost:8080/"
        },
        "id": "ceMbEP78TvTr",
        "outputId": "24a96652-6761-4862-caee-07329faef104"
      },
      "source": [
        "#split the file by month first, otherwise the file is too large to process\n",
        "for x in range(1,10):\n",
        "  mon = '0'+str(x)\n",
        "  mon_df = lab_df[lab_df['date'].apply(lambda x:x[5:7]) == mon]\n",
        "  print(mon_df[:5])\n",
        "  path = '/content/gdrive/My Drive/covid_mining/'+ str(x) +'_sentiment.csv'\n",
        "  mon_df.to_csv(path)"
      ],
      "execution_count": null,
      "outputs": [
        {
          "output_type": "stream",
          "text": [
            "                                                   X        date topic_area\n",
            "0     Three Industrial Giants You Should Own In 2020  2020-01-02   business\n",
            "1  Tesla (TSLA) Breaks Shipment Record, Beats Est...  2020-01-03   business\n",
            "2        Labor Stocks Are Going To Break Out In 2020  2020-01-03   business\n",
            "3  Cal-Maine Just Shed 12% - But Is Now The Time ...  2020-01-06   business\n",
            "4  China pneumonia outbreak: It's not SARS, so wh...  2020-01-06   business\n",
            "                                                      X        date topic_area\n",
            "1953  Eighth US case of new coronavirus confirmed in...  2020-02-01    finance\n",
            "1954  Japan seeks to contain economic impact of viru...  2020-02-01   business\n",
            "1955  Coronavirus just starting to have an impact on...  2020-02-01    finance\n",
            "1956  India announces $40 billion spending on farms,...  2020-02-01   business\n",
            "1957  India's govt to spend $40 billion on farm sect...  2020-02-01   business\n",
            "                                                      X        date topic_area\n",
            "9714  UPDATE 1-Iran's death toll from coronavirus ju...  2020-03-01    finance\n",
            "9715  Surgeon general wants you to stop buying masks...  2020-03-01   business\n",
            "9716  Costco, Target, Zoom Video, and Other Stocks f...  2020-03-01   business\n",
            "9717  Washington state: Two dead, 13 positive cases ...  2020-03-01    general\n",
            "9718  Elon Musk, Larry Ellison Bought Tesla. Then Co...  2020-03-01   business\n",
            "                                                       X        date topic_area\n",
            "50053  The best alternatives to Zoom for videoconfere...  2020-04-01       tech\n",
            "50054                            Saying ‘I do’ over Zoom  2020-04-01       tech\n",
            "50055  AT&T appoints former Hulu chief as new WarnerM...  2020-04-01       tech\n",
            "50056  Grief support systems have been wrecked by COV...  2020-04-01       tech\n",
            "50057  Apple Card holders can skip April payments wit...  2020-04-01       tech\n",
            "                                                       X        date topic_area\n",
            "92534  Guardian Capital Group Limited : Announces Arr...  2020-05-01   business\n",
            "92535  Mediobanca drops plan to buy a stake in Indone...  2020-05-01   business\n",
            "92536  COVID-19 In Singapore: A Fake News Frenzy | Ma...  2020-05-01   business\n",
            "92537  Office Properties Income Trust : Announces Fir...  2020-05-01   business\n",
            "92538  Ionis Pharmaceuticals : to host 2020 virtual a...  2020-05-01   business\n",
            "                                                        X  ... topic_area\n",
            "136195  Thousands in New Zealand protest against Georg...  ...    general\n",
            "136196  Pro-Trump donors in huge cash drive to boost d...  ...    general\n",
            "136197  America's seniors ebb away from Trump as coron...  ...    general\n",
            "136198  China says it's ditching GDP targets. That cou...  ...    general\n",
            "136199  To prevent a chaotic end to lockdown, the publ...  ...    general\n",
            "\n",
            "[5 rows x 3 columns]\n",
            "                                                        X  ... topic_area\n",
            "175531  Office Depot's Stock Just Jumped -- But You Wo...  ...   business\n",
            "175532  Square, Wayfair Ride the Stock Market's E-Comm...  ...   business\n",
            "175533  European stocks log modest gains as the quarte...  ...   business\n",
            "175534         Is Qualcomm Stock a Buy? | The Motley Fool  ...   business\n",
            "175535  Elon Musk Stays True to His Word: Tesla Raises...  ...   business\n",
            "\n",
            "[5 rows x 3 columns]\n",
            "                                                        X  ... topic_area\n",
            "243295  Grifols : 2020 first half consolidated interim...  ...   business\n",
            "243296  Pharming N : Group reports financial results f...  ...   business\n",
            "243297  Southwest Airlines : Airlines, unions pin hope...  ...   business\n",
            "243298  LATAM Airlines S A : set to fire at least 2,70...  ...   business\n",
            "243299  Ionic Rare Earths : QUARTERLY REPORT FOR THE P...  ...   business\n",
            "\n",
            "[5 rows x 3 columns]\n",
            "                                                        X  ... topic_area\n",
            "273937  Samsung eyes new opportunities as pandemic ign...  ...   business\n",
            "273938  Horse racing: Tiz the Law arrives, Art Collect...  ...   business\n",
            "273939  US Open 2020: Osaka passes Doi test and Plisko...  ...   business\n",
            "273940  The future of sports TV coverage? Eurosport un...  ...   business\n",
            "273941  U.S. employment projected to increase six mill...  ...   business\n",
            "\n",
            "[5 rows x 3 columns]\n"
          ],
          "name": "stdout"
        }
      ]
    },
    {
      "cell_type": "code",
      "metadata": {
        "id": "qjP7VxWathLa"
      },
      "source": [
        "#split july into 4 file, because july still has too much data\n",
        "path = '/content/gdrive/My Drive/covid_mining/7_sentiment.csv'\n",
        "jul_df = pd.read_csv(path,encoding='UTF-8')\n",
        "jul_df1 = jul_df[:20000]\n",
        "pathout = '/content/gdrive/My Drive/covid_mining/7_1_sentiment.csv'\n",
        "jul_df1.to_csv(pathout)"
      ],
      "execution_count": null,
      "outputs": []
    },
    {
      "cell_type": "code",
      "metadata": {
        "id": "k4SKPemVvqnt"
      },
      "source": [
        "jul_df2 = jul_df[20000:40000]\n",
        "pathout = '/content/gdrive/My Drive/covid_mining/7_2_sentiment.csv'\n",
        "jul_df2.to_csv(pathout)"
      ],
      "execution_count": null,
      "outputs": []
    },
    {
      "cell_type": "code",
      "metadata": {
        "id": "nk8lTShZvxH_"
      },
      "source": [
        "jul_df3 = jul_df[40000:60000]\n",
        "pathout = '/content/gdrive/My Drive/covid_mining/7_3_sentiment.csv'\n",
        "jul_df3.to_csv(pathout)"
      ],
      "execution_count": null,
      "outputs": []
    },
    {
      "cell_type": "code",
      "metadata": {
        "id": "zKmrv_cxv-EI"
      },
      "source": [
        "jul_df4 = jul_df[60000:]\n",
        "pathout = '/content/gdrive/My Drive/covid_mining/7_4_sentiment.csv'\n",
        "jul_df4.to_csv(pathout)"
      ],
      "execution_count": null,
      "outputs": []
    },
    {
      "cell_type": "code",
      "metadata": {
        "colab": {
          "base_uri": "https://localhost:8080/"
        },
        "id": "GwApJlISX0Jg",
        "outputId": "b24d2590-cc50-4fe7-dd24-9f8bdde32b3e"
      },
      "source": [
        "# label all data by file\n",
        "for i in ['1','2','3','4','5','6','7_1','7_2','7_3','7_4','8','9']:\n",
        "  # open and read files\n",
        "  pathin = '/content/gdrive/My Drive/covid_mining/'+ str(i) +'_sentiment.csv'\n",
        "  pathout = '/content/gdrive/My Drive/covid_mining/'+ str(i) +'_sentiment_labled.csv'\n",
        "  print('start'+str(i))\n",
        "  lab_df = pd.read_csv(pathin,encoding='UTF-8')\n",
        "  # use the combination of LR, vader, CNN to label data\n",
        "  LR_lab = [label_text(x,LR_model,count_vect) for x in lab_df.X]\n",
        "  vader_lab = label_vader(lab_df.X.tolist())\n",
        "  cnn_lab = [cnn_label_text(x,model_load,cnn_tokenizer) for x in lab_df.X]\n",
        "  print('label done'+str(i))\n",
        "  # use the hard vote result as final label\n",
        "  lab = [pd.Series(LR_lab),pd.Series(vader_lab),pd.Series(cnn_lab)]\n",
        "  lab = pd.concat(lab,axis=1)\n",
        "  lab.columns = ['LR_predict','Vader','CNN']\n",
        "  lables = lab.mode(axis='columns', numeric_only=True)[0].tolist()\n",
        "  # add label\n",
        "  lab_df['sen_label'] = lables\n",
        "  print(lab_df[:5])\n",
        "  # output to file\n",
        "  lab_df.to_csv(pathout)"
      ],
      "execution_count": null,
      "outputs": [
        {
          "output_type": "stream",
          "text": [
            "start7_1\n",
            "lable done7_1\n",
            "   Unnamed: 0  Unnamed: 0.1  ... topic_area sen_label\n",
            "0           0        175531  ...   business         0\n",
            "1           1        175532  ...   business         0\n",
            "2           2        175533  ...   business         0\n",
            "3           3        175534  ...   business         0\n",
            "4           4        175535  ...   business         1\n",
            "\n",
            "[5 rows x 6 columns]\n",
            "start7_2\n",
            "lable done7_2\n",
            "   Unnamed: 0  Unnamed: 0.1  ... topic_area sen_label\n",
            "0       20000        195531  ...   business         0\n",
            "1       20001        195532  ...   business         0\n",
            "2       20002        195533  ...   business         0\n",
            "3       20003        195534  ...   business         0\n",
            "4       20004        195535  ...   business         0\n",
            "\n",
            "[5 rows x 6 columns]\n",
            "start7_3\n",
            "lable done7_3\n",
            "   Unnamed: 0  Unnamed: 0.1  ... topic_area sen_label\n",
            "0       40000        215531  ...   business         1\n",
            "1       40001        215532  ...   business         0\n",
            "2       40002        215533  ...   business         0\n",
            "3       40003        215534  ...   business         0\n",
            "4       40004        215535  ...   business         0\n",
            "\n",
            "[5 rows x 6 columns]\n",
            "start7_4\n",
            "lable done7_4\n",
            "   Unnamed: 0  Unnamed: 0.1  ... topic_area sen_label\n",
            "0       60000        235531  ...   business         1\n",
            "1       60001        235532  ...   business         1\n",
            "2       60002        235533  ...   business         0\n",
            "3       60003        235534  ...   business         1\n",
            "4       60004        235535  ...   business         1\n",
            "\n",
            "[5 rows x 6 columns]\n",
            "start8\n",
            "lable done8\n",
            "   Unnamed: 0  ... sen_label\n",
            "0      243295  ...         0\n",
            "1      243296  ...         0\n",
            "2      243297  ...         0\n",
            "3      243298  ...         0\n",
            "4      243299  ...         1\n",
            "\n",
            "[5 rows x 5 columns]\n",
            "start9\n",
            "lable done9\n",
            "   Unnamed: 0  ... sen_label\n",
            "0      273937  ...         1\n",
            "1      273938  ...         0\n",
            "2      273939  ...         0\n",
            "3      273940  ...         1\n",
            "4      273941  ...         1\n",
            "\n",
            "[5 rows x 5 columns]\n"
          ],
          "name": "stdout"
        }
      ]
    },
    {
      "cell_type": "code",
      "metadata": {
        "id": "WlC0nOu3wNgw"
      },
      "source": [
        ""
      ],
      "execution_count": null,
      "outputs": []
    }
  ]
}